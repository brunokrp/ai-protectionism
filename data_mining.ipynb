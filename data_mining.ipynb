{
  "cells": [
    {
      "cell_type": "markdown",
      "metadata": {
        "id": "view-in-github",
        "colab_type": "text"
      },
      "source": [
        "<a href=\"https://colab.research.google.com/github/brunokrp/ai-protectionism/blob/main/data_mining.ipynb\" target=\"_parent\"><img src=\"https://colab.research.google.com/assets/colab-badge.svg\" alt=\"Open In Colab\"/></a>"
      ]
    },
    {
      "cell_type": "markdown",
      "source": [
        "# **DATA MINING**\n",
        "\n",
        "This notebook contains the code used to webscrap data from the Global Trade Alert. Since the datasets downloaded from the website do not contain the full description of each intervention, this script was created to parse through the webpage from each intervention and extract its content.\n",
        "\n",
        "*This process is not optimized yet and is time consuming (8+ hours), so beware of running the following commands.*"
      ],
      "metadata": {
        "id": "x81ELS9Cp7fW"
      }
    },
    {
      "cell_type": "markdown",
      "metadata": {
        "id": "YFN1XUNB6fEq"
      },
      "source": [
        "## **SETTING ENVIRONMENT**"
      ]
    },
    {
      "cell_type": "markdown",
      "source": [
        "#### **Installing libraries, importing them and connecting to Google Drive**"
      ],
      "metadata": {
        "id": "UR6InovMsK4x"
      }
    },
    {
      "cell_type": "code",
      "execution_count": null,
      "metadata": {
        "id": "6u2G-DC06oxA"
      },
      "outputs": [],
      "source": [
        "from urllib.request import urlopen\n",
        "from bs4 import BeautifulSoup\n",
        "\n",
        "from pathlib import Path\n",
        "import glob\n",
        "\n",
        "import pandas as pd\n",
        "import string\n",
        "import re\n",
        "import csv"
      ]
    },
    {
      "cell_type": "code",
      "execution_count": null,
      "metadata": {
        "id": "QYJAcjG76u6x"
      },
      "outputs": [],
      "source": [
        "from google.colab import drive\n",
        "drive.mount('/content/drive')\n",
        "\n",
        "%cd /content/drive/MyDrive/[\"Google Drive Folder here\"]"
      ]
    },
    {
      "cell_type": "markdown",
      "metadata": {
        "id": "YA4L_DLl60Kd"
      },
      "source": [
        "## **MINING DESCRIPTIONS**"
      ]
    },
    {
      "cell_type": "markdown",
      "source": [
        "#### **Loading base GPA dataset, mining descriptions from the web and saving into a new dataset**"
      ],
      "metadata": {
        "id": "n0MID0vdtMU4"
      }
    },
    {
      "cell_type": "code",
      "execution_count": null,
      "metadata": {
        "id": "edR9bx8Q6YlF"
      },
      "outputs": [],
      "source": [
        "# Loading data downloaded from the GTA website\n",
        "list_interventions = pd.read_csv(\"gta_interventions.csv\")"
      ]
    },
    {
      "cell_type": "code",
      "execution_count": null,
      "metadata": {
        "colab": {
          "background_save": true
        },
        "id": "lYhPzk8Y7fMK"
      },
      "outputs": [],
      "source": [
        "# Opening a csv file, checking each url, getting intervention description and writing descriptions into the csv\n",
        "with open('gta_all_descriptions.csv','w', newline='') as file:\n",
        "  writer = csv.writer(file)\n",
        "  writer.writerow(['ID','Description'])\n",
        "  for index, url in enumerate(list_interventions[\"Intervention Link\"]):\n",
        "    html = urlopen(url).read()\n",
        "    soup = BeautifulSoup(html, features=\"html.parser\")\n",
        "    for sp in soup.find_all(\"div\",class_=\"intervention_description\"):\n",
        "        writer.writerow([url,sp.text])\n",
        "    print(index)"
      ]
    },
    {
      "cell_type": "code",
      "execution_count": null,
      "metadata": {
        "id": "Y_VeSIkmr44M"
      },
      "outputs": [],
      "source": [
        "# Opening dataset and checking length\n",
        "list_descriptions = pd.read_csv(\"gta_all_descriptions.csv\")\n",
        "len(list_descriptions)"
      ]
    }
  ],
  "metadata": {
    "colab": {
      "provenance": [],
      "authorship_tag": "ABX9TyOWlxKf2JzKmoGEi6/qZ95k",
      "include_colab_link": true
    },
    "kernelspec": {
      "display_name": "Python 3",
      "name": "python3"
    },
    "language_info": {
      "name": "python"
    }
  },
  "nbformat": 4,
  "nbformat_minor": 0
}