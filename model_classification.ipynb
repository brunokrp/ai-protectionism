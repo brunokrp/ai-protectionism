{
  "nbformat": 4,
  "nbformat_minor": 0,
  "metadata": {
    "colab": {
      "provenance": [],
      "collapsed_sections": [
        "3UdoM22bJIqb",
        "wfwOokMWIqZJ",
        "HPRs7BxR79-8",
        "yTxP6PCqBKh2",
        "iGtF4WFyVoxF",
        "mVCLQvWMzWJ6",
        "fgZnD__399AZ"
      ],
      "private_outputs": true,
      "authorship_tag": "ABX9TyP1RHnoqK6ONNMohypQILiO",
      "include_colab_link": true
    },
    "kernelspec": {
      "name": "python3",
      "display_name": "Python 3"
    },
    "language_info": {
      "name": "python"
    }
  },
  "cells": [
    {
      "cell_type": "markdown",
      "metadata": {
        "id": "view-in-github",
        "colab_type": "text"
      },
      "source": [
        "<a href=\"https://colab.research.google.com/github/brunokrp/ai-protectionism/blob/main/model_classification.ipynb\" target=\"_parent\"><img src=\"https://colab.research.google.com/assets/colab-badge.svg\" alt=\"Open In Colab\"/></a>"
      ]
    },
    {
      "cell_type": "markdown",
      "source": [
        "# **Identifying protectionism through a text classification model**"
      ],
      "metadata": {
        "id": "QMFjPO17VPMG"
      }
    },
    {
      "cell_type": "markdown",
      "source": [
        "## **SETTING UP ENVIROMENT**"
      ],
      "metadata": {
        "id": "P3ttsOj5I7cJ"
      }
    },
    {
      "cell_type": "code",
      "source": [
        "# Installing libraries\n",
        "!pip install transformers datasets evaluate accelerate\n",
        "!pip install mapclassify"
      ],
      "metadata": {
        "id": "Myq7JHyfNJYJ",
        "collapsed": true
      },
      "execution_count": null,
      "outputs": []
    },
    {
      "cell_type": "code",
      "source": [
        "# Importing libraries\n",
        "from pathlib import Path\n",
        "\n",
        "import pandas as pd\n",
        "import string\n",
        "\n",
        "import spacy\n",
        "from spacy.lang.en.stop_words import STOP_WORDS\n",
        "\n",
        "import nltk\n",
        "from nltk.tokenize import word_tokenize\n",
        "from nltk.corpus import wordnet\n",
        "from nltk.corpus import stopwords\n",
        "from nltk.stem import WordNetLemmatizer\n",
        "from nltk import pos_tag\n",
        "nltk.download('punkt')\n",
        "nltk.download('punkt_tab')\n",
        "nltk.download('stopwords')\n",
        "nltk.download('averaged_perceptron_tagger_eng')\n",
        "nltk.download('wordnet')\n",
        "\n",
        "import sklearn as skl\n",
        "from sklearn.feature_extraction.text import TfidfVectorizer\n",
        "from sklearn.feature_extraction.text import CountVectorizer\n",
        "from sklearn.preprocessing import MinMaxScaler\n",
        "from sklearn.model_selection import train_test_split\n",
        "\n",
        "import seaborn\n",
        "import geopandas as gpd\n",
        "import numpy as np\n",
        "\n",
        "from datasets import Dataset, DatasetDict\n",
        "\n",
        "from transformers import AutoTokenizer\n",
        "tokenizer = AutoTokenizer.from_pretrained(\"distilbert/distilbert-base-uncased\")\n",
        "\n",
        "import folium\n",
        "from shapely.geometry import Point, Polygon\n",
        "from folium.plugins import HeatMap\n",
        "from mapclassify import classify\n",
        "import geopandas"
      ],
      "metadata": {
        "id": "mKMttAmqI7PR",
        "collapsed": true
      },
      "execution_count": null,
      "outputs": []
    },
    {
      "cell_type": "code",
      "source": [
        "from huggingface_hub import notebook_login\n",
        "\n",
        "notebook_login()"
      ],
      "metadata": {
        "id": "L4SnzB4bByhK"
      },
      "execution_count": null,
      "outputs": []
    },
    {
      "cell_type": "code",
      "source": [
        "from google.colab import drive\n",
        "drive.mount('/content/drive')"
      ],
      "metadata": {
        "id": "wFPe-bPNJDor"
      },
      "execution_count": null,
      "outputs": []
    },
    {
      "cell_type": "code",
      "source": [
        "%cd /content/drive/MyDrive/\"AI INDUSTRIAL POLICY\"/\"SIPA_TEXT\"/\"GTA-MINING\""
      ],
      "metadata": {
        "id": "xnZ8UXTpqMw0"
      },
      "execution_count": null,
      "outputs": []
    },
    {
      "cell_type": "markdown",
      "source": [
        "## **PREPROCESSING DATA**"
      ],
      "metadata": {
        "id": "3UdoM22bJIqb"
      }
    },
    {
      "cell_type": "code",
      "source": [
        "df = pd.read_csv(\"interventions_with_descriptions_total.csv\", index_col=\"Unnamed: 0\")"
      ],
      "metadata": {
        "id": "RCEJOH27JP3j"
      },
      "execution_count": null,
      "outputs": []
    },
    {
      "cell_type": "code",
      "source": [
        "df_categories = df.copy()"
      ],
      "metadata": {
        "id": "IoNszTkI96bK"
      },
      "execution_count": null,
      "outputs": []
    },
    {
      "cell_type": "code",
      "source": [
        "def protectionist_label(description):\n",
        "  if description == 'Green':\n",
        "    return 0\n",
        "  elif description == 'Amber':\n",
        "    return 0\n",
        "  else:\n",
        "    return 1"
      ],
      "metadata": {
        "id": "amyx9-fQJ_4K"
      },
      "execution_count": null,
      "outputs": []
    },
    {
      "cell_type": "code",
      "source": [
        "df_categories['label'] = df_categories['Gta Evaluation'].apply(protectionist_label)"
      ],
      "metadata": {
        "id": "HiA1eBa4J_1X"
      },
      "execution_count": null,
      "outputs": []
    },
    {
      "cell_type": "code",
      "source": [
        "df_categories['label'].value_counts()"
      ],
      "metadata": {
        "id": "Lpfxn6hQ81oE"
      },
      "execution_count": null,
      "outputs": []
    },
    {
      "cell_type": "code",
      "source": [
        "df_categories['Gta Evaluation'].value_counts()"
      ],
      "metadata": {
        "id": "HcNq7INu9EzB"
      },
      "execution_count": null,
      "outputs": []
    },
    {
      "cell_type": "markdown",
      "source": [
        "## **MODEL TRAINING**"
      ],
      "metadata": {
        "id": "wfwOokMWIqZJ"
      }
    },
    {
      "cell_type": "markdown",
      "source": [
        "### Test and training data"
      ],
      "metadata": {
        "id": "HPRs7BxR79-8"
      }
    },
    {
      "cell_type": "code",
      "source": [
        "df_categories_clean = df_categories[['Description', 'label']]"
      ],
      "metadata": {
        "id": "cwmYvQ7CIw6x"
      },
      "execution_count": null,
      "outputs": []
    },
    {
      "cell_type": "code",
      "source": [
        "X_train, X_test, y_train, y_test = train_test_split(df_categories_clean['Description'], df_categories_clean['label'], test_size=0.33, random_state=42)"
      ],
      "metadata": {
        "id": "FXsR00tqS_9P"
      },
      "execution_count": null,
      "outputs": []
    },
    {
      "cell_type": "code",
      "source": [
        "df_train_x = pd.DataFrame(X_train)\n",
        "df_train_y = pd.DataFrame(y_train)\n",
        "df_train = df_train_x.join(df_train_y).reset_index(drop=True)"
      ],
      "metadata": {
        "id": "Sj5KMRTuUUh3"
      },
      "execution_count": null,
      "outputs": []
    },
    {
      "cell_type": "code",
      "source": [
        "df_test_x = pd.DataFrame(X_test)\n",
        "df_test_y = pd.DataFrame(y_test)\n",
        "df_test = df_test_x.join(df_test_y).reset_index(drop=True)"
      ],
      "metadata": {
        "id": "hlJdRR-XUUZk"
      },
      "execution_count": null,
      "outputs": []
    },
    {
      "cell_type": "code",
      "source": [
        "# Convert DataFrame to Dataset\n",
        "train_dataset = Dataset.from_pandas(df_train)\n",
        "test_dataset = Dataset.from_pandas(df_test)\n",
        "\n",
        "# Create a DatasetDict\n",
        "dataset_dict = DatasetDict({'train': train_dataset, 'test': test_dataset})"
      ],
      "metadata": {
        "id": "4xHlueXMUW9N"
      },
      "execution_count": null,
      "outputs": []
    },
    {
      "cell_type": "markdown",
      "source": [
        "### Training"
      ],
      "metadata": {
        "id": "yTxP6PCqBKh2"
      }
    },
    {
      "cell_type": "code",
      "source": [
        "def preprocess_function(examples):\n",
        "    return tokenizer(examples['Description'], truncation=True)"
      ],
      "metadata": {
        "id": "EVdwUqDDLdj3"
      },
      "execution_count": null,
      "outputs": []
    },
    {
      "cell_type": "code",
      "source": [
        "tokenized_df = dataset_dict.map(preprocess_function, batched=True)"
      ],
      "metadata": {
        "id": "Db4bMQPnLiRz"
      },
      "execution_count": null,
      "outputs": []
    },
    {
      "cell_type": "code",
      "source": [
        "from transformers import DataCollatorWithPadding\n",
        "data_collator = DataCollatorWithPadding(tokenizer=tokenizer)"
      ],
      "metadata": {
        "id": "FG35e_8WNc6J"
      },
      "execution_count": null,
      "outputs": []
    },
    {
      "cell_type": "code",
      "source": [
        "import evaluate\n",
        "f1_score = evaluate.load(\"f1\")"
      ],
      "metadata": {
        "id": "cAlOocVvQIu_"
      },
      "execution_count": null,
      "outputs": []
    },
    {
      "cell_type": "code",
      "source": [
        "def compute_metrics(eval_pred):\n",
        "    predictions, labels = eval_pred\n",
        "    predictions = np.argmax(predictions, axis=1)\n",
        "    return f1_score.compute(predictions=predictions, references=labels)"
      ],
      "metadata": {
        "id": "yCR5Ccu2QKVd"
      },
      "execution_count": null,
      "outputs": []
    },
    {
      "cell_type": "code",
      "source": [
        "id2label = {0: \"NEGATIVE\", 1: \"POSITIVE\"}\n",
        "label2id = {\"NEGATIVE\": 0, \"POSITIVE\": 1}"
      ],
      "metadata": {
        "id": "EdW3MhUrQNDp"
      },
      "execution_count": null,
      "outputs": []
    },
    {
      "cell_type": "code",
      "source": [
        "from transformers import AutoModelForSequenceClassification, TrainingArguments, Trainer\n",
        "\n",
        "model = AutoModelForSequenceClassification.from_pretrained(\n",
        "    \"distilbert/distilbert-base-uncased\", num_labels=2, id2label=id2label, label2id=label2id\n",
        ")"
      ],
      "metadata": {
        "id": "wQeRYVheQUPk"
      },
      "execution_count": null,
      "outputs": []
    },
    {
      "cell_type": "code",
      "source": [
        "training_args = TrainingArguments(\n",
        "    output_dir=\"classification_model_protectionism\",\n",
        "    learning_rate=2e-5,\n",
        "    per_device_train_batch_size=16,\n",
        "    per_device_eval_batch_size=16,\n",
        "    num_train_epochs=5,\n",
        "    weight_decay=0.01,\n",
        "    eval_strategy=\"epoch\",\n",
        "    save_strategy=\"epoch\",\n",
        "    load_best_model_at_end=True,\n",
        "    push_to_hub=True\n",
        ")\n",
        "\n",
        "trainer = Trainer(\n",
        "    model=model,\n",
        "    args=training_args,\n",
        "    train_dataset=tokenized_df[\"train\"],\n",
        "    eval_dataset=tokenized_df[\"test\"],\n",
        "    processing_class=tokenizer,\n",
        "    data_collator=data_collator,\n",
        "    compute_metrics=compute_metrics,\n",
        ")\n",
        "\n",
        "trainer.train()"
      ],
      "metadata": {
        "id": "M2D_PvYWQaG9",
        "collapsed": true
      },
      "execution_count": null,
      "outputs": []
    },
    {
      "cell_type": "markdown",
      "source": [
        "### Loading GPA dataset"
      ],
      "metadata": {
        "id": "KWarNJFihXTN"
      }
    },
    {
      "cell_type": "code",
      "source": [
        "%cd /content/drive/MyDrive/\"AI INDUSTRIAL POLICY\"/\"SIPA_TEXT\"\n",
        "\n",
        "digital_policies_df = pd.read_csv(\"digital_policies.csv\")\n",
        "digital_policies_df.drop_duplicates(subset=['Latest Event Description'], inplace=True)\n",
        "ai_policies_df = digital_policies_df[(digital_policies_df['Economic Activities'].str.contains('ML and AI development|Semiconductors|cloud computing') == True)].reset_index()\n",
        "ai_policies_df_per_country = ai_policies_df.assign(countries=ai_policies_df['Implementing Countries'].str.split(', ')).explode('countries').reset_index(drop=True)\n",
        "\n",
        "cc_df = pd.read_csv('country_continent.csv')\n",
        "cc_df = cc_df.rename(columns={'country':'countries'})\n",
        "\n",
        "%cd /content/drive/MyDrive/\"AI INDUSTRIAL POLICY\"/\"SIPA_TEXT\"/\"GTA-MINING\""
      ],
      "metadata": {
        "id": "lrCrHs8BhiHk"
      },
      "execution_count": null,
      "outputs": []
    },
    {
      "cell_type": "markdown",
      "source": [
        "## **INFERENCE AND RESULTS**"
      ],
      "metadata": {
        "id": "iGtF4WFyVoxF"
      }
    },
    {
      "cell_type": "markdown",
      "source": [
        "### Inference"
      ],
      "metadata": {
        "id": "0kxiF_05Bf6g"
      }
    },
    {
      "cell_type": "code",
      "source": [
        "from transformers import pipeline\n",
        "\n",
        "classifier = pipeline(\"text-classification\", model=\"brunokrp/classification_model_protectionism\")"
      ],
      "metadata": {
        "id": "LAaUxkl14VX3"
      },
      "execution_count": null,
      "outputs": []
    },
    {
      "cell_type": "code",
      "source": [
        "predictions = []\n",
        "\n",
        "for text in ai_policies_df_per_country[\"Latest Event Description\"]:\n",
        "  predictions.append(classifier(text))"
      ],
      "metadata": {
        "id": "juXMCkhv8_q3",
        "collapsed": true
      },
      "execution_count": null,
      "outputs": []
    },
    {
      "cell_type": "code",
      "source": [
        "prediction_df = pd.DataFrame([item[0] for item in predictions])\n",
        "ai_policies_df_per_country_with_labels = ai_policies_df_per_country.join(prediction_df)\n",
        "ai_policies_df_per_country_with_labels = pd.merge(ai_policies_df_per_country_with_labels,cc_df,on='countries').drop_duplicates()\n",
        "ai_policies_df_per_country_with_labels[\"label\"] = ai_policies_df_per_country_with_labels[\"label\"].replace({'NEGATIVE': 0, 'POSITIVE': 1})\n",
        "ai_policies_df_per_country_with_labels = ai_policies_df_per_country_with_labels.drop_duplicates(subset=[\"Policy Change ID\", \"region_1\"])\n",
        "policies_per_region_label = ai_policies_df_per_country_with_labels[[\"region_1\", \"label\"]]\n",
        "policies_per_region_label = policies_per_region_label.groupby(['region_1']).agg(['count','mean']).reset_index()\n",
        "policies_per_region_label.columns = ['_'.join(col) for col in policies_per_region_label.columns]"
      ],
      "metadata": {
        "id": "FZJr1Z3Zbrvm"
      },
      "execution_count": null,
      "outputs": []
    },
    {
      "cell_type": "markdown",
      "source": [
        "### Plotting in map"
      ],
      "metadata": {
        "id": "4Sz_WZE9kYwV"
      }
    },
    {
      "cell_type": "code",
      "source": [
        "%cd /content/drive/MyDrive/\"AI INDUSTRIAL POLICY\"/\"SIPA_TEXT\"/\"GTA-MINING\"/\"World_Regions\"\n",
        "gdf = gpd.read_file(\"World_Regions.shp\")\n",
        "gdf = gdf.rename(columns={'REGION':'region_1_'})\n",
        "\n",
        "gdf.region_1_.replace(\"Australia/New Zealand\", \"Australia and New Zealand\", inplace=True)\n",
        "gdf.region_1_.replace(\"Southeastern Asia\", \"South-eastern Asia\", inplace=True)"
      ],
      "metadata": {
        "id": "MAsGGLpHf0y6"
      },
      "execution_count": null,
      "outputs": []
    },
    {
      "cell_type": "code",
      "source": [
        "policies_per_region_shapefile = pd.merge(policies_per_region_label,gdf,on='region_1_')\n",
        "policies_per_region_shapefile[\"label_mean\"] = policies_per_region_shapefile[\"label_mean\"] + 0.001\n",
        "gdf_policies = geopandas.GeoDataFrame(policies_per_region_shapefile)"
      ],
      "metadata": {
        "id": "qIFqv7Zski1Q"
      },
      "execution_count": null,
      "outputs": []
    },
    {
      "cell_type": "code",
      "source": [
        "m = gdf_policies.explore(\n",
        "  column = 'label_mean',\n",
        "  tooltip = ['region_1_', 'label_mean', 'label_count'],\n",
        "  cmap = 'YlOrRd',\n",
        "  legend = True,\n",
        "  popup = True\n",
        ")"
      ],
      "metadata": {
        "id": "zBWZm5n6pAem"
      },
      "execution_count": null,
      "outputs": []
    },
    {
      "cell_type": "code",
      "source": [
        "m"
      ],
      "metadata": {
        "id": "-Jd8a3inpG6m"
      },
      "execution_count": null,
      "outputs": []
    },
    {
      "cell_type": "code",
      "source": [
        "policies_per_region_label"
      ],
      "metadata": {
        "id": "7aCjfUs0qTqy"
      },
      "execution_count": null,
      "outputs": []
    },
    {
      "cell_type": "markdown",
      "source": [
        "### Shap Values"
      ],
      "metadata": {
        "id": "mVCLQvWMzWJ6"
      }
    },
    {
      "cell_type": "code",
      "source": [],
      "metadata": {
        "id": "_yS3h5Og8zOI"
      },
      "execution_count": null,
      "outputs": []
    },
    {
      "cell_type": "code",
      "source": [
        "ai_policies_df_per_country[\"Latest Event Description\"].iloc[0:3].to_list()"
      ],
      "metadata": {
        "id": "U1flAyCY8eWq"
      },
      "execution_count": null,
      "outputs": []
    },
    {
      "cell_type": "code",
      "source": [
        "classifier = pipeline(\"text-classification\", model=\"brunokrp/classification_model_protectionism\")"
      ],
      "metadata": {
        "id": "ovYkM8KC34Iq"
      },
      "execution_count": null,
      "outputs": []
    },
    {
      "cell_type": "code",
      "source": [
        "explainer = shap.Explainer(classifier)\n",
        "shap_values = explainer(positive_policies[\"Latest Event Description\"].sample(n=50).to_list())"
      ],
      "metadata": {
        "collapsed": true,
        "id": "5cq7AAVy2lt7"
      },
      "execution_count": null,
      "outputs": []
    },
    {
      "cell_type": "code",
      "source": [
        "shap.plots.text(shap_values)"
      ],
      "metadata": {
        "id": "nDXYOJvC9X6Y"
      },
      "execution_count": null,
      "outputs": []
    },
    {
      "cell_type": "code",
      "source": [
        "shap.plots.bar(shap_values[:, :, \"POSITIVE\"].mean(0))"
      ],
      "metadata": {
        "id": "2txb_dxu_UVt"
      },
      "execution_count": null,
      "outputs": []
    },
    {
      "cell_type": "code",
      "source": [
        "shap.plots.bar(shap_values[:, :, \"POSITIVE\"].mean(0), order=shap.Explanation.argsort)"
      ],
      "metadata": {
        "id": "PHjjsMUG_UKW"
      },
      "execution_count": null,
      "outputs": []
    },
    {
      "cell_type": "code",
      "source": [
        "shap.plots.bar(shap_values[:, :, \"POSITIVE\"].mean(0), order=shap.Explanation.argsort)"
      ],
      "metadata": {
        "id": "e-RFzB3FBqJg"
      },
      "execution_count": null,
      "outputs": []
    },
    {
      "cell_type": "code",
      "source": [
        "shap.plots.text(shap_values[1])"
      ],
      "metadata": {
        "id": "QVqnV-7q4v8n"
      },
      "execution_count": null,
      "outputs": []
    },
    {
      "cell_type": "markdown",
      "source": [
        "### Getting examples of each label"
      ],
      "metadata": {
        "id": "fgZnD__399AZ"
      }
    },
    {
      "cell_type": "code",
      "source": [
        "ai_policies_df_per_country_with_labels[ai_policies_df_per_country_with_labels[\"label\"]==1][\"Latest Event Description\"]"
      ],
      "metadata": {
        "id": "Xy1GUnO04FXI"
      },
      "execution_count": null,
      "outputs": []
    },
    {
      "cell_type": "code",
      "source": [
        "ai_policies_df_per_country_with_labels[\"Latest Event Description\"][7596]"
      ],
      "metadata": {
        "id": "HkkFZeS24x_M"
      },
      "execution_count": null,
      "outputs": []
    },
    {
      "cell_type": "code",
      "source": [
        "ai_policies_df_per_country_with_labels[\"Latest Event Description\"][679]"
      ],
      "metadata": {
        "id": "2NX5g26d55Tz"
      },
      "execution_count": null,
      "outputs": []
    },
    {
      "cell_type": "code",
      "source": [
        "positive_policies = ai_policies_df_per_country_with_labels[(ai_policies_df_per_country_with_labels[\"score\"]>0.999) & (ai_policies_df_per_country_with_labels[\"label\"]==1)].drop_duplicates(subset=[\"Latest Event Description\"])"
      ],
      "metadata": {
        "id": "9t11aK9V6aLg"
      },
      "execution_count": null,
      "outputs": []
    },
    {
      "cell_type": "code",
      "source": [],
      "metadata": {
        "id": "fUzbxsVH5EZB"
      },
      "execution_count": null,
      "outputs": []
    },
    {
      "cell_type": "markdown",
      "source": [
        "### Testing"
      ],
      "metadata": {
        "id": "P3nxVKsFWF9C"
      }
    },
    {
      "cell_type": "code",
      "source": [
        "prediction_df = pd.DataFrame([item[0] for item in predictions])\n",
        "ai_policies_df_per_country_with_labels = ai_policies_df_per_country.join(prediction_df)"
      ],
      "metadata": {
        "id": "bhY6x_srWHL_"
      },
      "execution_count": null,
      "outputs": []
    },
    {
      "cell_type": "code",
      "source": [
        "ai_policies_df_per_country_with_labels_2 = pd.merge(ai_policies_df_per_country_with_labels,cc_df,on='countries').drop_duplicates()"
      ],
      "metadata": {
        "id": "Fg2IdnreWLZ1"
      },
      "execution_count": null,
      "outputs": []
    },
    {
      "cell_type": "code",
      "source": [
        "ai_policies_df_per_country_with_labels_2[\"label\"] = ai_policies_df_per_country_with_labels_2[\"label\"].replace({'NEGATIVE': 0, 'POSITIVE': 1})"
      ],
      "metadata": {
        "id": "pwwlniAHWPGc"
      },
      "execution_count": null,
      "outputs": []
    },
    {
      "cell_type": "code",
      "source": [
        "ai_policies_df_per_country_with_labels_2.drop_duplicates(subset=[\"Policy Change ID\", \"region_1\"]).head()"
      ],
      "metadata": {
        "id": "Q5BOj7M8X8o-"
      },
      "execution_count": null,
      "outputs": []
    },
    {
      "cell_type": "code",
      "source": [
        "policies_per_region_label = ai_policies_df_per_country_with_labels[[\"region_1\", \"label\"]]\n",
        "policies_per_region_label = policies_per_region_label.groupby(['region_1']).agg(['count','mean']).reset_index()\n",
        "policies_per_region_label.columns = ['_'.join(col) for col in policies_per_region_label.columns]"
      ],
      "metadata": {
        "id": "dH_Y4qmlX9kj"
      },
      "execution_count": null,
      "outputs": []
    }
  ]
}