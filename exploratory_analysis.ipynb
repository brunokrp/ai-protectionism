{
  "nbformat": 4,
  "nbformat_minor": 0,
  "metadata": {
    "colab": {
      "provenance": [],
      "machine_shape": "hm",
      "gpuType": "T4",
      "mount_file_id": "1dwG9uBC8o_yRMb_yAemYfqVqWOcHM3KW",
      "authorship_tag": "ABX9TyPkgHz2ZXR2rlz+ev2PmIU2",
      "include_colab_link": true
    },
    "kernelspec": {
      "name": "python3",
      "display_name": "Python 3"
    },
    "language_info": {
      "name": "python"
    },
    "accelerator": "GPU"
  },
  "cells": [
    {
      "cell_type": "markdown",
      "metadata": {
        "id": "view-in-github",
        "colab_type": "text"
      },
      "source": [
        "<a href=\"https://colab.research.google.com/github/brunokrp/ai-protectionism/blob/main/exploratory_analysis.ipynb\" target=\"_parent\"><img src=\"https://colab.research.google.com/assets/colab-badge.svg\" alt=\"Open In Colab\"/></a>"
      ]
    },
    {
      "cell_type": "markdown",
      "source": [
        "# **SETTING ENVIRONMENT**"
      ],
      "metadata": {
        "id": "vZyaiOVVAuHW"
      }
    },
    {
      "cell_type": "markdown",
      "source": [
        "### Installing libraries"
      ],
      "metadata": {
        "id": "9pfCxt-2XT1V"
      }
    },
    {
      "cell_type": "code",
      "source": [
        "!pip install tomotopy\n",
        "!python -m spacy download en_core_web_lg"
      ],
      "metadata": {
        "id": "wZovZWwNHNwn"
      },
      "execution_count": null,
      "outputs": []
    },
    {
      "cell_type": "code",
      "source": [
        "from pathlib import Path\n",
        "import glob\n",
        "\n",
        "import pandas as pd\n",
        "import string\n",
        "import re\n",
        "\n",
        "import spacy\n",
        "import en_core_web_lg\n",
        "from spacy.lang.en.stop_words import STOP_WORDS\n",
        "\n",
        "import nltk\n",
        "from nltk.tokenize import word_tokenize\n",
        "from nltk.corpus import wordnet\n",
        "from nltk.corpus import stopwords\n",
        "from nltk.stem import WordNetLemmatizer\n",
        "from nltk import pos_tag\n",
        "nltk.download('punkt')\n",
        "nltk.download('punkt_tab')\n",
        "nltk.download('stopwords')\n",
        "nltk.download('averaged_perceptron_tagger_eng')\n",
        "nltk.download('wordnet')\n",
        "\n",
        "import sklearn as skl\n",
        "from sklearn.feature_extraction.text import TfidfVectorizer\n",
        "from sklearn.feature_extraction.text import CountVectorizer\n",
        "from sklearn.preprocessing import MinMaxScaler\n",
        "\n",
        "import tomotopy as tp\n",
        "import seaborn as sns\n",
        "import geopandas as gpd\n",
        "import altair as alt\n",
        "import numpy as np"
      ],
      "metadata": {
        "id": "Xd-Kn_F1J9j5",
        "colab": {
          "base_uri": "https://localhost:8080/"
        },
        "outputId": "68c0e3f2-3975-44ec-f8dd-a0ae3d645d4e"
      },
      "execution_count": 119,
      "outputs": [
        {
          "output_type": "stream",
          "name": "stderr",
          "text": [
            "[nltk_data] Downloading package punkt to /root/nltk_data...\n",
            "[nltk_data]   Package punkt is already up-to-date!\n",
            "[nltk_data] Downloading package punkt_tab to /root/nltk_data...\n",
            "[nltk_data]   Package punkt_tab is already up-to-date!\n",
            "[nltk_data] Downloading package stopwords to /root/nltk_data...\n",
            "[nltk_data]   Package stopwords is already up-to-date!\n",
            "[nltk_data] Downloading package averaged_perceptron_tagger_eng to\n",
            "[nltk_data]     /root/nltk_data...\n",
            "[nltk_data]   Package averaged_perceptron_tagger_eng is already up-to-\n",
            "[nltk_data]       date!\n",
            "[nltk_data] Downloading package wordnet to /root/nltk_data...\n",
            "[nltk_data]   Package wordnet is already up-to-date!\n"
          ]
        }
      ]
    },
    {
      "cell_type": "code",
      "source": [
        "from google.colab import drive\n",
        "drive.mount('/content/drive')\n",
        "\n",
        "%cd /content/drive/MyDrive/\"AI INDUSTRIAL POLICY\"/\"SIPA_TEXT\""
      ],
      "metadata": {
        "colab": {
          "base_uri": "https://localhost:8080/"
        },
        "id": "PnzVrUzwKGAn",
        "outputId": "75cdabf0-afa7-49d0-94b8-cd17730fc2b0"
      },
      "execution_count": 3,
      "outputs": [
        {
          "output_type": "stream",
          "name": "stdout",
          "text": [
            "Drive already mounted at /content/drive; to attempt to forcibly remount, call drive.mount(\"/content/drive\", force_remount=True).\n",
            "/content/drive/MyDrive/AI INDUSTRIAL POLICY/SIPA_TEXT\n"
          ]
        }
      ]
    },
    {
      "cell_type": "markdown",
      "source": [
        "# **DATA PROCESSING**"
      ],
      "metadata": {
        "id": "qtAni9QVGK75"
      }
    },
    {
      "cell_type": "markdown",
      "source": [
        "#### Preprocessing descriptions"
      ],
      "metadata": {
        "id": "Wy8OQQp9LfLi"
      }
    },
    {
      "cell_type": "code",
      "source": [
        "digital_policies_df = pd.read_csv(\"digital_policies.csv\")\n",
        "digital_policies_df.drop_duplicates(subset=['Latest Event Description'], inplace=True)"
      ],
      "metadata": {
        "id": "EMR3bkJEFsC_"
      },
      "execution_count": 74,
      "outputs": []
    },
    {
      "cell_type": "code",
      "source": [
        "stop_list = nltk.corpus.stopwords.words('english')\n",
        "newStopWords = ['ai','artificial','intelligence', 'technology', 'system', 'systems', 'on', 'machine', 'learning', 'act', 'month', 'day', 'use', 'u', 'state'\n",
        "                ,'january', 'february', 'march', 'april', 'may', 'june', 'july', 'august', 'september', 'october', 'november', 'december', 'approach', 'thresholds', 'report']\n",
        "stop_list.extend(newStopWords)"
      ],
      "metadata": {
        "id": "vvZ44QocGa2F"
      },
      "execution_count": 75,
      "outputs": []
    },
    {
      "cell_type": "code",
      "source": [
        "lemmatizer = WordNetLemmatizer()\n",
        "\n",
        "\n",
        "def get_wordnet_pos(word):\n",
        "    \"\"\"Map POS tag to first character lemmatize() accepts\"\"\"\n",
        "    tag = pos_tag([word])[0][1][0].upper()  # Get the first letter of the POS tag\n",
        "    tag_dict = {\n",
        "        'J': wordnet.ADJ,  # Adjective\n",
        "        'N': wordnet.NOUN,  # Noun\n",
        "        'V': wordnet.VERB,  # Verb\n",
        "        'R': wordnet.ADV    # Adverb\n",
        "    }\n",
        "    return tag_dict.get(tag, wordnet.NOUN)  # Default to noun if not found"
      ],
      "metadata": {
        "id": "Qq-aEaepD7bD"
      },
      "execution_count": 76,
      "outputs": []
    },
    {
      "cell_type": "code",
      "source": [
        "def preprocess_policies(text):\n",
        "    text_tokens = nltk.word_tokenize(text)\n",
        "    nltk_text = nltk.Text(text_tokens)\n",
        "    text_lower = [t.lower() for t in nltk_text if t.isalpha()]\n",
        "    text_stops = [t for t in text_lower if t not in stop_list]\n",
        "    text_clean = [WordNetLemmatizer().lemmatize(t, get_wordnet_pos(t)) for t in text_stops]\n",
        "    text_stops_lemma = [t for t in text_clean if t not in stop_list]\n",
        "\n",
        "    return ' '.join(text_stops_lemma)"
      ],
      "metadata": {
        "id": "XEdlugSJGazg"
      },
      "execution_count": 77,
      "outputs": []
    },
    {
      "cell_type": "code",
      "source": [
        "dig_pol_df = digital_policies_df.copy()\n",
        "\n",
        "# Applying functions to clean policy descriptions\n",
        "dig_pol_df['clean_event_description'] = dig_pol_df['Latest Event Description'].apply(preprocess_policies)"
      ],
      "metadata": {
        "collapsed": true,
        "id": "Xkb-Mv0PGap4"
      },
      "execution_count": 78,
      "outputs": []
    },
    {
      "cell_type": "code",
      "source": [
        "ai_policies_df = dig_pol_df[(dig_pol_df['Economic Activities'].str.contains('ML and AI development|Semiconductors|cloud computing') == True)].reset_index()\n",
        "ai_policies_df_per_country = ai_policies_df.assign(countries=ai_policies_df['Implementing Countries'].str.split(', ')).explode('countries').reset_index(drop=True)"
      ],
      "metadata": {
        "id": "C8hTS6NzLylL"
      },
      "execution_count": 99,
      "outputs": []
    },
    {
      "cell_type": "code",
      "source": [
        "len(ai_policies_df)"
      ],
      "metadata": {
        "colab": {
          "base_uri": "https://localhost:8080/"
        },
        "id": "6vTa90Mfkvgx",
        "outputId": "e45e24b7-8e0e-4004-bb2a-d73af306747b"
      },
      "execution_count": 100,
      "outputs": [
        {
          "output_type": "execute_result",
          "data": {
            "text/plain": [
              "1062"
            ]
          },
          "metadata": {},
          "execution_count": 100
        }
      ]
    },
    {
      "cell_type": "code",
      "source": [
        "ai_policies_df_per_country"
      ],
      "metadata": {
        "id": "YGBfPkdh8Lu5"
      },
      "execution_count": null,
      "outputs": []
    },
    {
      "cell_type": "markdown",
      "source": [
        "#### Creating dataframe with regions/continents per country"
      ],
      "metadata": {
        "id": "HI0WHMs5LjAe"
      }
    },
    {
      "cell_type": "code",
      "source": [
        "cc_df = pd.read_csv('country_continent.csv')\n",
        "cc_df = cc_df.rename(columns={'country':'countries'})"
      ],
      "metadata": {
        "id": "F-KFLxM8LmGc"
      },
      "execution_count": 81,
      "outputs": []
    },
    {
      "cell_type": "markdown",
      "source": [
        "#### Creating geopandas dataframe with countries shapefile"
      ],
      "metadata": {
        "id": "Jvnsw8qdA5cY"
      }
    },
    {
      "cell_type": "code",
      "source": [
        "%cd /content/drive/MyDrive/\"AI INDUSTRIAL POLICY\"/\"SIPA_TEXT\"/\"WB_countries_Admin0_10m\"\n",
        "gdf = gpd.read_file(\"WB_countries_Admin0_10m.shp\")\n",
        "gdf = gdf.rename(columns={'WB_NAME':'countries'})\n",
        "\n",
        "%cd /content/drive/MyDrive/\"AI INDUSTRIAL POLICY\"/\"SIPA_TEXT\""
      ],
      "metadata": {
        "colab": {
          "base_uri": "https://localhost:8080/"
        },
        "id": "fmfVROXfA_jf",
        "outputId": "4307e7f6-986a-474b-f18e-0fc70370eebf"
      },
      "execution_count": 82,
      "outputs": [
        {
          "output_type": "stream",
          "name": "stdout",
          "text": [
            "/content/drive/MyDrive/AI INDUSTRIAL POLICY/SIPA_TEXT/WB_countries_Admin0_10m\n",
            "/content/drive/MyDrive/AI INDUSTRIAL POLICY/SIPA_TEXT\n"
          ]
        }
      ]
    },
    {
      "cell_type": "markdown",
      "source": [
        "# **AI POLICY TF-IDF**"
      ],
      "metadata": {
        "id": "OusLKG0w1iB9"
      }
    },
    {
      "cell_type": "code",
      "source": [
        "# Create subsets of data for each region:\n",
        "tfidf_df = pd.merge(ai_policies_df_per_country,cc_df,on='countries')\n",
        "list_regions = tfidf_df.region_1.unique()\n",
        "\n",
        "# Create empty dataframe\n",
        "tf_idf_regions_terms = pd.DataFrame()\n",
        "\n",
        "# Calculate TF_IDF for each subset and append to a dataset\n",
        "for region in list_regions:\n",
        "  subset = tfidf_df[tfidf_df['region_1'] == region]\n",
        "  tfidf_vectorizer = TfidfVectorizer(input='content', stop_words=stop_list)\n",
        "  tfidf_vector = tfidf_vectorizer.fit_transform(subset['Latest Event Description'])\n",
        "  tfidf_df_subset = pd.DataFrame(tfidf_vector.toarray(), index=subset['Policy Change ID'], columns=tfidf_vectorizer.get_feature_names_out())\n",
        "  tfidf_df_subset = tfidf_df_subset.stack().reset_index()\n",
        "  tfidf_df_subset = tfidf_df_subset.rename(columns={0:'tfidf', 'level_1': 'term'})\n",
        "  tf_idf_regions_terms = pd.concat([tf_idf_regions_terms, tfidf_df_subset])\n",
        "\n",
        "tf_idf_regions_terms = tf_idf_regions_terms[tf_idf_regions_terms['tfidf'] > 0.001]"
      ],
      "metadata": {
        "id": "8zRh4pfQYl9I"
      },
      "execution_count": 83,
      "outputs": []
    },
    {
      "cell_type": "code",
      "source": [
        "# Merge dataset with TF_IDF values with dataset with region and countries\n",
        "tfidf_df_new = tfidf_df[['Policy Change ID', 'region_1']].drop_duplicates()\n",
        "tf_idf_regions = pd.merge(tf_idf_regions_terms,tfidf_df_new,on='Policy Change ID')"
      ],
      "metadata": {
        "id": "awFvuu-acR7t"
      },
      "execution_count": 84,
      "outputs": []
    },
    {
      "cell_type": "code",
      "source": [
        "# Get top 10 terms wwith highest TF_IDF per region\n",
        "top_tfidf = tf_idf_regions.sort_values(by=['region_1','tfidf'], ascending=[True,False]).drop_duplicates(subset=['term', 'region_1']).groupby(['region_1']).head(10)"
      ],
      "metadata": {
        "id": "8Uc522qTf-mo"
      },
      "execution_count": 85,
      "outputs": []
    },
    {
      "cell_type": "code",
      "source": [
        "# Visualizing TF-IDF\n",
        "\n",
        "# adding a little randomness to break ties in term ranking\n",
        "top_tfidf_plusRand = top_tfidf.copy()\n",
        "top_tfidf_plusRand['tfidf'] = top_tfidf_plusRand['tfidf'] + np.random.rand(top_tfidf.shape[0])*0.0001\n",
        "\n",
        "# base for all visualizations, with rank calculation\n",
        "base = alt.Chart(top_tfidf_plusRand).encode(\n",
        "    x = 'rank:O',\n",
        "    y = 'region_1:N'\n",
        ").transform_window(\n",
        "    rank = \"rank()\",\n",
        "    sort = [alt.SortField(\"tfidf\", order=\"descending\")],\n",
        "    groupby = [\"region_1\"],\n",
        ")\n",
        "\n",
        "# heatmap specification\n",
        "heatmap = base.mark_rect().encode(\n",
        "    color = 'tfidf:Q'\n",
        ")\n",
        "\n",
        "# text labels, white for darker heatmap colors\n",
        "text = base.mark_text(baseline='middle').encode(\n",
        "    text = 'term:N',\n",
        "    color = alt.condition(alt.datum.tfidf >= 0.23, alt.value('white'), alt.value('black'))\n",
        ")\n",
        "\n",
        "# display the three superimposed visualizations\n",
        "(heatmap + circle + text).properties(width = 600)"
      ],
      "metadata": {
        "colab": {
          "base_uri": "https://localhost:8080/",
          "height": 505
        },
        "id": "EqMck4ZBEcK_",
        "outputId": "e7ead658-1302-46b9-d8d9-c03b4be0e388",
        "collapsed": true
      },
      "execution_count": 86,
      "outputs": [
        {
          "output_type": "execute_result",
          "data": {
            "text/html": [
              "\n",
              "<style>\n",
              "  #altair-viz-f1a8be3f630b456fbfc031c0b975ef19.vega-embed {\n",
              "    width: 100%;\n",
              "    display: flex;\n",
              "  }\n",
              "\n",
              "  #altair-viz-f1a8be3f630b456fbfc031c0b975ef19.vega-embed details,\n",
              "  #altair-viz-f1a8be3f630b456fbfc031c0b975ef19.vega-embed details summary {\n",
              "    position: relative;\n",
              "  }\n",
              "</style>\n",
              "<div id=\"altair-viz-f1a8be3f630b456fbfc031c0b975ef19\"></div>\n",
              "<script type=\"text/javascript\">\n",
              "  var VEGA_DEBUG = (typeof VEGA_DEBUG == \"undefined\") ? {} : VEGA_DEBUG;\n",
              "  (function(spec, embedOpt){\n",
              "    let outputDiv = document.currentScript.previousElementSibling;\n",
              "    if (outputDiv.id !== \"altair-viz-f1a8be3f630b456fbfc031c0b975ef19\") {\n",
              "      outputDiv = document.getElementById(\"altair-viz-f1a8be3f630b456fbfc031c0b975ef19\");\n",
              "    }\n",
              "\n",
              "    const paths = {\n",
              "      \"vega\": \"https://cdn.jsdelivr.net/npm/vega@5?noext\",\n",
              "      \"vega-lib\": \"https://cdn.jsdelivr.net/npm/vega-lib?noext\",\n",
              "      \"vega-lite\": \"https://cdn.jsdelivr.net/npm/vega-lite@5.20.1?noext\",\n",
              "      \"vega-embed\": \"https://cdn.jsdelivr.net/npm/vega-embed@6?noext\",\n",
              "    };\n",
              "\n",
              "    function maybeLoadScript(lib, version) {\n",
              "      var key = `${lib.replace(\"-\", \"\")}_version`;\n",
              "      return (VEGA_DEBUG[key] == version) ?\n",
              "        Promise.resolve(paths[lib]) :\n",
              "        new Promise(function(resolve, reject) {\n",
              "          var s = document.createElement('script');\n",
              "          document.getElementsByTagName(\"head\")[0].appendChild(s);\n",
              "          s.async = true;\n",
              "          s.onload = () => {\n",
              "            VEGA_DEBUG[key] = version;\n",
              "            return resolve(paths[lib]);\n",
              "          };\n",
              "          s.onerror = () => reject(`Error loading script: ${paths[lib]}`);\n",
              "          s.src = paths[lib];\n",
              "        });\n",
              "    }\n",
              "\n",
              "    function showError(err) {\n",
              "      outputDiv.innerHTML = `<div class=\"error\" style=\"color:red;\">${err}</div>`;\n",
              "      throw err;\n",
              "    }\n",
              "\n",
              "    function displayChart(vegaEmbed) {\n",
              "      vegaEmbed(outputDiv, spec, embedOpt)\n",
              "        .catch(err => showError(`Javascript Error: ${err.message}<br>This usually means there's a typo in your chart specification. See the javascript console for the full traceback.`));\n",
              "    }\n",
              "\n",
              "    if(typeof define === \"function\" && define.amd) {\n",
              "      requirejs.config({paths});\n",
              "      let deps = [\"vega-embed\"];\n",
              "      require(deps, displayChart, err => showError(`Error loading script: ${err.message}`));\n",
              "    } else {\n",
              "      maybeLoadScript(\"vega\", \"5\")\n",
              "        .then(() => maybeLoadScript(\"vega-lite\", \"5.20.1\"))\n",
              "        .then(() => maybeLoadScript(\"vega-embed\", \"6\"))\n",
              "        .catch(showError)\n",
              "        .then(() => displayChart(vegaEmbed));\n",
              "    }\n",
              "  })({\"config\": {\"view\": {\"continuousWidth\": 300, \"continuousHeight\": 300}}, \"layer\": [{\"data\": {\"name\": \"data-54e5eefeb335ab2651b036fc77b3b17a\"}, \"mark\": {\"type\": \"rect\"}, \"encoding\": {\"color\": {\"field\": \"tfidf\", \"type\": \"quantitative\"}, \"x\": {\"field\": \"rank\", \"type\": \"ordinal\"}, \"y\": {\"field\": \"region_1\", \"type\": \"nominal\"}}, \"transform\": [{\"window\": [{\"op\": \"rank\", \"field\": \"\", \"as\": \"rank\"}], \"groupby\": [\"region_1\"], \"sort\": [{\"field\": \"tfidf\", \"order\": \"descending\"}]}]}, {\"data\": {\"name\": \"data-92910b17c26ce96e13c615d4433a67a4\"}, \"mark\": {\"type\": \"circle\", \"size\": 100}, \"encoding\": {\"color\": {\"condition\": {\"test\": {\"field\": \"term\", \"oneOf\": []}, \"value\": \"red\"}, \"value\": \"#FFFFFF00\"}, \"x\": {\"field\": \"rank\", \"type\": \"ordinal\"}, \"y\": {\"field\": \"region_1\", \"type\": \"nominal\"}}, \"transform\": [{\"window\": [{\"op\": \"rank\", \"field\": \"\", \"as\": \"rank\"}], \"groupby\": [\"region_1\"], \"sort\": [{\"field\": \"tfidf\", \"order\": \"descending\"}]}]}, {\"data\": {\"name\": \"data-54e5eefeb335ab2651b036fc77b3b17a\"}, \"mark\": {\"type\": \"text\", \"baseline\": \"middle\"}, \"encoding\": {\"color\": {\"condition\": {\"test\": \"(datum.tfidf >= 0.23)\", \"value\": \"white\"}, \"value\": \"black\"}, \"text\": {\"field\": \"term\", \"type\": \"nominal\"}, \"x\": {\"field\": \"rank\", \"type\": \"ordinal\"}, \"y\": {\"field\": \"region_1\", \"type\": \"nominal\"}}, \"transform\": [{\"window\": [{\"op\": \"rank\", \"field\": \"\", \"as\": \"rank\"}], \"groupby\": [\"region_1\"], \"sort\": [{\"field\": \"tfidf\", \"order\": \"descending\"}]}]}], \"width\": 600, \"$schema\": \"https://vega.github.io/schema/vega-lite/v5.20.1.json\", \"datasets\": {\"data-54e5eefeb335ab2651b036fc77b3b17a\": [{\"Policy Change ID\": 561, \"term\": \"software\", \"tfidf\": 0.56529303808084, \"region_1\": \"Australia and New Zealand\"}, {\"Policy Change ID\": 10502, \"term\": \"code\", \"tfidf\": 0.5620032959644434, \"region_1\": \"Australia and New Zealand\"}, {\"Policy Change ID\": 6689, \"term\": \"biometric\", \"tfidf\": 0.5585603021737636, \"region_1\": \"Australia and New Zealand\"}, {\"Policy Change ID\": 5377, \"term\": \"language\", \"tfidf\": 0.511506545155347, \"region_1\": \"Australia and New Zealand\"}, {\"Policy Change ID\": 7754, \"term\": \"secure\", \"tfidf\": 0.5086844866955244, \"region_1\": \"Australia and New Zealand\"}, {\"Policy Change ID\": 10746, \"term\": \"event\", \"tfidf\": 0.4958351512638721, \"region_1\": \"Australia and New Zealand\"}, {\"Policy Change ID\": 6918, \"term\": \"scraping\", \"tfidf\": 0.49064892863750553, \"region_1\": \"Australia and New Zealand\"}, {\"Policy Change ID\": 10502, \"term\": \"conduct\", \"tfidf\": 0.4881917022859172, \"region_1\": \"Australia and New Zealand\"}, {\"Policy Change ID\": 10864, \"term\": \"guide\", \"tfidf\": 0.4873584469559367, \"region_1\": \"Australia and New Zealand\"}, {\"Policy Change ID\": 10098, \"term\": \"standard\", \"tfidf\": 0.45984515323741476, \"region_1\": \"Australia and New Zealand\"}, {\"Policy Change ID\": 5643, \"term\": \"data\", \"tfidf\": 0.5196266910227554, \"region_1\": \"Caribbean\"}, {\"Policy Change ID\": 9112, \"term\": \"resolution\", \"tfidf\": 0.45312017382970887, \"region_1\": \"Caribbean\"}, {\"Policy Change ID\": 5643, \"term\": \"ripd\", \"tfidf\": 0.45256169026444565, \"region_1\": \"Caribbean\"}, {\"Policy Change ID\": 1625, \"term\": \"recommendation\", \"tfidf\": 0.4134150026613606, \"region_1\": \"Caribbean\"}, {\"Policy Change ID\": 11063, \"term\": \"un\", \"tfidf\": 0.3958553801927442, \"region_1\": \"Caribbean\"}, {\"Policy Change ID\": 1625, \"term\": \"session\", \"tfidf\": 0.3401666544636945, \"region_1\": \"Caribbean\"}, {\"Policy Change ID\": 10777, \"term\": \"paper\", \"tfidf\": 0.33911563254783794, \"region_1\": \"Caribbean\"}, {\"Policy Change ID\": 1625, \"term\": \"conference\", \"tfidf\": 0.3379161329656149, \"region_1\": \"Caribbean\"}, {\"Policy Change ID\": 1625, \"term\": \"ethics\", \"tfidf\": 0.3342298965354809, \"region_1\": \"Caribbean\"}, {\"Policy Change ID\": 11784, \"term\": \"domain\", \"tfidf\": 0.32904492129106744, \"region_1\": \"Caribbean\"}, {\"Policy Change ID\": 10502, \"term\": \"code\", \"tfidf\": 0.5620162052594342, \"region_1\": \"Central America\"}, {\"Policy Change ID\": 9205, \"term\": \"decree\", \"tfidf\": 0.5204603315023685, \"region_1\": \"Central America\"}, {\"Policy Change ID\": 5643, \"term\": \"data\", \"tfidf\": 0.5197126819529729, \"region_1\": \"Central America\"}, {\"Policy Change ID\": 5377, \"term\": \"language\", \"tfidf\": 0.5114707183756061, \"region_1\": \"Central America\"}, {\"Policy Change ID\": 9198, \"term\": \"authorisation\", \"tfidf\": 0.49260419857864696, \"region_1\": \"Central America\"}, {\"Policy Change ID\": 6918, \"term\": \"scraping\", \"tfidf\": 0.49068455489146756, \"region_1\": \"Central America\"}, {\"Policy Change ID\": 10502, \"term\": \"conduct\", \"tfidf\": 0.48821594309481575, \"region_1\": \"Central America\"}, {\"Policy Change ID\": 10500, \"term\": \"neurotechnologies\", \"tfidf\": 0.4668735646775632, \"region_1\": \"Central America\"}, {\"Policy Change ID\": 9112, \"term\": \"resolution\", \"tfidf\": 0.4531791376086735, \"region_1\": \"Central America\"}, {\"Policy Change ID\": 5643, \"term\": \"ripd\", \"tfidf\": 0.4525022177578588, \"region_1\": \"Central America\"}, {\"Policy Change ID\": 9112, \"term\": \"resolution\", \"tfidf\": 0.4531283449016538, \"region_1\": \"Central Asia\"}, {\"Policy Change ID\": 1625, \"term\": \"recommendation\", \"tfidf\": 0.4134462600566454, \"region_1\": \"Central Asia\"}, {\"Policy Change ID\": 11063, \"term\": \"un\", \"tfidf\": 0.39581050770017284, \"region_1\": \"Central Asia\"}, {\"Policy Change ID\": 1625, \"term\": \"session\", \"tfidf\": 0.3401446715453981, \"region_1\": \"Central Asia\"}, {\"Policy Change ID\": 10777, \"term\": \"paper\", \"tfidf\": 0.33911061727897246, \"region_1\": \"Central Asia\"}, {\"Policy Change ID\": 1625, \"term\": \"conference\", \"tfidf\": 0.33784133990543086, \"region_1\": \"Central Asia\"}, {\"Policy Change ID\": 1625, \"term\": \"ethics\", \"tfidf\": 0.33419412373438306, \"region_1\": \"Central Asia\"}, {\"Policy Change ID\": 11784, \"term\": \"domain\", \"tfidf\": 0.3290303407628103, \"region_1\": \"Central Asia\"}, {\"Policy Change ID\": 11063, \"term\": \"science\", \"tfidf\": 0.3229063149234607, \"region_1\": \"Central Asia\"}, {\"Policy Change ID\": 11063, \"term\": \"oecd\", \"tfidf\": 0.3227717772974951, \"region_1\": \"Central Asia\"}, {\"Policy Change ID\": 8508, \"term\": \"generative\", \"tfidf\": 0.6444158578858381, \"region_1\": \"Eastern Africa\"}, {\"Policy Change ID\": 7841, \"term\": \"robotics\", \"tfidf\": 0.514672296990139, \"region_1\": \"Eastern Africa\"}, {\"Policy Change ID\": 11066, \"term\": \"playbook\", \"tfidf\": 0.5011672864486392, \"region_1\": \"Eastern Africa\"}, {\"Policy Change ID\": 9778, \"term\": \"kenya\", \"tfidf\": 0.47128370461328184, \"region_1\": \"Eastern Africa\"}, {\"Policy Change ID\": 9265, \"term\": \"china\", \"tfidf\": 0.4635357189775491, \"region_1\": \"Eastern Africa\"}, {\"Policy Change ID\": 9112, \"term\": \"resolution\", \"tfidf\": 0.45316824448831666, \"region_1\": \"Eastern Africa\"}, {\"Policy Change ID\": 11066, \"term\": \"small\", \"tfidf\": 0.43269341381457793, \"region_1\": \"Eastern Africa\"}, {\"Policy Change ID\": 1625, \"term\": \"recommendation\", \"tfidf\": 0.4134639063977945, \"region_1\": \"Eastern Africa\"}, {\"Policy Change ID\": 7516, \"term\": \"parties\", \"tfidf\": 0.41110210817184223, \"region_1\": \"Eastern Africa\"}, {\"Policy Change ID\": 10033, \"term\": \"strategy\", \"tfidf\": 0.406611532428806, \"region_1\": \"Eastern Africa\"}, {\"Policy Change ID\": 11242, \"term\": \"competition\", \"tfidf\": 0.6862020042618243, \"region_1\": \"Eastern Asia\"}, {\"Policy Change ID\": 8181, \"term\": \"cloud\", \"tfidf\": 0.6632387325829977, \"region_1\": \"Eastern Asia\"}, {\"Policy Change ID\": 10060, \"term\": \"snow\", \"tfidf\": 0.654960532208982, \"region_1\": \"Eastern Asia\"}, {\"Policy Change ID\": 10059, \"term\": \"skt\", \"tfidf\": 0.6227359936482012, \"region_1\": \"Eastern Asia\"}, {\"Policy Change ID\": 11704, \"term\": \"contract\", \"tfidf\": 0.6072086507075146, \"region_1\": \"Eastern Asia\"}, {\"Policy Change ID\": 5289, \"term\": \"export\", \"tfidf\": 0.5981512938073739, \"region_1\": \"Eastern Asia\"}, {\"Policy Change ID\": 7689, \"term\": \"bill\", \"tfidf\": 0.5873249662911589, \"region_1\": \"Eastern Asia\"}, {\"Policy Change ID\": 10291, \"term\": \"phishing\", \"tfidf\": 0.58146365509405, \"region_1\": \"Eastern Asia\"}, {\"Policy Change ID\": 10062, \"term\": \"vuno\", \"tfidf\": 0.5800380383284299, \"region_1\": \"Eastern Asia\"}, {\"Policy Change ID\": 10061, \"term\": \"deepl\", \"tfidf\": 0.5728249092011207, \"region_1\": \"Eastern Asia\"}, {\"Policy Change ID\": 1463, \"term\": \"insurance\", \"tfidf\": 0.6559118519042736, \"region_1\": \"Eastern Europe\"}, {\"Policy Change ID\": 4185, \"term\": \"machinery\", \"tfidf\": 0.6174890061985046, \"region_1\": \"Eastern Europe\"}, {\"Policy Change ID\": 11458, \"term\": \"dell\", \"tfidf\": 0.5949740803931197, \"region_1\": \"Eastern Europe\"}, {\"Policy Change ID\": 5031, \"term\": \"standardisation\", \"tfidf\": 0.5710108057069125, \"region_1\": \"Eastern Europe\"}, {\"Policy Change ID\": 10502, \"term\": \"code\", \"tfidf\": 0.5620165504863447, \"region_1\": \"Eastern Europe\"}, {\"Policy Change ID\": 118, \"term\": \"white\", \"tfidf\": 0.5557358005557226, \"region_1\": \"Eastern Europe\"}, {\"Policy Change ID\": 8587, \"term\": \"subcontracting\", \"tfidf\": 0.5451538834252041, \"region_1\": \"Eastern Europe\"}, {\"Policy Change ID\": 10143, \"term\": \"convention\", \"tfidf\": 0.5433921868976317, \"region_1\": \"Eastern Europe\"}, {\"Policy Change ID\": 1871, \"term\": \"ml\", \"tfidf\": 0.5387219530782935, \"region_1\": \"Eastern Europe\"}, {\"Policy Change ID\": 10560, \"term\": \"online\", \"tfidf\": 0.5306705094349004, \"region_1\": \"Eastern Europe\"}, {\"Policy Change ID\": 9112, \"term\": \"resolution\", \"tfidf\": 0.4531077741439342, \"region_1\": \"Melanesia\"}, {\"Policy Change ID\": 1625, \"term\": \"recommendation\", \"tfidf\": 0.4134134619005968, \"region_1\": \"Melanesia\"}, {\"Policy Change ID\": 11063, \"term\": \"un\", \"tfidf\": 0.3957908445109722, \"region_1\": \"Melanesia\"}, {\"Policy Change ID\": 1625, \"term\": \"session\", \"tfidf\": 0.3400841996139987, \"region_1\": \"Melanesia\"}, {\"Policy Change ID\": 10777, \"term\": \"paper\", \"tfidf\": 0.3391054042569731, \"region_1\": \"Melanesia\"}, {\"Policy Change ID\": 1625, \"term\": \"conference\", \"tfidf\": 0.3378888432622129, \"region_1\": \"Melanesia\"}, {\"Policy Change ID\": 1625, \"term\": \"ethics\", \"tfidf\": 0.3341645991229512, \"region_1\": \"Melanesia\"}, {\"Policy Change ID\": 11784, \"term\": \"domain\", \"tfidf\": 0.32903473050298077, \"region_1\": \"Melanesia\"}, {\"Policy Change ID\": 11063, \"term\": \"science\", \"tfidf\": 0.32282919296988744, \"region_1\": \"Melanesia\"}, {\"Policy Change ID\": 11063, \"term\": \"oecd\", \"tfidf\": 0.32274374620695495, \"region_1\": \"Melanesia\"}, {\"Policy Change ID\": 9112, \"term\": \"resolution\", \"tfidf\": 0.45308725037332676, \"region_1\": \"Micronesia\"}, {\"Policy Change ID\": 1625, \"term\": \"recommendation\", \"tfidf\": 0.41344146199796494, \"region_1\": \"Micronesia\"}, {\"Policy Change ID\": 11063, \"term\": \"un\", \"tfidf\": 0.3957892843718279, \"region_1\": \"Micronesia\"}, {\"Policy Change ID\": 1625, \"term\": \"session\", \"tfidf\": 0.3401832446973515, \"region_1\": \"Micronesia\"}, {\"Policy Change ID\": 10777, \"term\": \"paper\", \"tfidf\": 0.3390952276986527, \"region_1\": \"Micronesia\"}, {\"Policy Change ID\": 1625, \"term\": \"conference\", \"tfidf\": 0.3378240957058832, \"region_1\": \"Micronesia\"}, {\"Policy Change ID\": 1625, \"term\": \"ethics\", \"tfidf\": 0.3341664540417478, \"region_1\": \"Micronesia\"}, {\"Policy Change ID\": 11784, \"term\": \"domain\", \"tfidf\": 0.3290633321522016, \"region_1\": \"Micronesia\"}, {\"Policy Change ID\": 11063, \"term\": \"science\", \"tfidf\": 0.32288242588515814, \"region_1\": \"Micronesia\"}, {\"Policy Change ID\": 11063, \"term\": \"oecd\", \"tfidf\": 0.32280753437894705, \"region_1\": \"Micronesia\"}, {\"Policy Change ID\": 9265, \"term\": \"china\", \"tfidf\": 0.46354070857887225, \"region_1\": \"Middle Africa\"}, {\"Policy Change ID\": 9112, \"term\": \"resolution\", \"tfidf\": 0.45310385165628986, \"region_1\": \"Middle Africa\"}, {\"Policy Change ID\": 1625, \"term\": \"recommendation\", \"tfidf\": 0.4133921051966898, \"region_1\": \"Middle Africa\"}, {\"Policy Change ID\": 10033, \"term\": \"strategy\", \"tfidf\": 0.4065191559196907, \"region_1\": \"Middle Africa\"}, {\"Policy Change ID\": 11063, \"term\": \"un\", \"tfidf\": 0.3957994605574335, \"region_1\": \"Middle Africa\"}, {\"Policy Change ID\": 9265, \"term\": \"cooperation\", \"tfidf\": 0.3723115176630403, \"region_1\": \"Middle Africa\"}, {\"Policy Change ID\": 9265, \"term\": \"data\", \"tfidf\": 0.37224526384180817, \"region_1\": \"Middle Africa\"}, {\"Policy Change ID\": 9265, \"term\": \"africa\", \"tfidf\": 0.3627808228615104, \"region_1\": \"Middle Africa\"}, {\"Policy Change ID\": 1625, \"term\": \"session\", \"tfidf\": 0.34010498594552385, \"region_1\": \"Middle Africa\"}, {\"Policy Change ID\": 10777, \"term\": \"paper\", \"tfidf\": 0.3391316493719847, \"region_1\": \"Middle Africa\"}, {\"Policy Change ID\": 8508, \"term\": \"generative\", \"tfidf\": 0.6445003895283188, \"region_1\": \"Northern Africa\"}, {\"Policy Change ID\": 6918, \"term\": \"scraping\", \"tfidf\": 0.49070365753692885, \"region_1\": \"Northern Africa\"}, {\"Policy Change ID\": 9265, \"term\": \"china\", \"tfidf\": 0.46347777926290784, \"region_1\": \"Northern Africa\"}, {\"Policy Change ID\": 9112, \"term\": \"resolution\", \"tfidf\": 0.45308800225158113, \"region_1\": \"Northern Africa\"}, {\"Policy Change ID\": 6918, \"term\": \"statement\", \"tfidf\": 0.4276741165360995, \"region_1\": \"Northern Africa\"}, {\"Policy Change ID\": 1625, \"term\": \"recommendation\", \"tfidf\": 0.4133801170390908, \"region_1\": \"Northern Africa\"}, {\"Policy Change ID\": 10033, \"term\": \"strategy\", \"tfidf\": 0.4065483328095907, \"region_1\": \"Northern Africa\"}, {\"Policy Change ID\": 11063, \"term\": \"un\", \"tfidf\": 0.3958669874904624, \"region_1\": \"Northern Africa\"}, {\"Policy Change ID\": 9265, \"term\": \"cooperation\", \"tfidf\": 0.37222853589092275, \"region_1\": \"Northern Africa\"}, {\"Policy Change ID\": 9265, \"term\": \"data\", \"tfidf\": 0.37226056904733695, \"region_1\": \"Northern Africa\"}, {\"Policy Change ID\": 11106, \"term\": \"research\", \"tfidf\": 0.7135952007526601, \"region_1\": \"Northern America\"}, {\"Policy Change ID\": 11242, \"term\": \"competition\", \"tfidf\": 0.6862791244320905, \"region_1\": \"Northern America\"}, {\"Policy Change ID\": 8140, \"term\": \"hub\", \"tfidf\": 0.6569655853124975, \"region_1\": \"Northern America\"}, {\"Policy Change ID\": 10412, \"term\": \"directive\", \"tfidf\": 0.6522830623753024, \"region_1\": \"Northern America\"}, {\"Policy Change ID\": 7529, \"term\": \"usaisi\", \"tfidf\": 0.6279254999120288, \"region_1\": \"Northern America\"}, {\"Policy Change ID\": 5602, \"term\": \"airc\", \"tfidf\": 0.6180205312683578, \"region_1\": \"Northern America\"}, {\"Policy Change ID\": 372, \"term\": \"nuclear\", \"tfidf\": 0.5909051604835727, \"region_1\": \"Northern America\"}, {\"Policy Change ID\": 5964, \"term\": \"minor\", \"tfidf\": 0.5873489963491874, \"region_1\": \"Northern America\"}, {\"Policy Change ID\": 5905, \"term\": \"strategy\", \"tfidf\": 0.5855303580430625, \"region_1\": \"Northern America\"}, {\"Policy Change ID\": 9964, \"term\": \"warnings\", \"tfidf\": 0.580375138528473, \"region_1\": \"Northern America\"}, {\"Policy Change ID\": 1463, \"term\": \"insurance\", \"tfidf\": 0.6559983075844901, \"region_1\": \"Northern Europe\"}, {\"Policy Change ID\": 4185, \"term\": \"machinery\", \"tfidf\": 0.6175223222867311, \"region_1\": \"Northern Europe\"}, {\"Policy Change ID\": 8904, \"term\": \"sandbox\", \"tfidf\": 0.5731070415524872, \"region_1\": \"Northern Europe\"}, {\"Policy Change ID\": 6856, \"term\": \"bec\", \"tfidf\": 0.5719849062727426, \"region_1\": \"Northern Europe\"}, {\"Policy Change ID\": 5031, \"term\": \"standardisation\", \"tfidf\": 0.5710565413789733, \"region_1\": \"Northern Europe\"}, {\"Policy Change ID\": 10502, \"term\": \"code\", \"tfidf\": 0.56200323960744, \"region_1\": \"Northern Europe\"}, {\"Policy Change ID\": 118, \"term\": \"white\", \"tfidf\": 0.5557673528282542, \"region_1\": \"Northern Europe\"}, {\"Policy Change ID\": 8587, \"term\": \"subcontracting\", \"tfidf\": 0.5451474707526044, \"region_1\": \"Northern Europe\"}, {\"Policy Change ID\": 10143, \"term\": \"convention\", \"tfidf\": 0.5434662822055479, \"region_1\": \"Northern Europe\"}, {\"Policy Change ID\": 1871, \"term\": \"ml\", \"tfidf\": 0.5387576372139037, \"region_1\": \"Northern Europe\"}, {\"Policy Change ID\": 9112, \"term\": \"resolution\", \"tfidf\": 0.45313889136326013, \"region_1\": \"Polynesia\"}, {\"Policy Change ID\": 1625, \"term\": \"recommendation\", \"tfidf\": 0.4134063666063155, \"region_1\": \"Polynesia\"}, {\"Policy Change ID\": 11063, \"term\": \"un\", \"tfidf\": 0.39587596177583495, \"region_1\": \"Polynesia\"}, {\"Policy Change ID\": 1625, \"term\": \"session\", \"tfidf\": 0.3401540110440813, \"region_1\": \"Polynesia\"}, {\"Policy Change ID\": 10777, \"term\": \"paper\", \"tfidf\": 0.33911363087497753, \"region_1\": \"Polynesia\"}, {\"Policy Change ID\": 1625, \"term\": \"conference\", \"tfidf\": 0.33788434764663405, \"region_1\": \"Polynesia\"}, {\"Policy Change ID\": 1625, \"term\": \"ethics\", \"tfidf\": 0.33424072886989453, \"region_1\": \"Polynesia\"}, {\"Policy Change ID\": 11784, \"term\": \"domain\", \"tfidf\": 0.32901492373734026, \"region_1\": \"Polynesia\"}, {\"Policy Change ID\": 11063, \"term\": \"science\", \"tfidf\": 0.32289097902192043, \"region_1\": \"Polynesia\"}, {\"Policy Change ID\": 11063, \"term\": \"oecd\", \"tfidf\": 0.32274493929931125, \"region_1\": \"Polynesia\"}, {\"Policy Change ID\": 7062, \"term\": \"internet\", \"tfidf\": 0.6278143854708098, \"region_1\": \"South America\"}, {\"Policy Change ID\": 10522, \"term\": \"observatory\", \"tfidf\": 0.623538245006447, \"region_1\": \"South America\"}, {\"Policy Change ID\": 10502, \"term\": \"code\", \"tfidf\": 0.5620116057584895, \"region_1\": \"South America\"}, {\"Policy Change ID\": 5643, \"term\": \"data\", \"tfidf\": 0.5196570442652736, \"region_1\": \"South America\"}, {\"Policy Change ID\": 5377, \"term\": \"language\", \"tfidf\": 0.5115593325183878, \"region_1\": \"South America\"}, {\"Policy Change ID\": 10993, \"term\": \"guide\", \"tfidf\": 0.5114823958391443, \"region_1\": \"South America\"}, {\"Policy Change ID\": 8838, \"term\": \"inventions\", \"tfidf\": 0.5091238188382532, \"region_1\": \"South America\"}, {\"Policy Change ID\": 7754, \"term\": \"secure\", \"tfidf\": 0.5086800377884773, \"region_1\": \"South America\"}, {\"Policy Change ID\": 6918, \"term\": \"scraping\", \"tfidf\": 0.4907010927692078, \"region_1\": \"South America\"}, {\"Policy Change ID\": 10502, \"term\": \"conduct\", \"tfidf\": 0.48820627082534557, \"region_1\": \"South America\"}, {\"Policy Change ID\": 10388, \"term\": \"bsp\", \"tfidf\": 0.7009932818795692, \"region_1\": \"South-eastern Asia\"}, {\"Policy Change ID\": 8993, \"term\": \"services\", \"tfidf\": 0.6383756970555587, \"region_1\": \"South-eastern Asia\"}, {\"Policy Change ID\": 11269, \"term\": \"cair\", \"tfidf\": 0.5832280496166035, \"region_1\": \"South-eastern Asia\"}, {\"Policy Change ID\": 11088, \"term\": \"malaysia\", \"tfidf\": 0.5644222508757004, \"region_1\": \"South-eastern Asia\"}, {\"Policy Change ID\": 11675, \"term\": \"generative\", \"tfidf\": 0.5448862735712561, \"region_1\": \"South-eastern Asia\"}, {\"Policy Change ID\": 11268, \"term\": \"naisr\", \"tfidf\": 0.5412132793834393, \"region_1\": \"South-eastern Asia\"}, {\"Policy Change ID\": 11043, \"term\": \"aida\", \"tfidf\": 0.5215098302768774, \"region_1\": \"South-eastern Asia\"}, {\"Policy Change ID\": 4326, \"term\": \"mou\", \"tfidf\": 0.5129387801611587, \"region_1\": \"South-eastern Asia\"}, {\"Policy Change ID\": 7754, \"term\": \"secure\", \"tfidf\": 0.508723351319897, \"region_1\": \"South-eastern Asia\"}, {\"Policy Change ID\": 11066, \"term\": \"playbook\", \"tfidf\": 0.5012274981762809, \"region_1\": \"South-eastern Asia\"}, {\"Policy Change ID\": 9265, \"term\": \"china\", \"tfidf\": 0.4635436030940221, \"region_1\": \"Southern Africa\"}, {\"Policy Change ID\": 9112, \"term\": \"resolution\", \"tfidf\": 0.45317262986873813, \"region_1\": \"Southern Africa\"}, {\"Policy Change ID\": 446, \"term\": \"competition\", \"tfidf\": 0.4448503145368069, \"region_1\": \"Southern Africa\"}, {\"Policy Change ID\": 5100, \"term\": \"news\", \"tfidf\": 0.4428458205893117, \"region_1\": \"Southern Africa\"}, {\"Policy Change ID\": 1625, \"term\": \"recommendation\", \"tfidf\": 0.41343251802817177, \"region_1\": \"Southern Africa\"}, {\"Policy Change ID\": 10033, \"term\": \"strategy\", \"tfidf\": 0.40654509015376217, \"region_1\": \"Southern Africa\"}, {\"Policy Change ID\": 11063, \"term\": \"un\", \"tfidf\": 0.39582142375230045, \"region_1\": \"Southern Africa\"}, {\"Policy Change ID\": 446, \"term\": \"cloud\", \"tfidf\": 0.3938999908171824, \"region_1\": \"Southern Africa\"}, {\"Policy Change ID\": 9265, \"term\": \"cooperation\", \"tfidf\": 0.3722722482476883, \"region_1\": \"Southern Africa\"}, {\"Policy Change ID\": 9265, \"term\": \"data\", \"tfidf\": 0.3722220419256443, \"region_1\": \"Southern Africa\"}, {\"Policy Change ID\": 9444, \"term\": \"competition\", \"tfidf\": 0.726237008749346, \"region_1\": \"Southern Asia\"}, {\"Policy Change ID\": 8508, \"term\": \"generative\", \"tfidf\": 0.6444384708311307, \"region_1\": \"Southern Asia\"}, {\"Policy Change ID\": 2076, \"term\": \"ml\", \"tfidf\": 0.6036576732635205, \"region_1\": \"Southern Asia\"}, {\"Policy Change ID\": 300, \"term\": \"cloud\", \"tfidf\": 0.5005154430082596, \"region_1\": \"Southern Asia\"}, {\"Policy Change ID\": 4069, \"term\": \"data\", \"tfidf\": 0.4733911535141074, \"region_1\": \"Southern Asia\"}, {\"Policy Change ID\": 5568, \"term\": \"mou\", \"tfidf\": 0.46953655721526355, \"region_1\": \"Southern Asia\"}, {\"Policy Change ID\": 9112, \"term\": \"resolution\", \"tfidf\": 0.4531581989990306, \"region_1\": \"Southern Asia\"}, {\"Policy Change ID\": 8054, \"term\": \"advisory\", \"tfidf\": 0.44224653936521746, \"region_1\": \"Southern Asia\"}, {\"Policy Change ID\": 1625, \"term\": \"recommendation\", \"tfidf\": 0.4134238100850051, \"region_1\": \"Southern Asia\"}, {\"Policy Change ID\": 7516, \"term\": \"parties\", \"tfidf\": 0.41108134579276234, \"region_1\": \"Southern Asia\"}, {\"Policy Change ID\": 11242, \"term\": \"competition\", \"tfidf\": 0.6862666637059497, \"region_1\": \"Southern Europe\"}, {\"Policy Change ID\": 1463, \"term\": \"insurance\", \"tfidf\": 0.6559960508984987, \"region_1\": \"Southern Europe\"}, {\"Policy Change ID\": 4185, \"term\": \"machinery\", \"tfidf\": 0.6174345213944876, \"region_1\": \"Southern Europe\"}, {\"Policy Change ID\": 5031, \"term\": \"standardisation\", \"tfidf\": 0.5710826596919634, \"region_1\": \"Southern Europe\"}, {\"Policy Change ID\": 10502, \"term\": \"code\", \"tfidf\": 0.5620298444613094, \"region_1\": \"Southern Europe\"}, {\"Policy Change ID\": 118, \"term\": \"white\", \"tfidf\": 0.5557802927357975, \"region_1\": \"Southern Europe\"}, {\"Policy Change ID\": 8946, \"term\": \"dpa\", \"tfidf\": 0.5500011953540395, \"region_1\": \"Southern Europe\"}, {\"Policy Change ID\": 6172, \"term\": \"dpas\", \"tfidf\": 0.5494591460995984, \"region_1\": \"Southern Europe\"}, {\"Policy Change ID\": 8587, \"term\": \"subcontracting\", \"tfidf\": 0.5451272201126902, \"region_1\": \"Southern Europe\"}, {\"Policy Change ID\": 10143, \"term\": \"convention\", \"tfidf\": 0.5433782218457257, \"region_1\": \"Southern Europe\"}, {\"Policy Change ID\": 8508, \"term\": \"generative\", \"tfidf\": 0.6444477509059543, \"region_1\": \"Western Africa\"}, {\"Policy Change ID\": 7754, \"term\": \"secure\", \"tfidf\": 0.5087204581810809, \"region_1\": \"Western Africa\"}, {\"Policy Change ID\": 9265, \"term\": \"china\", \"tfidf\": 0.46355638307348007, \"region_1\": \"Western Africa\"}, {\"Policy Change ID\": 9112, \"term\": \"resolution\", \"tfidf\": 0.45313526093741935, \"region_1\": \"Western Africa\"}, {\"Policy Change ID\": 1625, \"term\": \"recommendation\", \"tfidf\": 0.4133813668012926, \"region_1\": \"Western Africa\"}, {\"Policy Change ID\": 7516, \"term\": \"parties\", \"tfidf\": 0.41113136859230553, \"region_1\": \"Western Africa\"}, {\"Policy Change ID\": 7754, \"term\": \"design\", \"tfidf\": 0.4086527776544086, \"region_1\": \"Western Africa\"}, {\"Policy Change ID\": 10033, \"term\": \"strategy\", \"tfidf\": 0.4065386863673011, \"region_1\": \"Western Africa\"}, {\"Policy Change ID\": 11063, \"term\": \"un\", \"tfidf\": 0.3958343554848981, \"region_1\": \"Western Africa\"}, {\"Policy Change ID\": 9265, \"term\": \"cooperation\", \"tfidf\": 0.37224428194816006, \"region_1\": \"Western Africa\"}, {\"Policy Change ID\": 9679, \"term\": \"media\", \"tfidf\": 0.7666838333030895, \"region_1\": \"Western Asia\"}, {\"Policy Change ID\": 6286, \"term\": \"oracle\", \"tfidf\": 0.6965462399113944, \"region_1\": \"Western Asia\"}, {\"Policy Change ID\": 1463, \"term\": \"insurance\", \"tfidf\": 0.6559384579749772, \"region_1\": \"Western Asia\"}, {\"Policy Change ID\": 8508, \"term\": \"generative\", \"tfidf\": 0.6444458910787051, \"region_1\": \"Western Asia\"}, {\"Policy Change ID\": 4185, \"term\": \"machinery\", \"tfidf\": 0.6175004137627347, \"region_1\": \"Western Asia\"}, {\"Policy Change ID\": 10617, \"term\": \"charter\", \"tfidf\": 0.6112908112877643, \"region_1\": \"Western Asia\"}, {\"Policy Change ID\": 5031, \"term\": \"standardisation\", \"tfidf\": 0.571021773833437, \"region_1\": \"Western Asia\"}, {\"Policy Change ID\": 10502, \"term\": \"code\", \"tfidf\": 0.5619864596332166, \"region_1\": \"Western Asia\"}, {\"Policy Change ID\": 118, \"term\": \"white\", \"tfidf\": 0.5557233931979662, \"region_1\": \"Western Asia\"}, {\"Policy Change ID\": 8587, \"term\": \"subcontracting\", \"tfidf\": 0.5451765382329633, \"region_1\": \"Western Asia\"}, {\"Policy Change ID\": 11242, \"term\": \"competition\", \"tfidf\": 0.6862305729235052, \"region_1\": \"Western Europe\"}, {\"Policy Change ID\": 8344, \"term\": \"encryption\", \"tfidf\": 0.6614613542182586, \"region_1\": \"Western Europe\"}, {\"Policy Change ID\": 1463, \"term\": \"insurance\", \"tfidf\": 0.6559486723780835, \"region_1\": \"Western Europe\"}, {\"Policy Change ID\": 10218, \"term\": \"inventor\", \"tfidf\": 0.637946439034128, \"region_1\": \"Western Europe\"}, {\"Policy Change ID\": 7078, \"term\": \"bill\", \"tfidf\": 0.6317057591306181, \"region_1\": \"Western Europe\"}, {\"Policy Change ID\": 4185, \"term\": \"machinery\", \"tfidf\": 0.6175074113176112, \"region_1\": \"Western Europe\"}, {\"Policy Change ID\": 10041, \"term\": \"meta\", \"tfidf\": 0.5930604224422833, \"region_1\": \"Western Europe\"}, {\"Policy Change ID\": 463, \"term\": \"works\", \"tfidf\": 0.5763695468158465, \"region_1\": \"Western Europe\"}, {\"Policy Change ID\": 418, \"term\": \"secnumcloud\", \"tfidf\": 0.573344165309889, \"region_1\": \"Western Europe\"}, {\"Policy Change ID\": 5031, \"term\": \"standardisation\", \"tfidf\": 0.5710174667799757, \"region_1\": \"Western Europe\"}], \"data-92910b17c26ce96e13c615d4433a67a4\": [{\"Policy Change ID\": 561, \"term\": \"software\", \"tfidf\": 0.555691098343509, \"region_1\": \"Australia and New Zealand\"}, {\"Policy Change ID\": 10502, \"term\": \"code\", \"tfidf\": 0.5544147459364549, \"region_1\": \"Australia and New Zealand\"}, {\"Policy Change ID\": 5377, \"term\": \"language\", \"tfidf\": 0.5388338813921598, \"region_1\": \"Australia and New Zealand\"}, {\"Policy Change ID\": 7754, \"term\": \"secure\", \"tfidf\": 0.5129436610166774, \"region_1\": \"Australia and New Zealand\"}, {\"Policy Change ID\": 6918, \"term\": \"scraping\", \"tfidf\": 0.5115743326003958, \"region_1\": \"Australia and New Zealand\"}, {\"Policy Change ID\": 10502, \"term\": \"conduct\", \"tfidf\": 0.4925368070564948, \"region_1\": \"Australia and New Zealand\"}, {\"Policy Change ID\": 10864, \"term\": \"guide\", \"tfidf\": 0.4806422707279482, \"region_1\": \"Australia and New Zealand\"}, {\"Policy Change ID\": 6228, \"term\": \"harm\", \"tfidf\": 0.4579693927706153, \"region_1\": \"Australia and New Zealand\"}, {\"Policy Change ID\": 9112, \"term\": \"resolution\", \"tfidf\": 0.450785017231785, \"region_1\": \"Australia and New Zealand\"}, {\"Policy Change ID\": 9734, \"term\": \"safety\", \"tfidf\": 0.44731308170475426, \"region_1\": \"Australia and New Zealand\"}, {\"Policy Change ID\": 5643, \"term\": \"data\", \"tfidf\": 0.5196176138906009, \"region_1\": \"Caribbean\"}, {\"Policy Change ID\": 9112, \"term\": \"resolution\", \"tfidf\": 0.45073156519891794, \"region_1\": \"Caribbean\"}, {\"Policy Change ID\": 5643, \"term\": \"ripd\", \"tfidf\": 0.43395442577168286, \"region_1\": \"Caribbean\"}, {\"Policy Change ID\": 1625, \"term\": \"recommendation\", \"tfidf\": 0.411922750582003, \"region_1\": \"Caribbean\"}, {\"Policy Change ID\": 11063, \"term\": \"un\", \"tfidf\": 0.3934013808380257, \"region_1\": \"Caribbean\"}, {\"Policy Change ID\": 1625, \"term\": \"conference\", \"tfidf\": 0.3377956403712984, \"region_1\": \"Caribbean\"}, {\"Policy Change ID\": 10777, \"term\": \"paper\", \"tfidf\": 0.33624246785894985, \"region_1\": \"Caribbean\"}, {\"Policy Change ID\": 1625, \"term\": \"session\", \"tfidf\": 0.3303717323032939, \"region_1\": \"Caribbean\"}, {\"Policy Change ID\": 11784, \"term\": \"domain\", \"tfidf\": 0.3300264728214445, \"region_1\": \"Caribbean\"}, {\"Policy Change ID\": 1625, \"term\": \"ethics\", \"tfidf\": 0.3239291648673683, \"region_1\": \"Caribbean\"}, {\"Policy Change ID\": 10502, \"term\": \"code\", \"tfidf\": 0.554376246186808, \"region_1\": \"Central America\"}, {\"Policy Change ID\": 5377, \"term\": \"language\", \"tfidf\": 0.538794018760413, \"region_1\": \"Central America\"}, {\"Policy Change ID\": 9205, \"term\": \"decree\", \"tfidf\": 0.5205105761426749, \"region_1\": \"Central America\"}, {\"Policy Change ID\": 5643, \"term\": \"data\", \"tfidf\": 0.5196401678551886, \"region_1\": \"Central America\"}, {\"Policy Change ID\": 6918, \"term\": \"scraping\", \"tfidf\": 0.5115273690092006, \"region_1\": \"Central America\"}, {\"Policy Change ID\": 10502, \"term\": \"conduct\", \"tfidf\": 0.4925900404490445, \"region_1\": \"Central America\"}, {\"Policy Change ID\": 9198, \"term\": \"authorisation\", \"tfidf\": 0.4919105003343962, \"region_1\": \"Central America\"}, {\"Policy Change ID\": 10500, \"term\": \"neurotechnologies\", \"tfidf\": 0.4668376124963515, \"region_1\": \"Central America\"}, {\"Policy Change ID\": 9112, \"term\": \"resolution\", \"tfidf\": 0.45074611732826375, \"region_1\": \"Central America\"}, {\"Policy Change ID\": 5377, \"term\": \"paper\", \"tfidf\": 0.4438182795996179, \"region_1\": \"Central America\"}, {\"Policy Change ID\": 9112, \"term\": \"resolution\", \"tfidf\": 0.4507685181270233, \"region_1\": \"Central Asia\"}, {\"Policy Change ID\": 1625, \"term\": \"recommendation\", \"tfidf\": 0.4119941232827188, \"region_1\": \"Central Asia\"}, {\"Policy Change ID\": 11063, \"term\": \"un\", \"tfidf\": 0.3934434421518568, \"region_1\": \"Central Asia\"}, {\"Policy Change ID\": 1625, \"term\": \"conference\", \"tfidf\": 0.3378174266730023, \"region_1\": \"Central Asia\"}, {\"Policy Change ID\": 10777, \"term\": \"paper\", \"tfidf\": 0.3362722674420983, \"region_1\": \"Central Asia\"}, {\"Policy Change ID\": 1625, \"term\": \"session\", \"tfidf\": 0.3304138188732262, \"region_1\": \"Central Asia\"}, {\"Policy Change ID\": 11784, \"term\": \"domain\", \"tfidf\": 0.3299870829828906, \"region_1\": \"Central Asia\"}, {\"Policy Change ID\": 1625, \"term\": \"ethics\", \"tfidf\": 0.3239665902150929, \"region_1\": \"Central Asia\"}, {\"Policy Change ID\": 11063, \"term\": \"science\", \"tfidf\": 0.322875132398459, \"region_1\": \"Central Asia\"}, {\"Policy Change ID\": 11063, \"term\": \"oecd\", \"tfidf\": 0.32234559401090607, \"region_1\": \"Central Asia\"}, {\"Policy Change ID\": 8508, \"term\": \"generative\", \"tfidf\": 0.6444434159780896, \"region_1\": \"Eastern Africa\"}, {\"Policy Change ID\": 7841, \"term\": \"robotics\", \"tfidf\": 0.5146846822372578, \"region_1\": \"Eastern Africa\"}, {\"Policy Change ID\": 11066, \"term\": \"playbook\", \"tfidf\": 0.49721290789518446, \"region_1\": \"Eastern Africa\"}, {\"Policy Change ID\": 9778, \"term\": \"kenya\", \"tfidf\": 0.46930262103253445, \"region_1\": \"Eastern Africa\"}, {\"Policy Change ID\": 9265, \"term\": \"china\", \"tfidf\": 0.46076693943777886, \"region_1\": \"Eastern Africa\"}, {\"Policy Change ID\": 9112, \"term\": \"resolution\", \"tfidf\": 0.4507156131076545, \"region_1\": \"Eastern Africa\"}, {\"Policy Change ID\": 11066, \"term\": \"small\", \"tfidf\": 0.4327822563053659, \"region_1\": \"Eastern Africa\"}, {\"Policy Change ID\": 1625, \"term\": \"recommendation\", \"tfidf\": 0.41192920415712475, \"region_1\": \"Eastern Africa\"}, {\"Policy Change ID\": 7516, \"term\": \"parties\", \"tfidf\": 0.4092093977257427, \"region_1\": \"Eastern Africa\"}, {\"Policy Change ID\": 10033, \"term\": \"strategy\", \"tfidf\": 0.40570727067985557, \"region_1\": \"Eastern Africa\"}, {\"Policy Change ID\": 11242, \"term\": \"competition\", \"tfidf\": 0.7219320039284204, \"region_1\": \"Eastern Asia\"}, {\"Policy Change ID\": 10060, \"term\": \"snow\", \"tfidf\": 0.6484480131397983, \"region_1\": \"Eastern Asia\"}, {\"Policy Change ID\": 7689, \"term\": \"bill\", \"tfidf\": 0.6336029342190848, \"region_1\": \"Eastern Asia\"}, {\"Policy Change ID\": 5289, \"term\": \"export\", \"tfidf\": 0.615245401959809, \"region_1\": \"Eastern Asia\"}, {\"Policy Change ID\": 10059, \"term\": \"skt\", \"tfidf\": 0.6146083615872442, \"region_1\": \"Eastern Asia\"}, {\"Policy Change ID\": 10291, \"term\": \"phishing\", \"tfidf\": 0.5994665845724197, \"region_1\": \"Eastern Asia\"}, {\"Policy Change ID\": 11704, \"term\": \"contract\", \"tfidf\": 0.595828534315502, \"region_1\": \"Eastern Asia\"}, {\"Policy Change ID\": 10062, \"term\": \"vuno\", \"tfidf\": 0.5744015389333932, \"region_1\": \"Eastern Asia\"}, {\"Policy Change ID\": 10061, \"term\": \"deepl\", \"tfidf\": 0.5645192695842589, \"region_1\": \"Eastern Asia\"}, {\"Policy Change ID\": 10502, \"term\": \"code\", \"tfidf\": 0.5544383771020521, \"region_1\": \"Eastern Asia\"}, {\"Policy Change ID\": 1463, \"term\": \"insurance\", \"tfidf\": 0.6408652933523536, \"region_1\": \"Eastern Europe\"}, {\"Policy Change ID\": 4185, \"term\": \"machinery\", \"tfidf\": 0.6051465026848637, \"region_1\": \"Eastern Europe\"}, {\"Policy Change ID\": 5031, \"term\": \"standardisation\", \"tfidf\": 0.5719535432970484, \"region_1\": \"Eastern Europe\"}, {\"Policy Change ID\": 7327, \"term\": \"roadmap\", \"tfidf\": 0.5588105972682073, \"region_1\": \"Eastern Europe\"}, {\"Policy Change ID\": 10502, \"term\": \"code\", \"tfidf\": 0.5543828505100218, \"region_1\": \"Eastern Europe\"}, {\"Policy Change ID\": 10560, \"term\": \"online\", \"tfidf\": 0.5390732975205338, \"region_1\": \"Eastern Europe\"}, {\"Policy Change ID\": 5377, \"term\": \"language\", \"tfidf\": 0.5388681134173878, \"region_1\": \"Eastern Europe\"}, {\"Policy Change ID\": 10143, \"term\": \"convention\", \"tfidf\": 0.524700631731412, \"region_1\": \"Eastern Europe\"}, {\"Policy Change ID\": 118, \"term\": \"white\", \"tfidf\": 0.5232468254597552, \"region_1\": \"Eastern Europe\"}, {\"Policy Change ID\": 1871, \"term\": \"ml\", \"tfidf\": 0.5148319628034239, \"region_1\": \"Eastern Europe\"}, {\"Policy Change ID\": 9112, \"term\": \"resolution\", \"tfidf\": 0.45071687978681424, \"region_1\": \"Melanesia\"}, {\"Policy Change ID\": 1625, \"term\": \"recommendation\", \"tfidf\": 0.4119380444528515, \"region_1\": \"Melanesia\"}, {\"Policy Change ID\": 11063, \"term\": \"un\", \"tfidf\": 0.39345585558363455, \"region_1\": \"Melanesia\"}, {\"Policy Change ID\": 1625, \"term\": \"conference\", \"tfidf\": 0.3377966789635565, \"region_1\": \"Melanesia\"}, {\"Policy Change ID\": 10777, \"term\": \"paper\", \"tfidf\": 0.33623588663782006, \"region_1\": \"Melanesia\"}, {\"Policy Change ID\": 1625, \"term\": \"session\", \"tfidf\": 0.3303947426971926, \"region_1\": \"Melanesia\"}, {\"Policy Change ID\": 11784, \"term\": \"domain\", \"tfidf\": 0.3299723684855091, \"region_1\": \"Melanesia\"}, {\"Policy Change ID\": 1625, \"term\": \"ethics\", \"tfidf\": 0.3239447653993669, \"region_1\": \"Melanesia\"}, {\"Policy Change ID\": 11063, \"term\": \"science\", \"tfidf\": 0.3227857306993297, \"region_1\": \"Melanesia\"}, {\"Policy Change ID\": 11063, \"term\": \"oecd\", \"tfidf\": 0.322303591618896, \"region_1\": \"Melanesia\"}, {\"Policy Change ID\": 9112, \"term\": \"resolution\", \"tfidf\": 0.45074613353297327, \"region_1\": \"Micronesia\"}, {\"Policy Change ID\": 1625, \"term\": \"recommendation\", \"tfidf\": 0.41192755286338484, \"region_1\": \"Micronesia\"}, {\"Policy Change ID\": 11063, \"term\": \"un\", \"tfidf\": 0.3934368130454045, \"region_1\": \"Micronesia\"}, {\"Policy Change ID\": 1625, \"term\": \"conference\", \"tfidf\": 0.3378085602341889, \"region_1\": \"Micronesia\"}, {\"Policy Change ID\": 10777, \"term\": \"paper\", \"tfidf\": 0.33623839899178926, \"region_1\": \"Micronesia\"}, {\"Policy Change ID\": 1625, \"term\": \"session\", \"tfidf\": 0.3303614430267755, \"region_1\": \"Micronesia\"}, {\"Policy Change ID\": 11784, \"term\": \"domain\", \"tfidf\": 0.329964212071242, \"region_1\": \"Micronesia\"}, {\"Policy Change ID\": 1625, \"term\": \"ethics\", \"tfidf\": 0.3239908987636795, \"region_1\": \"Micronesia\"}, {\"Policy Change ID\": 11063, \"term\": \"science\", \"tfidf\": 0.3227946596128129, \"region_1\": \"Micronesia\"}, {\"Policy Change ID\": 11063, \"term\": \"oecd\", \"tfidf\": 0.3223643353280586, \"region_1\": \"Micronesia\"}, {\"Policy Change ID\": 9265, \"term\": \"china\", \"tfidf\": 0.4606987247584046, \"region_1\": \"Middle Africa\"}, {\"Policy Change ID\": 9112, \"term\": \"resolution\", \"tfidf\": 0.45074001370635697, \"region_1\": \"Middle Africa\"}, {\"Policy Change ID\": 1625, \"term\": \"recommendation\", \"tfidf\": 0.4119195936265313, \"region_1\": \"Middle Africa\"}, {\"Policy Change ID\": 10033, \"term\": \"strategy\", \"tfidf\": 0.4056537431832113, \"region_1\": \"Middle Africa\"}, {\"Policy Change ID\": 11063, \"term\": \"un\", \"tfidf\": 0.3934390406383735, \"region_1\": \"Middle Africa\"}, {\"Policy Change ID\": 9265, \"term\": \"cooperation\", \"tfidf\": 0.3722346507802535, \"region_1\": \"Middle Africa\"}, {\"Policy Change ID\": 9265, \"term\": \"data\", \"tfidf\": 0.3722498760502658, \"region_1\": \"Middle Africa\"}, {\"Policy Change ID\": 9265, \"term\": \"africa\", \"tfidf\": 0.3622000670743022, \"region_1\": \"Middle Africa\"}, {\"Policy Change ID\": 1625, \"term\": \"conference\", \"tfidf\": 0.3377759405618552, \"region_1\": \"Middle Africa\"}, {\"Policy Change ID\": 10777, \"term\": \"paper\", \"tfidf\": 0.3361886277688949, \"region_1\": \"Middle Africa\"}, {\"Policy Change ID\": 8508, \"term\": \"generative\", \"tfidf\": 0.6445038712579866, \"region_1\": \"Northern Africa\"}, {\"Policy Change ID\": 6918, \"term\": \"scraping\", \"tfidf\": 0.5115830931723029, \"region_1\": \"Northern Africa\"}, {\"Policy Change ID\": 9265, \"term\": \"china\", \"tfidf\": 0.46070260070973057, \"region_1\": \"Northern Africa\"}, {\"Policy Change ID\": 9112, \"term\": \"resolution\", \"tfidf\": 0.45080043889807153, \"region_1\": \"Northern Africa\"}, {\"Policy Change ID\": 6918, \"term\": \"statement\", \"tfidf\": 0.42603315877241854, \"region_1\": \"Northern Africa\"}, {\"Policy Change ID\": 1625, \"term\": \"recommendation\", \"tfidf\": 0.4119326660319747, \"region_1\": \"Northern Africa\"}, {\"Policy Change ID\": 10033, \"term\": \"strategy\", \"tfidf\": 0.40564747361405823, \"region_1\": \"Northern Africa\"}, {\"Policy Change ID\": 11063, \"term\": \"un\", \"tfidf\": 0.3933810931523048, \"region_1\": \"Northern Africa\"}, {\"Policy Change ID\": 9265, \"term\": \"cooperation\", \"tfidf\": 0.37227157102793396, \"region_1\": \"Northern Africa\"}, {\"Policy Change ID\": 9265, \"term\": \"data\", \"tfidf\": 0.37229478460055926, \"region_1\": \"Northern Africa\"}, {\"Policy Change ID\": 11242, \"term\": \"competition\", \"tfidf\": 0.7218780751395191, \"region_1\": \"Northern America\"}, {\"Policy Change ID\": 11106, \"term\": \"research\", \"tfidf\": 0.7092577193952414, \"region_1\": \"Northern America\"}, {\"Policy Change ID\": 8140, \"term\": \"hub\", \"tfidf\": 0.654649903844056, \"region_1\": \"Northern America\"}, {\"Policy Change ID\": 10412, \"term\": \"directive\", \"tfidf\": 0.6481034045574837, \"region_1\": \"Northern America\"}, {\"Policy Change ID\": 7529, \"term\": \"usaisi\", \"tfidf\": 0.6259314527916082, \"region_1\": \"Northern America\"}, {\"Policy Change ID\": 5602, \"term\": \"airc\", \"tfidf\": 0.6143674325386834, \"region_1\": \"Northern America\"}, {\"Policy Change ID\": 372, \"term\": \"nuclear\", \"tfidf\": 0.5862410811037023, \"region_1\": \"Northern America\"}, {\"Policy Change ID\": 5549, \"term\": \"ostp\", \"tfidf\": 0.5752343040325015, \"region_1\": \"Northern America\"}, {\"Policy Change ID\": 9964, \"term\": \"warnings\", \"tfidf\": 0.5751073127849003, \"region_1\": \"Northern America\"}, {\"Policy Change ID\": 9505, \"term\": \"guideline\", \"tfidf\": 0.5688218834376307, \"region_1\": \"Northern America\"}, {\"Policy Change ID\": 9747, \"term\": \"template\", \"tfidf\": 0.6426702651358649, \"region_1\": \"Northern Europe\"}, {\"Policy Change ID\": 1463, \"term\": \"insurance\", \"tfidf\": 0.6408744912061191, \"region_1\": \"Northern Europe\"}, {\"Policy Change ID\": 4185, \"term\": \"machinery\", \"tfidf\": 0.6052010790671314, \"region_1\": \"Northern Europe\"}, {\"Policy Change ID\": 5031, \"term\": \"standardisation\", \"tfidf\": 0.5719529264270357, \"region_1\": \"Northern Europe\"}, {\"Policy Change ID\": 10502, \"term\": \"code\", \"tfidf\": 0.5544529096257915, \"region_1\": \"Northern Europe\"}, {\"Policy Change ID\": 8904, \"term\": \"sandbox\", \"tfidf\": 0.551854209274295, \"region_1\": \"Northern Europe\"}, {\"Policy Change ID\": 10560, \"term\": \"online\", \"tfidf\": 0.5389968148155694, \"region_1\": \"Northern Europe\"}, {\"Policy Change ID\": 5377, \"term\": \"language\", \"tfidf\": 0.538875741370279, \"region_1\": \"Northern Europe\"}, {\"Policy Change ID\": 9146, \"term\": \"strategy\", \"tfidf\": 0.5345735294970084, \"region_1\": \"Northern Europe\"}, {\"Policy Change ID\": 10143, \"term\": \"convention\", \"tfidf\": 0.5247439705379146, \"region_1\": \"Northern Europe\"}, {\"Policy Change ID\": 9112, \"term\": \"resolution\", \"tfidf\": 0.45071462900150067, \"region_1\": \"Polynesia\"}, {\"Policy Change ID\": 1625, \"term\": \"recommendation\", \"tfidf\": 0.41195749783764113, \"region_1\": \"Polynesia\"}, {\"Policy Change ID\": 11063, \"term\": \"un\", \"tfidf\": 0.39339030281835113, \"region_1\": \"Polynesia\"}, {\"Policy Change ID\": 1625, \"term\": \"conference\", \"tfidf\": 0.33775551978042306, \"region_1\": \"Polynesia\"}, {\"Policy Change ID\": 10777, \"term\": \"paper\", \"tfidf\": 0.33627420682701453, \"region_1\": \"Polynesia\"}, {\"Policy Change ID\": 1625, \"term\": \"session\", \"tfidf\": 0.3304254873161067, \"region_1\": \"Polynesia\"}, {\"Policy Change ID\": 11784, \"term\": \"domain\", \"tfidf\": 0.32997682895774993, \"region_1\": \"Polynesia\"}, {\"Policy Change ID\": 1625, \"term\": \"ethics\", \"tfidf\": 0.32394138507456177, \"region_1\": \"Polynesia\"}, {\"Policy Change ID\": 11063, \"term\": \"science\", \"tfidf\": 0.32287363846954226, \"region_1\": \"Polynesia\"}, {\"Policy Change ID\": 11063, \"term\": \"oecd\", \"tfidf\": 0.3223339859790772, \"region_1\": \"Polynesia\"}, {\"Policy Change ID\": 7062, \"term\": \"internet\", \"tfidf\": 0.6272176797651534, \"region_1\": \"South America\"}, {\"Policy Change ID\": 10522, \"term\": \"observatory\", \"tfidf\": 0.6221561165261059, \"region_1\": \"South America\"}, {\"Policy Change ID\": 10502, \"term\": \"code\", \"tfidf\": 0.5544124556052058, \"region_1\": \"South America\"}, {\"Policy Change ID\": 5377, \"term\": \"language\", \"tfidf\": 0.5388364186998366, \"region_1\": \"South America\"}, {\"Policy Change ID\": 5643, \"term\": \"data\", \"tfidf\": 0.5196693733412195, \"region_1\": \"South America\"}, {\"Policy Change ID\": 7754, \"term\": \"secure\", \"tfidf\": 0.5129672307913126, \"region_1\": \"South America\"}, {\"Policy Change ID\": 6918, \"term\": \"scraping\", \"tfidf\": 0.5115728879846736, \"region_1\": \"South America\"}, {\"Policy Change ID\": 10993, \"term\": \"guide\", \"tfidf\": 0.5111572307952781, \"region_1\": \"South America\"}, {\"Policy Change ID\": 8838, \"term\": \"inventions\", \"tfidf\": 0.5092609133945211, \"region_1\": \"South America\"}, {\"Policy Change ID\": 10502, \"term\": \"conduct\", \"tfidf\": 0.4926101120318772, \"region_1\": \"South America\"}, {\"Policy Change ID\": 10388, \"term\": \"bsp\", \"tfidf\": 0.6968287194188012, \"region_1\": \"South-eastern Asia\"}, {\"Policy Change ID\": 11269, \"term\": \"cair\", \"tfidf\": 0.5823255144816076, \"region_1\": \"South-eastern Asia\"}, {\"Policy Change ID\": 11088, \"term\": \"malaysia\", \"tfidf\": 0.5611416868381259, \"region_1\": \"South-eastern Asia\"}, {\"Policy Change ID\": 11675, \"term\": \"generative\", \"tfidf\": 0.5416519847276018, \"region_1\": \"South-eastern Asia\"}, {\"Policy Change ID\": 11268, \"term\": \"naisr\", \"tfidf\": 0.5396552018639296, \"region_1\": \"South-eastern Asia\"}, {\"Policy Change ID\": 11043, \"term\": \"aida\", \"tfidf\": 0.5188478698321736, \"region_1\": \"South-eastern Asia\"}, {\"Policy Change ID\": 7754, \"term\": \"secure\", \"tfidf\": 0.5128857074466056, \"region_1\": \"South-eastern Asia\"}, {\"Policy Change ID\": 4326, \"term\": \"mou\", \"tfidf\": 0.5100289200264883, \"region_1\": \"South-eastern Asia\"}, {\"Policy Change ID\": 11066, \"term\": \"playbook\", \"tfidf\": 0.4972623521564966, \"region_1\": \"South-eastern Asia\"}, {\"Policy Change ID\": 10551, \"term\": \"strategy\", \"tfidf\": 0.4934715554015445, \"region_1\": \"South-eastern Asia\"}, {\"Policy Change ID\": 9265, \"term\": \"china\", \"tfidf\": 0.46072195752146805, \"region_1\": \"Southern Africa\"}, {\"Policy Change ID\": 9112, \"term\": \"resolution\", \"tfidf\": 0.45074214151327635, \"region_1\": \"Southern Africa\"}, {\"Policy Change ID\": 5100, \"term\": \"news\", \"tfidf\": 0.4412342186031548, \"region_1\": \"Southern Africa\"}, {\"Policy Change ID\": 1625, \"term\": \"recommendation\", \"tfidf\": 0.4119951826479712, \"region_1\": \"Southern Africa\"}, {\"Policy Change ID\": 10033, \"term\": \"strategy\", \"tfidf\": 0.40568941092361294, \"region_1\": \"Southern Africa\"}, {\"Policy Change ID\": 11063, \"term\": \"un\", \"tfidf\": 0.39343840000712144, \"region_1\": \"Southern Africa\"}, {\"Policy Change ID\": 9265, \"term\": \"cooperation\", \"tfidf\": 0.372254217510329, \"region_1\": \"Southern Africa\"}, {\"Policy Change ID\": 9265, \"term\": \"data\", \"tfidf\": 0.37228924833006777, \"region_1\": \"Southern Africa\"}, {\"Policy Change ID\": 9265, \"term\": \"africa\", \"tfidf\": 0.36222086420750643, \"region_1\": \"Southern Africa\"}, {\"Policy Change ID\": 5100, \"term\": \"survey\", \"tfidf\": 0.35301875703796215, \"region_1\": \"Southern Africa\"}, {\"Policy Change ID\": 9444, \"term\": \"competition\", \"tfidf\": 0.7243002334387779, \"region_1\": \"Southern Asia\"}, {\"Policy Change ID\": 8508, \"term\": \"generative\", \"tfidf\": 0.6444882867839714, \"region_1\": \"Southern Asia\"}, {\"Policy Change ID\": 2076, \"term\": \"ml\", \"tfidf\": 0.5995308843864382, \"region_1\": \"Southern Asia\"}, {\"Policy Change ID\": 5568, \"term\": \"mou\", \"tfidf\": 0.4615386406834283, \"region_1\": \"Southern Asia\"}, {\"Policy Change ID\": 9112, \"term\": \"resolution\", \"tfidf\": 0.45073902520047465, \"region_1\": \"Southern Asia\"}, {\"Policy Change ID\": 8054, \"term\": \"advisory\", \"tfidf\": 0.4395432530298877, \"region_1\": \"Southern Asia\"}, {\"Policy Change ID\": 1625, \"term\": \"recommendation\", \"tfidf\": 0.4119515330156595, \"region_1\": \"Southern Asia\"}, {\"Policy Change ID\": 7516, \"term\": \"parties\", \"tfidf\": 0.4092468450524284, \"region_1\": \"Southern Asia\"}, {\"Policy Change ID\": 8054, \"term\": \"content\", \"tfidf\": 0.4056172145592043, \"region_1\": \"Southern Asia\"}, {\"Policy Change ID\": 3266, \"term\": \"big\", \"tfidf\": 0.39505048095381734, \"region_1\": \"Southern Asia\"}, {\"Policy Change ID\": 11242, \"term\": \"competition\", \"tfidf\": 0.7219076493703023, \"region_1\": \"Southern Europe\"}, {\"Policy Change ID\": 1463, \"term\": \"insurance\", \"tfidf\": 0.6408222653931445, \"region_1\": \"Southern Europe\"}, {\"Policy Change ID\": 4185, \"term\": \"machinery\", \"tfidf\": 0.6051922598876147, \"region_1\": \"Southern Europe\"}, {\"Policy Change ID\": 5031, \"term\": \"standardisation\", \"tfidf\": 0.5719587082222588, \"region_1\": \"Southern Europe\"}, {\"Policy Change ID\": 10502, \"term\": \"code\", \"tfidf\": 0.554460646784395, \"region_1\": \"Southern Europe\"}, {\"Policy Change ID\": 6172, \"term\": \"dpas\", \"tfidf\": 0.548526783478496, \"region_1\": \"Southern Europe\"}, {\"Policy Change ID\": 8946, \"term\": \"dpa\", \"tfidf\": 0.5428809810522262, \"region_1\": \"Southern Europe\"}, {\"Policy Change ID\": 10560, \"term\": \"online\", \"tfidf\": 0.5390389437778039, \"region_1\": \"Southern Europe\"}, {\"Policy Change ID\": 5377, \"term\": \"language\", \"tfidf\": 0.5388017611242852, \"region_1\": \"Southern Europe\"}, {\"Policy Change ID\": 8615, \"term\": \"testing\", \"tfidf\": 0.5250408175412641, \"region_1\": \"Southern Europe\"}, {\"Policy Change ID\": 8508, \"term\": \"generative\", \"tfidf\": 0.6445024490070049, \"region_1\": \"Western Africa\"}, {\"Policy Change ID\": 7754, \"term\": \"secure\", \"tfidf\": 0.5129666195203889, \"region_1\": \"Western Africa\"}, {\"Policy Change ID\": 9265, \"term\": \"china\", \"tfidf\": 0.46067705018399, \"region_1\": \"Western Africa\"}, {\"Policy Change ID\": 9112, \"term\": \"resolution\", \"tfidf\": 0.4507379341775813, \"region_1\": \"Western Africa\"}, {\"Policy Change ID\": 1625, \"term\": \"recommendation\", \"tfidf\": 0.41197023758507967, \"region_1\": \"Western Africa\"}, {\"Policy Change ID\": 7516, \"term\": \"parties\", \"tfidf\": 0.40920670923375896, \"region_1\": \"Western Africa\"}, {\"Policy Change ID\": 7754, \"term\": \"design\", \"tfidf\": 0.40870535462357005, \"region_1\": \"Western Africa\"}, {\"Policy Change ID\": 10033, \"term\": \"strategy\", \"tfidf\": 0.4056785027168392, \"region_1\": \"Western Africa\"}, {\"Policy Change ID\": 11063, \"term\": \"un\", \"tfidf\": 0.393420073408634, \"region_1\": \"Western Africa\"}, {\"Policy Change ID\": 9265, \"term\": \"cooperation\", \"tfidf\": 0.37225525206414894, \"region_1\": \"Western Africa\"}, {\"Policy Change ID\": 9679, \"term\": \"media\", \"tfidf\": 0.7761855276048799, \"region_1\": \"Western Asia\"}, {\"Policy Change ID\": 8508, \"term\": \"generative\", \"tfidf\": 0.6445027483988084, \"region_1\": \"Western Asia\"}, {\"Policy Change ID\": 1463, \"term\": \"insurance\", \"tfidf\": 0.6408179867957451, \"region_1\": \"Western Asia\"}, {\"Policy Change ID\": 4185, \"term\": \"machinery\", \"tfidf\": 0.6052067150211755, \"region_1\": \"Western Asia\"}, {\"Policy Change ID\": 10617, \"term\": \"charter\", \"tfidf\": 0.603604653878624, \"region_1\": \"Western Asia\"}, {\"Policy Change ID\": 5031, \"term\": \"standardisation\", \"tfidf\": 0.571982785387001, \"region_1\": \"Western Asia\"}, {\"Policy Change ID\": 10502, \"term\": \"code\", \"tfidf\": 0.5544335147486273, \"region_1\": \"Western Asia\"}, {\"Policy Change ID\": 10560, \"term\": \"online\", \"tfidf\": 0.538981412030016, \"region_1\": \"Western Asia\"}, {\"Policy Change ID\": 5377, \"term\": \"language\", \"tfidf\": 0.5388668639847282, \"region_1\": \"Western Asia\"}, {\"Policy Change ID\": 10143, \"term\": \"convention\", \"tfidf\": 0.5246840581541038, \"region_1\": \"Western Asia\"}, {\"Policy Change ID\": 11242, \"term\": \"competition\", \"tfidf\": 0.7219000066431354, \"region_1\": \"Western Europe\"}, {\"Policy Change ID\": 7078, \"term\": \"bill\", \"tfidf\": 0.6818462426812931, \"region_1\": \"Western Europe\"}, {\"Policy Change ID\": 1463, \"term\": \"insurance\", \"tfidf\": 0.6408122326846747, \"region_1\": \"Western Europe\"}, {\"Policy Change ID\": 10218, \"term\": \"inventor\", \"tfidf\": 0.6218271471134881, \"region_1\": \"Western Europe\"}, {\"Policy Change ID\": 4185, \"term\": \"machinery\", \"tfidf\": 0.6051409912779998, \"region_1\": \"Western Europe\"}, {\"Policy Change ID\": 10099, \"term\": \"meta\", \"tfidf\": 0.5764686100049358, \"region_1\": \"Western Europe\"}, {\"Policy Change ID\": 5031, \"term\": \"standardisation\", \"tfidf\": 0.571973404535038, \"region_1\": \"Western Europe\"}, {\"Policy Change ID\": 10502, \"term\": \"code\", \"tfidf\": 0.5544266038332117, \"region_1\": \"Western Europe\"}, {\"Policy Change ID\": 10466, \"term\": \"onkida\", \"tfidf\": 0.5536844739080183, \"region_1\": \"Western Europe\"}, {\"Policy Change ID\": 463, \"term\": \"works\", \"tfidf\": 0.5508921131426573, \"region_1\": \"Western Europe\"}]}}, {\"mode\": \"vega-lite\"});\n",
              "</script>"
            ],
            "text/plain": [
              "alt.LayerChart(...)"
            ]
          },
          "metadata": {},
          "execution_count": 86
        }
      ]
    },
    {
      "cell_type": "markdown",
      "source": [
        "# **AI POLICY TOPIC MODELLING**"
      ],
      "metadata": {
        "id": "Kx5kDyBR6lYu"
      }
    },
    {
      "cell_type": "code",
      "source": [
        "topic_training_data = ai_policies_df.clean_event_description.to_list()\n",
        "\n",
        "# Number of topics to return\n",
        "num_topics = 8\n",
        "\n",
        "# Number of topic words to print out\n",
        "num_topic_words = 10\n",
        "\n",
        "# Intialize the model\n",
        "model = tp.LDAModel(k=num_topics, seed=42)\n",
        "\n",
        "# Add each document to the model, after removing white space (strip)\n",
        "# and splitting it up into words (split)\n",
        "for text in topic_training_data:\n",
        "    model.add_doc(text.strip().split())\n",
        "\n",
        "# The log-likelihood function is typically used to\n",
        "# derive the maximum likelihood estimator of the parameter\n",
        "print(\"Topic Model Training...\\n\\n\")\n",
        "\n",
        "# Iterate over the data 100 times\n",
        "iterations = 40\n",
        "for i in range(0, iterations):\n",
        "    model.train(iterations)\n",
        "    print(f'Iteration: {i}\\tLog-likelihood: {model.ll_per_word}')\n",
        "\n",
        "print(\"\\nTopic Model Results:\\n\\n\")\n",
        "# Print out top 10 words for each topic\n",
        "topics = []\n",
        "topic_individual_words = []\n",
        "for topic_number in range(0, num_topics):\n",
        "    topic_words = ' '.join(word for word, prob in model.get_topic_words(topic_id=topic_number, top_n=num_topic_words))\n",
        "    topics.append(topic_words)\n",
        "    topic_individual_words.append(topic_words.split())\n",
        "    print(f\"✨Topic {topic_number+1}✨\\n\\n{topic_words}\\n\")"
      ],
      "metadata": {
        "colab": {
          "base_uri": "https://localhost:8080/"
        },
        "collapsed": true,
        "id": "_i56UHFP7Gfe",
        "outputId": "a4cf8eff-d102-42c8-a02c-07a1e3f6288f"
      },
      "execution_count": 94,
      "outputs": [
        {
          "output_type": "stream",
          "name": "stdout",
          "text": [
            "Topic Model Training...\n",
            "\n",
            "\n",
            "Iteration: 0\tLog-likelihood: -7.581507030345364\n",
            "Iteration: 1\tLog-likelihood: -7.493695987730095\n"
          ]
        },
        {
          "output_type": "stream",
          "name": "stderr",
          "text": [
            "<ipython-input-94-47379c959a75>:24: RuntimeWarning: The training result may differ even with fixed seed if `workers` != 1.\n",
            "  model.train(iterations)\n"
          ]
        },
        {
          "output_type": "stream",
          "name": "stdout",
          "text": [
            "Iteration: 2\tLog-likelihood: -7.464114129558229\n",
            "Iteration: 3\tLog-likelihood: -7.441581269536054\n",
            "Iteration: 4\tLog-likelihood: -7.428933354076105\n",
            "Iteration: 5\tLog-likelihood: -7.428313134106953\n",
            "Iteration: 6\tLog-likelihood: -7.4181145066084415\n",
            "Iteration: 7\tLog-likelihood: -7.425687697991197\n",
            "Iteration: 8\tLog-likelihood: -7.415808159879553\n",
            "Iteration: 9\tLog-likelihood: -7.421224371926906\n",
            "Iteration: 10\tLog-likelihood: -7.417572736042145\n",
            "Iteration: 11\tLog-likelihood: -7.42373203386678\n",
            "Iteration: 12\tLog-likelihood: -7.419453381949495\n",
            "Iteration: 13\tLog-likelihood: -7.422617371255068\n",
            "Iteration: 14\tLog-likelihood: -7.427568627354448\n",
            "Iteration: 15\tLog-likelihood: -7.420053947266181\n",
            "Iteration: 16\tLog-likelihood: -7.408635242187451\n",
            "Iteration: 17\tLog-likelihood: -7.413724246337073\n",
            "Iteration: 18\tLog-likelihood: -7.41337260533669\n",
            "Iteration: 19\tLog-likelihood: -7.413625170365029\n",
            "Iteration: 20\tLog-likelihood: -7.413844737533853\n",
            "Iteration: 21\tLog-likelihood: -7.412673413377749\n",
            "Iteration: 22\tLog-likelihood: -7.415652382909972\n",
            "Iteration: 23\tLog-likelihood: -7.407084752063899\n",
            "Iteration: 24\tLog-likelihood: -7.413975548585996\n",
            "Iteration: 25\tLog-likelihood: -7.415992257897199\n",
            "Iteration: 26\tLog-likelihood: -7.407892505634996\n",
            "Iteration: 27\tLog-likelihood: -7.4050442813006105\n",
            "Iteration: 28\tLog-likelihood: -7.407769190905763\n",
            "Iteration: 29\tLog-likelihood: -7.397664747214226\n",
            "Iteration: 30\tLog-likelihood: -7.405218131154663\n",
            "Iteration: 31\tLog-likelihood: -7.401361505564829\n",
            "Iteration: 32\tLog-likelihood: -7.398090369060116\n",
            "Iteration: 33\tLog-likelihood: -7.393345229686649\n",
            "Iteration: 34\tLog-likelihood: -7.400555330546031\n",
            "Iteration: 35\tLog-likelihood: -7.399059714285379\n",
            "Iteration: 36\tLog-likelihood: -7.400405751310934\n",
            "Iteration: 37\tLog-likelihood: -7.400991350738526\n",
            "Iteration: 38\tLog-likelihood: -7.407197108420675\n",
            "Iteration: 39\tLog-likelihood: -7.4086017761523735\n",
            "\n",
            "Topic Model Results:\n",
            "\n",
            "\n",
            "✨Topic 1✨\n",
            "\n",
            "data protection personal information processing authority training privacy user consent\n",
            "\n",
            "✨Topic 2✨\n",
            "\n",
            "market competition commission service consumer financial company trade issue product\n",
            "\n",
            "✨Topic 3✨\n",
            "\n",
            "bill would introduce right require decision individual automate include establish\n",
            "\n",
            "✨Topic 4✨\n",
            "\n",
            "development aim digital framework national support promote research strategy international\n",
            "\n",
            "✨Topic 5✨\n",
            "\n",
            "service regulation include require provider law authority must implement provide\n",
            "\n",
            "✨Topic 6✨\n",
            "\n",
            "risk include guideline ensure model address development principle safety consultation\n",
            "\n",
            "✨Topic 7✨\n",
            "\n",
            "security cloud cybersecurity standard service national draft control compute infrastructure\n",
            "\n",
            "✨Topic 8✨\n",
            "\n",
            "content platform generative generate medium online copyright work digital image\n",
            "\n"
          ]
        }
      ]
    },
    {
      "cell_type": "code",
      "source": [
        "topic_distributions = [list(doc.get_topic_dist()) for doc in model.docs]\n",
        "ai_policies_topics = pd.DataFrame(topic_distributions)"
      ],
      "metadata": {
        "id": "qSna697s7Gcr"
      },
      "execution_count": 172,
      "outputs": []
    },
    {
      "cell_type": "code",
      "source": [
        "ai_policies_df_topics = ai_policies_df.join(ai_policies_topics)"
      ],
      "metadata": {
        "id": "vBCRj6s2N_ge"
      },
      "execution_count": 173,
      "outputs": []
    },
    {
      "cell_type": "code",
      "source": [
        "dict_topics = {0:\"topic_1\", 1:\"topic_2\", 2:\"topic_3\", 3:\"topic_4\", 4:\"topic_5\", 5:\"topic_6\", 6:\"topic_7\", 7:\"topic_8\"}"
      ],
      "metadata": {
        "id": "zTZxxHLYu1p5"
      },
      "execution_count": 183,
      "outputs": []
    },
    {
      "cell_type": "code",
      "source": [
        "ai_policies_country_topics = ai_policies_df_topics.assign(countries=ai_policies_df_topics['Implementing Countries'].str.split(', ')).explode('countries').reset_index(drop=True)\n",
        "ai_policies_country_topics = pd.merge(ai_policies_country_topics,cc_df[['countries', 'region_1']],on='countries')\n",
        "ai_policies_country_topics = ai_policies_country_topics.rename(columns=dict_topics)\n",
        "ai_policies_country_topics = ai_policies_country_topics.drop(columns='countries')"
      ],
      "metadata": {
        "id": "CmsuPx8c7GN0"
      },
      "execution_count": 184,
      "outputs": []
    },
    {
      "cell_type": "code",
      "source": [
        "ai_policies_country_topics_only = ai_policies_country_topics.iloc[:,num_topics*(-1)-1:]"
      ],
      "metadata": {
        "id": "O5W3sqGdG157"
      },
      "execution_count": 206,
      "outputs": []
    },
    {
      "cell_type": "code",
      "source": [
        "ai_policies_country_topics = ai_policies_country_topics_only.groupby(['region_1']).mean()\n",
        "hist_data = ai_policies_country_topics"
      ],
      "metadata": {
        "id": "ai4JyGoZG13f"
      },
      "execution_count": 207,
      "outputs": []
    },
    {
      "cell_type": "code",
      "source": [
        "sns.heatmap(hist_data, cmap='crest', robust=True)"
      ],
      "metadata": {
        "colab": {
          "base_uri": "https://localhost:8080/",
          "height": 483
        },
        "id": "YVqQzeglxBVD",
        "outputId": "e876c02e-88f1-4b80-cba3-1c5343f73e94"
      },
      "execution_count": 208,
      "outputs": [
        {
          "output_type": "execute_result",
          "data": {
            "text/plain": [
              "<Axes: ylabel='region_1'>"
            ]
          },
          "metadata": {},
          "execution_count": 208
        },
        {
          "output_type": "display_data",
          "data": {
            "text/plain": [
              "<Figure size 640x480 with 2 Axes>"
            ],
            "image/png": "[encoded data removed]"
          },
          "metadata": {}
        }
      ]
    }
  ]
}