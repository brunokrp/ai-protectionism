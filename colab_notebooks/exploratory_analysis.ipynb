{
  "nbformat": 4,
  "nbformat_minor": 0,
  "metadata": {
    "colab": {
      "provenance": [],
      "machine_shape": "hm",
      "gpuType": "T4",
      "mount_file_id": "1dwG9uBC8o_yRMb_yAemYfqVqWOcHM3KW",
      "authorship_tag": "ABX9TyNci0/dPda2KSIU8bSbjdw9",
      "include_colab_link": true
    },
    "kernelspec": {
      "name": "python3",
      "display_name": "Python 3"
    },
    "language_info": {
      "name": "python"
    },
    "accelerator": "GPU"
  },
  "cells": [
    {
      "cell_type": "markdown",
      "metadata": {
        "id": "view-in-github",
        "colab_type": "text"
      },
      "source": [
        "<a href=\"https://colab.research.google.com/github/brunokrp/ai-protectionism/blob/main/exploratory_analysis.ipynb\" target=\"_parent\"><img src=\"https://colab.research.google.com/assets/colab-badge.svg\" alt=\"Open In Colab\"/></a>"
      ]
    },
    {
      "cell_type": "markdown",
      "source": [
        "# **EXPLORATORY ANALYSIS**\n",
        "\n",
        "Based on the Digital Policy Alert database, this exploratory analysis aims at using NLP tools to better understand how AI policies are distributed and what are the main terms used in their descriptions. The goal through this exploratory analysis is to figure out whether terms commonly related to economic protectionism are picked up, what those terms/topics are and which regions they are related to."
      ],
      "metadata": {
        "id": "T0FiRubvYMZA"
      }
    },
    {
      "cell_type": "markdown",
      "source": [
        "# **SETTING ENVIRONMENT**"
      ],
      "metadata": {
        "id": "vZyaiOVVAuHW"
      }
    },
    {
      "cell_type": "markdown",
      "source": [
        "#### **Installing libraries, importing them and connecting to Google Drive**"
      ],
      "metadata": {
        "id": "9pfCxt-2XT1V"
      }
    },
    {
      "cell_type": "code",
      "source": [
        "!pip install tomotopy --quiet"
      ],
      "metadata": {
        "id": "wZovZWwNHNwn"
      },
      "execution_count": 31,
      "outputs": []
    },
    {
      "cell_type": "code",
      "source": [
        "import pandas as pd\n",
        "import tomotopy as tp\n",
        "import seaborn as sns\n",
        "import altair as alt\n",
        "import numpy as np\n",
        "\n",
        "import spacy\n",
        "from spacy.lang.en.stop_words import STOP_WORDS\n",
        "\n",
        "import nltk\n",
        "from nltk.tokenize import word_tokenize\n",
        "from nltk.corpus import wordnet\n",
        "from nltk.corpus import stopwords\n",
        "from nltk.stem import WordNetLemmatizer\n",
        "from nltk import pos_tag\n",
        "nltk.download('punkt')\n",
        "nltk.download('punkt_tab')\n",
        "nltk.download('stopwords')\n",
        "nltk.download('averaged_perceptron_tagger_eng')\n",
        "nltk.download('wordnet')\n",
        "\n",
        "import sklearn as skl\n",
        "from sklearn.feature_extraction.text import TfidfVectorizer\n",
        "from sklearn.feature_extraction.text import CountVectorizer"
      ],
      "metadata": {
        "id": "Xd-Kn_F1J9j5",
        "colab": {
          "base_uri": "https://localhost:8080/"
        },
        "outputId": "2b31e4e0-72cb-434a-a6cf-34a8bd4c0e89"
      },
      "execution_count": 32,
      "outputs": [
        {
          "output_type": "stream",
          "name": "stderr",
          "text": [
            "[nltk_data] Downloading package punkt to /root/nltk_data...\n",
            "[nltk_data]   Package punkt is already up-to-date!\n",
            "[nltk_data] Downloading package punkt_tab to /root/nltk_data...\n",
            "[nltk_data]   Package punkt_tab is already up-to-date!\n",
            "[nltk_data] Downloading package stopwords to /root/nltk_data...\n",
            "[nltk_data]   Package stopwords is already up-to-date!\n",
            "[nltk_data] Downloading package averaged_perceptron_tagger_eng to\n",
            "[nltk_data]     /root/nltk_data...\n",
            "[nltk_data]   Package averaged_perceptron_tagger_eng is already up-to-\n",
            "[nltk_data]       date!\n",
            "[nltk_data] Downloading package wordnet to /root/nltk_data...\n",
            "[nltk_data]   Package wordnet is already up-to-date!\n"
          ]
        }
      ]
    },
    {
      "cell_type": "code",
      "source": [
        "# Connecting to folder through Google Drive\n",
        "from google.colab import drive\n",
        "drive.mount('/content/drive')\n",
        "\n",
        "%cd /content/drive/MyDrive/\"AI INDUSTRIAL POLICY\"/\"SIPA_TEXT\""
      ],
      "metadata": {
        "id": "PnzVrUzwKGAn",
        "colab": {
          "base_uri": "https://localhost:8080/"
        },
        "outputId": "2238bae8-db67-4e77-a240-c8ac9d5791cb"
      },
      "execution_count": 33,
      "outputs": [
        {
          "output_type": "stream",
          "name": "stdout",
          "text": [
            "Drive already mounted at /content/drive; to attempt to forcibly remount, call drive.mount(\"/content/drive\", force_remount=True).\n",
            "/content/drive/MyDrive/AI INDUSTRIAL POLICY/SIPA_TEXT\n"
          ]
        }
      ]
    },
    {
      "cell_type": "markdown",
      "source": [
        "# **DATA PROCESSING**"
      ],
      "metadata": {
        "id": "qtAni9QVGK75"
      }
    },
    {
      "cell_type": "markdown",
      "source": [
        "#### **Loading dataset, creating preprocessing functions and applying them**"
      ],
      "metadata": {
        "id": "Wy8OQQp9LfLi"
      }
    },
    {
      "cell_type": "code",
      "source": [
        "# Loading dataset downloaded from the Digital Policy Alert website\n",
        "digital_policies_df = pd.read_csv(\"digital_policies.csv\")\n",
        "\n",
        "# To ensure that I am not analyzing the same event twice, I drop the duplicates based on the event description\n",
        "digital_policies_df.drop_duplicates(subset=['Latest Event Description'], inplace=True)\n",
        "\n",
        "# I create a copy of the dataset to increase code reliability\n",
        "dig_pol_df = digital_policies_df.copy()"
      ],
      "metadata": {
        "id": "EMR3bkJEFsC_"
      },
      "execution_count": 62,
      "outputs": []
    },
    {
      "cell_type": "code",
      "source": [
        "# I load english stopwords from the NLTK corpus and include new stop words that are relevant to this analysis\n",
        "stop_list = nltk.corpus.stopwords.words('english')\n",
        "newStopWords = ['ai','artificial','intelligence', 'technology', 'system', 'systems', 'on', 'machine', 'learning', 'act', 'month', 'day', 'use', 'u', 'state'\n",
        "                ,'january', 'february', 'march', 'april', 'may', 'june', 'july', 'august', 'september', 'october', 'november', 'december', 'approach', 'thresholds', 'report']\n",
        "stop_list.extend(newStopWords)\n",
        "\n",
        "# I load the lemmatizer function from NLTK and define a function to extract the POS tag for each word\n",
        "# [Based on https://www.machinelearningplus.com/nlp/lemmatization-examples-python/ and https://github.com/rskrisel/intro_to_nltk/blob/main/Intro_NLTK_workshop.ipynb)]\n",
        "\n",
        "lemmatizer = WordNetLemmatizer()\n",
        "def get_wordnet_pos(word):\n",
        "    tag = pos_tag([word])[0][1][0].upper()  # Get the first letter of the POS tag\n",
        "    tag_dict = {\n",
        "        'J': wordnet.ADJ,  # Adjective\n",
        "        'N': wordnet.NOUN,  # Noun\n",
        "        'V': wordnet.VERB,  # Verb\n",
        "        'R': wordnet.ADV    # Adverb\n",
        "    }\n",
        "    return tag_dict.get(tag, wordnet.NOUN)  # Default to noun if not found\n",
        "\n",
        "# I define a function to preprocess text: tokenize, lowercase, exclude stop words, get POS and lemmatize\n",
        "def preprocess_policies(text):\n",
        "    text_tokens = nltk.word_tokenize(text)\n",
        "    nltk_text = nltk.Text(text_tokens)\n",
        "    text_lower = [t.lower() for t in nltk_text if t.isalpha()]\n",
        "    text_stops = [t for t in text_lower if t not in stop_list]\n",
        "    text_clean = [WordNetLemmatizer().lemmatize(t, get_wordnet_pos(t)) for t in text_stops]\n",
        "    text_stops_lemma = [t for t in text_clean if t not in stop_list]\n",
        "\n",
        "    return ' '.join(text_stops_lemma)"
      ],
      "metadata": {
        "id": "vvZ44QocGa2F"
      },
      "execution_count": 63,
      "outputs": []
    },
    {
      "cell_type": "code",
      "source": [
        "# Applying functions created above to clean policy descriptions\n",
        "dig_pol_df['clean_event_description'] = dig_pol_df['Latest Event Description'].apply(preprocess_policies)\n",
        "\n",
        "# Restrict dataset only for those policies that are related to ML and AI development, semiconductors and cloud computing. Check its length\n",
        "ai_policies_df = dig_pol_df[(dig_pol_df['Economic Activities'].str.contains('ML and AI development|Semiconductors|cloud computing') == True)].reset_index()\n",
        "print(len(ai_policies_df))\n",
        "\n",
        "# Since the dataset is structured in the intervention-level, and each can be related to more than one country,\n",
        "# I explode the dataset so that each line corresponds to an intervention-country pair.\n",
        "# Check its length\n",
        "ai_policies_df_per_country = ai_policies_df.assign(countries=ai_policies_df['Implementing Countries'].str.split(', ')).explode('countries').reset_index(drop=True)\n",
        "print(len(ai_policies_df_per_country))"
      ],
      "metadata": {
        "collapsed": true,
        "id": "Xkb-Mv0PGap4",
        "colab": {
          "base_uri": "https://localhost:8080/"
        },
        "outputId": "fb3462a0-861e-42f3-949c-cf11e72cbd65"
      },
      "execution_count": 64,
      "outputs": [
        {
          "output_type": "stream",
          "name": "stdout",
          "text": [
            "1062\n",
            "8106\n"
          ]
        }
      ]
    },
    {
      "cell_type": "markdown",
      "source": [
        "#### **Loading dataframe with regions/continents per country**"
      ],
      "metadata": {
        "id": "HI0WHMs5LjAe"
      }
    },
    {
      "cell_type": "code",
      "source": [
        "# Loading dataset and renaming column to facilitate joining later\n",
        "cc_df = pd.read_csv('country_continent.csv')\n",
        "cc_df = cc_df.rename(columns={'country':'countries'})"
      ],
      "metadata": {
        "id": "F-KFLxM8LmGc"
      },
      "execution_count": 65,
      "outputs": []
    },
    {
      "cell_type": "markdown",
      "source": [
        "#### **Loading dataframe with clusters per country**"
      ],
      "metadata": {
        "id": "pFOsHAWkJe2A"
      }
    },
    {
      "cell_type": "code",
      "source": [
        "# Loading dataset and renaming column to facilitate joining later\n",
        "%cd /content/drive/MyDrive/\"AI INDUSTRIAL POLICY\"/\"SIPA_TEXT\"/\"ai_clusters\"\n",
        "df_clusters = pd.read_csv(\"ai_clusters_countries.csv\", index_col=\"Unnamed: 0\")\n",
        "df_clusters = df_clusters.rename(columns={'Country':'countries'})\n",
        "\n",
        "%cd /content/drive/MyDrive/\"AI INDUSTRIAL POLICY\"/\"SIPA_TEXT\""
      ],
      "metadata": {
        "colab": {
          "base_uri": "https://localhost:8080/"
        },
        "id": "MqF9ibnqJcSh",
        "outputId": "8875c7bb-1c1b-450f-c842-d7929ec5dac1"
      },
      "execution_count": 66,
      "outputs": [
        {
          "output_type": "stream",
          "name": "stdout",
          "text": [
            "/content/drive/MyDrive/AI INDUSTRIAL POLICY/SIPA_TEXT/ai_clusters\n",
            "/content/drive/MyDrive/AI INDUSTRIAL POLICY/SIPA_TEXT\n"
          ]
        }
      ]
    },
    {
      "cell_type": "markdown",
      "source": [
        "\n",
        "#### **Adjusting base dataset to enable cross-region analysis**"
      ],
      "metadata": {
        "id": "eXxQ0TSLlNZn"
      }
    },
    {
      "cell_type": "code",
      "source": [
        "# Joining policy dataset with country dataset to obtain the region from each country\n",
        "ai_policies_df_per_country = pd.merge(ai_policies_df_per_country,cc_df,on='countries', how='left')\n",
        "print(len(ai_policies_df_per_country))\n",
        "\n",
        "# Joining policy dataset with cluster dataset to obtain the cluster from each country\n",
        "ai_policies_df_per_country = pd.merge(ai_policies_df_per_country, df_clusters, on='countries', how='left')\n",
        "print(len(ai_policies_df_per_country))\n",
        "\n",
        "ai_policies_df_per_country = ai_policies_df_per_country.drop(columns=[\"consumer_potential\", \"development_potential\"])"
      ],
      "metadata": {
        "colab": {
          "base_uri": "https://localhost:8080/"
        },
        "id": "MiYrM1IcL3EF",
        "outputId": "e1312ce3-f999-4eca-b6b7-7c55d2a1d8eb"
      },
      "execution_count": 67,
      "outputs": [
        {
          "output_type": "stream",
          "name": "stdout",
          "text": [
            "8106\n",
            "8106\n"
          ]
        }
      ]
    },
    {
      "cell_type": "markdown",
      "source": [
        "# **TF-IDF AND TOPICS PER REGION**"
      ],
      "metadata": {
        "id": "3nNWLfcGMEuu"
      }
    },
    {
      "cell_type": "markdown",
      "source": [
        "## **TF-IDF**"
      ],
      "metadata": {
        "id": "OusLKG0w1iB9"
      }
    },
    {
      "cell_type": "markdown",
      "source": [
        "#### **Running TF-IDF for each region**\n",
        " Because I want to understand which terms are more important for each region, I create subsets of data for each region and run TF-IDF on those subsets. Then, I plot a heatmap to visualize the distribution of terms per region."
      ],
      "metadata": {
        "id": "gZSf6_PXlUDl"
      }
    },
    {
      "cell_type": "code",
      "source": [
        "### RUNNING TF-IDF ANALYSIS\n",
        "\n",
        "# Creating copy of base dataframe\n",
        "tfidf_df = ai_policies_df_per_country.copy()\n",
        "\n",
        "# Creating empty dataframe\n",
        "tf_idf_regions_terms = pd.DataFrame()\n",
        "\n",
        "# Calculating TF_IDF for each subset and appending it to a dataset\n",
        "list_regions = tfidf_df.region_1.dropna().unique()\n",
        "for region in list_regions:\n",
        "  subset = tfidf_df[tfidf_df['region_1'] == region]\n",
        "  tfidf_vectorizer = TfidfVectorizer(input='content', stop_words=stop_list)\n",
        "  tfidf_vector = tfidf_vectorizer.fit_transform(subset['Latest Event Description'])\n",
        "  tfidf_df_subset = pd.DataFrame(tfidf_vector.toarray(), index=subset['Policy Change ID'], columns=tfidf_vectorizer.get_feature_names_out())\n",
        "  tfidf_df_subset = tfidf_df_subset.stack().reset_index()\n",
        "  tfidf_df_subset = tfidf_df_subset.rename(columns={0:'tfidf', 'level_1': 'term'})\n",
        "  tf_idf_regions_terms = pd.concat([tf_idf_regions_terms, tfidf_df_subset])\n",
        "\n",
        "# Filtering out the terms that have a low tfidf score (below 0.001)\n",
        "tf_idf_regions_terms = tf_idf_regions_terms[tf_idf_regions_terms['tfidf'] > 0.001]\n",
        "\n",
        "# Creating new dataset that contains unique pairs of intervention-region\n",
        "tfidf_df_new = tfidf_df[['Policy Change ID', 'region_1']].drop_duplicates()\n",
        "\n",
        "# Merging dataset that contains TF_IDF values with dataset that contains unique pairs of intervention-region\n",
        "tf_idf_regions = pd.merge(tf_idf_regions_terms,tfidf_df_new,on='Policy Change ID')\n",
        "\n",
        "# Getting top 10 terms with highest TF_IDF per region\n",
        "top_tfidf = tf_idf_regions.sort_values(by=['region_1','tfidf'], ascending=[True,False]).drop_duplicates(subset=['term', 'region_1']).groupby(['region_1']).head(10)"
      ],
      "metadata": {
        "id": "8zRh4pfQYl9I"
      },
      "execution_count": 68,
      "outputs": []
    },
    {
      "cell_type": "code",
      "source": [
        "### VISUALIZING TF-IDF HEATMAP\n",
        "#[based on https://github.com/rskrisel/tf-idf/blob/main/README.md]\n",
        "\n",
        "# Adding a little randomness to break ties in term ranking\n",
        "top_tfidf_plusRand = top_tfidf.copy()\n",
        "top_tfidf_plusRand['tfidf'] = top_tfidf_plusRand['tfidf'] + np.random.rand(top_tfidf.shape[0])*0.0001\n",
        "\n",
        "# Base for all visualizations, with rank calculation\n",
        "base = alt.Chart(top_tfidf_plusRand).encode(\n",
        "    x = 'rank:O',\n",
        "    y = 'region_1:N'\n",
        ").transform_window(\n",
        "    rank = \"rank()\",\n",
        "    sort = [alt.SortField(\"tfidf\", order=\"descending\")],\n",
        "    groupby = [\"region_1\"],\n",
        ")\n",
        "\n",
        "# Heatmap specification\n",
        "heatmap = base.mark_rect().encode(\n",
        "    color = 'tfidf:Q'\n",
        ")\n",
        "\n",
        "# Text labels, white for darker heatmap colors\n",
        "text = base.mark_text(baseline='middle').encode(\n",
        "    text = 'term:N',\n",
        "    color = alt.condition(alt.datum.tfidf >= 0.23, alt.value('white'), alt.value('black'))\n",
        ")\n",
        "\n",
        "# Display the three superimposed visualizations\n",
        "(heatmap + text).properties(width = 600)"
      ],
      "metadata": {
        "colab": {
          "base_uri": "https://localhost:8080/",
          "height": 0
        },
        "id": "EqMck4ZBEcK_",
        "outputId": "92e3fad9-d74a-4f24-87bb-e770e965449c",
        "collapsed": true
      },
      "execution_count": 69,
      "outputs": [
        {
          "output_type": "execute_result",
          "data": {
            "text/html": [
              "\n",
              "<style>\n",
              "  #altair-viz-25e15a6511014478826bfef157cfab10.vega-embed {\n",
              "    width: 100%;\n",
              "    display: flex;\n",
              "  }\n",
              "\n",
              "  #altair-viz-25e15a6511014478826bfef157cfab10.vega-embed details,\n",
              "  #altair-viz-25e15a6511014478826bfef157cfab10.vega-embed details summary {\n",
              "    position: relative;\n",
              "  }\n",
              "</style>\n",
              "<div id=\"altair-viz-25e15a6511014478826bfef157cfab10\"></div>\n",
              "<script type=\"text/javascript\">\n",
              "  var VEGA_DEBUG = (typeof VEGA_DEBUG == \"undefined\") ? {} : VEGA_DEBUG;\n",
              "  (function(spec, embedOpt){\n",
              "    let outputDiv = document.currentScript.previousElementSibling;\n",
              "    if (outputDiv.id !== \"altair-viz-25e15a6511014478826bfef157cfab10\") {\n",
              "      outputDiv = document.getElementById(\"altair-viz-25e15a6511014478826bfef157cfab10\");\n",
              "    }\n",
              "\n",
              "    const paths = {\n",
              "      \"vega\": \"https://cdn.jsdelivr.net/npm/vega@5?noext\",\n",
              "      \"vega-lib\": \"https://cdn.jsdelivr.net/npm/vega-lib?noext\",\n",
              "      \"vega-lite\": \"https://cdn.jsdelivr.net/npm/vega-lite@5.20.1?noext\",\n",
              "      \"vega-embed\": \"https://cdn.jsdelivr.net/npm/vega-embed@6?noext\",\n",
              "    };\n",
              "\n",
              "    function maybeLoadScript(lib, version) {\n",
              "      var key = `${lib.replace(\"-\", \"\")}_version`;\n",
              "      return (VEGA_DEBUG[key] == version) ?\n",
              "        Promise.resolve(paths[lib]) :\n",
              "        new Promise(function(resolve, reject) {\n",
              "          var s = document.createElement('script');\n",
              "          document.getElementsByTagName(\"head\")[0].appendChild(s);\n",
              "          s.async = true;\n",
              "          s.onload = () => {\n",
              "            VEGA_DEBUG[key] = version;\n",
              "            return resolve(paths[lib]);\n",
              "          };\n",
              "          s.onerror = () => reject(`Error loading script: ${paths[lib]}`);\n",
              "          s.src = paths[lib];\n",
              "        });\n",
              "    }\n",
              "\n",
              "    function showError(err) {\n",
              "      outputDiv.innerHTML = `<div class=\"error\" style=\"color:red;\">${err}</div>`;\n",
              "      throw err;\n",
              "    }\n",
              "\n",
              "    function displayChart(vegaEmbed) {\n",
              "      vegaEmbed(outputDiv, spec, embedOpt)\n",
              "        .catch(err => showError(`Javascript Error: ${err.message}<br>This usually means there's a typo in your chart specification. See the javascript console for the full traceback.`));\n",
              "    }\n",
              "\n",
              "    if(typeof define === \"function\" && define.amd) {\n",
              "      requirejs.config({paths});\n",
              "      let deps = [\"vega-embed\"];\n",
              "      require(deps, displayChart, err => showError(`Error loading script: ${err.message}`));\n",
              "    } else {\n",
              "      maybeLoadScript(\"vega\", \"5\")\n",
              "        .then(() => maybeLoadScript(\"vega-lite\", \"5.20.1\"))\n",
              "        .then(() => maybeLoadScript(\"vega-embed\", \"6\"))\n",
              "        .catch(showError)\n",
              "        .then(() => displayChart(vegaEmbed));\n",
              "    }\n",
              "  })({\"config\": {\"view\": {\"continuousWidth\": 300, \"continuousHeight\": 300}}, \"layer\": [{\"mark\": {\"type\": \"rect\"}, \"encoding\": {\"color\": {\"field\": \"tfidf\", \"type\": \"quantitative\"}, \"x\": {\"field\": \"rank\", \"type\": \"ordinal\"}, \"y\": {\"field\": \"region_1\", \"type\": \"nominal\"}}, \"transform\": [{\"window\": [{\"op\": \"rank\", \"field\": \"\", \"as\": \"rank\"}], \"groupby\": [\"region_1\"], \"sort\": [{\"field\": \"tfidf\", \"order\": \"descending\"}]}]}, {\"mark\": {\"type\": \"text\", \"baseline\": \"middle\"}, \"encoding\": {\"color\": {\"condition\": {\"test\": \"(datum.tfidf >= 0.23)\", \"value\": \"white\"}, \"value\": \"black\"}, \"text\": {\"field\": \"term\", \"type\": \"nominal\"}, \"x\": {\"field\": \"rank\", \"type\": \"ordinal\"}, \"y\": {\"field\": \"region_1\", \"type\": \"nominal\"}}, \"transform\": [{\"window\": [{\"op\": \"rank\", \"field\": \"\", \"as\": \"rank\"}], \"groupby\": [\"region_1\"], \"sort\": [{\"field\": \"tfidf\", \"order\": \"descending\"}]}]}], \"data\": {\"name\": \"data-dcaf8814ce585ba98f976df050616005\"}, \"width\": 600, \"$schema\": \"https://vega.github.io/schema/vega-lite/v5.20.1.json\", \"datasets\": {\"data-dcaf8814ce585ba98f976df050616005\": [{\"Policy Change ID\": 561, \"term\": \"software\", \"tfidf\": 0.5652651388374809, \"region_1\": \"Australia and New Zealand\"}, {\"Policy Change ID\": 10502, \"term\": \"code\", \"tfidf\": 0.5619975516612664, \"region_1\": \"Australia and New Zealand\"}, {\"Policy Change ID\": 6689, \"term\": \"biometric\", \"tfidf\": 0.55855041082029, \"region_1\": \"Australia and New Zealand\"}, {\"Policy Change ID\": 5377, \"term\": \"language\", \"tfidf\": 0.5115256204552951, \"region_1\": \"Australia and New Zealand\"}, {\"Policy Change ID\": 7754, \"term\": \"secure\", \"tfidf\": 0.508714665428816, \"region_1\": \"Australia and New Zealand\"}, {\"Policy Change ID\": 10746, \"term\": \"event\", \"tfidf\": 0.4958326811682263, \"region_1\": \"Australia and New Zealand\"}, {\"Policy Change ID\": 6918, \"term\": \"scraping\", \"tfidf\": 0.4906481590410327, \"region_1\": \"Australia and New Zealand\"}, {\"Policy Change ID\": 10502, \"term\": \"conduct\", \"tfidf\": 0.48815712687081936, \"region_1\": \"Australia and New Zealand\"}, {\"Policy Change ID\": 10864, \"term\": \"guide\", \"tfidf\": 0.4873580186031942, \"region_1\": \"Australia and New Zealand\"}, {\"Policy Change ID\": 10098, \"term\": \"standard\", \"tfidf\": 0.4598083300476721, \"region_1\": \"Australia and New Zealand\"}, {\"Policy Change ID\": 5643, \"term\": \"data\", \"tfidf\": 0.5196231941622916, \"region_1\": \"Caribbean\"}, {\"Policy Change ID\": 9112, \"term\": \"resolution\", \"tfidf\": 0.45310119566888696, \"region_1\": \"Caribbean\"}, {\"Policy Change ID\": 5643, \"term\": \"ripd\", \"tfidf\": 0.4525508777105011, \"region_1\": \"Caribbean\"}, {\"Policy Change ID\": 1625, \"term\": \"recommendation\", \"tfidf\": 0.41343041798355334, \"region_1\": \"Caribbean\"}, {\"Policy Change ID\": 11063, \"term\": \"un\", \"tfidf\": 0.3957885412876211, \"region_1\": \"Caribbean\"}, {\"Policy Change ID\": 1625, \"term\": \"session\", \"tfidf\": 0.34012099230641024, \"region_1\": \"Caribbean\"}, {\"Policy Change ID\": 10777, \"term\": \"paper\", \"tfidf\": 0.3391714429634567, \"region_1\": \"Caribbean\"}, {\"Policy Change ID\": 1625, \"term\": \"conference\", \"tfidf\": 0.33787876292660246, \"region_1\": \"Caribbean\"}, {\"Policy Change ID\": 1625, \"term\": \"ethics\", \"tfidf\": 0.3342101379636458, \"region_1\": \"Caribbean\"}, {\"Policy Change ID\": 11784, \"term\": \"domain\", \"tfidf\": 0.3289956547837767, \"region_1\": \"Caribbean\"}, {\"Policy Change ID\": 10502, \"term\": \"code\", \"tfidf\": 0.561993979217892, \"region_1\": \"Central America\"}, {\"Policy Change ID\": 9205, \"term\": \"decree\", \"tfidf\": 0.520416030029096, \"region_1\": \"Central America\"}, {\"Policy Change ID\": 5643, \"term\": \"data\", \"tfidf\": 0.5196183378195391, \"region_1\": \"Central America\"}, {\"Policy Change ID\": 5377, \"term\": \"language\", \"tfidf\": 0.5114822371342662, \"region_1\": \"Central America\"}, {\"Policy Change ID\": 9198, \"term\": \"authorisation\", \"tfidf\": 0.4926174413053996, \"region_1\": \"Central America\"}, {\"Policy Change ID\": 6918, \"term\": \"scraping\", \"tfidf\": 0.49070867787203504, \"region_1\": \"Central America\"}, {\"Policy Change ID\": 10502, \"term\": \"conduct\", \"tfidf\": 0.4882303354092674, \"region_1\": \"Central America\"}, {\"Policy Change ID\": 10500, \"term\": \"neurotechnologies\", \"tfidf\": 0.4668628836592806, \"region_1\": \"Central America\"}, {\"Policy Change ID\": 9112, \"term\": \"resolution\", \"tfidf\": 0.4531423807052988, \"region_1\": \"Central America\"}, {\"Policy Change ID\": 5643, \"term\": \"ripd\", \"tfidf\": 0.452541582533101, \"region_1\": \"Central America\"}, {\"Policy Change ID\": 9112, \"term\": \"resolution\", \"tfidf\": 0.45317916801675945, \"region_1\": \"Central Asia\"}, {\"Policy Change ID\": 1625, \"term\": \"recommendation\", \"tfidf\": 0.41339485183181607, \"region_1\": \"Central Asia\"}, {\"Policy Change ID\": 11063, \"term\": \"un\", \"tfidf\": 0.39579142913693693, \"region_1\": \"Central Asia\"}, {\"Policy Change ID\": 1625, \"term\": \"session\", \"tfidf\": 0.3401412662791394, \"region_1\": \"Central Asia\"}, {\"Policy Change ID\": 10777, \"term\": \"paper\", \"tfidf\": 0.3391706255117222, \"region_1\": \"Central Asia\"}, {\"Policy Change ID\": 1625, \"term\": \"conference\", \"tfidf\": 0.33787149030791763, \"region_1\": \"Central Asia\"}, {\"Policy Change ID\": 1625, \"term\": \"ethics\", \"tfidf\": 0.33416594764581464, \"region_1\": \"Central Asia\"}, {\"Policy Change ID\": 11784, \"term\": \"domain\", \"tfidf\": 0.3290657691322991, \"region_1\": \"Central Asia\"}, {\"Policy Change ID\": 11063, \"term\": \"science\", \"tfidf\": 0.3228475404038457, \"region_1\": \"Central Asia\"}, {\"Policy Change ID\": 11063, \"term\": \"oecd\", \"tfidf\": 0.3227803547014368, \"region_1\": \"Central Asia\"}, {\"Policy Change ID\": 8508, \"term\": \"generative\", \"tfidf\": 0.6444598730692778, \"region_1\": \"Eastern Africa\"}, {\"Policy Change ID\": 7841, \"term\": \"robotics\", \"tfidf\": 0.5147048745978091, \"region_1\": \"Eastern Africa\"}, {\"Policy Change ID\": 11066, \"term\": \"playbook\", \"tfidf\": 0.5011797713904161, \"region_1\": \"Eastern Africa\"}, {\"Policy Change ID\": 9778, \"term\": \"kenya\", \"tfidf\": 0.47131341499184387, \"region_1\": \"Eastern Africa\"}, {\"Policy Change ID\": 9265, \"term\": \"china\", \"tfidf\": 0.4634770552164656, \"region_1\": \"Eastern Africa\"}, {\"Policy Change ID\": 9112, \"term\": \"resolution\", \"tfidf\": 0.45309733784261724, \"region_1\": \"Eastern Africa\"}, {\"Policy Change ID\": 11066, \"term\": \"small\", \"tfidf\": 0.4327389900735345, \"region_1\": \"Eastern Africa\"}, {\"Policy Change ID\": 1625, \"term\": \"recommendation\", \"tfidf\": 0.41342036141604954, \"region_1\": \"Eastern Africa\"}, {\"Policy Change ID\": 7516, \"term\": \"parties\", \"tfidf\": 0.4111364871198731, \"region_1\": \"Eastern Africa\"}, {\"Policy Change ID\": 10033, \"term\": \"strategy\", \"tfidf\": 0.4065759939013699, \"region_1\": \"Eastern Africa\"}, {\"Policy Change ID\": 11242, \"term\": \"competition\", \"tfidf\": 0.686273126532061, \"region_1\": \"Eastern Asia\"}, {\"Policy Change ID\": 8181, \"term\": \"cloud\", \"tfidf\": 0.6632451585503938, \"region_1\": \"Eastern Asia\"}, {\"Policy Change ID\": 10060, \"term\": \"snow\", \"tfidf\": 0.6549888860549276, \"region_1\": \"Eastern Asia\"}, {\"Policy Change ID\": 10059, \"term\": \"skt\", \"tfidf\": 0.6227050550521719, \"region_1\": \"Eastern Asia\"}, {\"Policy Change ID\": 11704, \"term\": \"contract\", \"tfidf\": 0.6072247992817091, \"region_1\": \"Eastern Asia\"}, {\"Policy Change ID\": 5289, \"term\": \"export\", \"tfidf\": 0.5982053485837222, \"region_1\": \"Eastern Asia\"}, {\"Policy Change ID\": 7689, \"term\": \"bill\", \"tfidf\": 0.587324889356641, \"region_1\": \"Eastern Asia\"}, {\"Policy Change ID\": 10291, \"term\": \"phishing\", \"tfidf\": 0.5814376466512868, \"region_1\": \"Eastern Asia\"}, {\"Policy Change ID\": 10062, \"term\": \"vuno\", \"tfidf\": 0.5801293353278745, \"region_1\": \"Eastern Asia\"}, {\"Policy Change ID\": 10061, \"term\": \"deepl\", \"tfidf\": 0.5727976815113027, \"region_1\": \"Eastern Asia\"}, {\"Policy Change ID\": 1463, \"term\": \"insurance\", \"tfidf\": 0.655984691839483, \"region_1\": \"Eastern Europe\"}, {\"Policy Change ID\": 4185, \"term\": \"machinery\", \"tfidf\": 0.6174850235192538, \"region_1\": \"Eastern Europe\"}, {\"Policy Change ID\": 11458, \"term\": \"dell\", \"tfidf\": 0.5949532070972616, \"region_1\": \"Eastern Europe\"}, {\"Policy Change ID\": 5031, \"term\": \"standardisation\", \"tfidf\": 0.571050756388667, \"region_1\": \"Eastern Europe\"}, {\"Policy Change ID\": 10502, \"term\": \"code\", \"tfidf\": 0.5620218150773263, \"region_1\": \"Eastern Europe\"}, {\"Policy Change ID\": 118, \"term\": \"white\", \"tfidf\": 0.5557569622953374, \"region_1\": \"Eastern Europe\"}, {\"Policy Change ID\": 8587, \"term\": \"subcontracting\", \"tfidf\": 0.5451785754646724, \"region_1\": \"Eastern Europe\"}, {\"Policy Change ID\": 10143, \"term\": \"convention\", \"tfidf\": 0.5433762565116496, \"region_1\": \"Eastern Europe\"}, {\"Policy Change ID\": 1871, \"term\": \"ml\", \"tfidf\": 0.5387672607588523, \"region_1\": \"Eastern Europe\"}, {\"Policy Change ID\": 10560, \"term\": \"online\", \"tfidf\": 0.5307361712580333, \"region_1\": \"Eastern Europe\"}, {\"Policy Change ID\": 9112, \"term\": \"resolution\", \"tfidf\": 0.45309958041852, \"region_1\": \"Melanesia\"}, {\"Policy Change ID\": 1625, \"term\": \"recommendation\", \"tfidf\": 0.41342245154700885, \"region_1\": \"Melanesia\"}, {\"Policy Change ID\": 11063, \"term\": \"un\", \"tfidf\": 0.3958314142319764, \"region_1\": \"Melanesia\"}, {\"Policy Change ID\": 1625, \"term\": \"session\", \"tfidf\": 0.3401632666885002, \"region_1\": \"Melanesia\"}, {\"Policy Change ID\": 10777, \"term\": \"paper\", \"tfidf\": 0.33909012227973134, \"region_1\": \"Melanesia\"}, {\"Policy Change ID\": 1625, \"term\": \"conference\", \"tfidf\": 0.3379072124678807, \"region_1\": \"Melanesia\"}, {\"Policy Change ID\": 1625, \"term\": \"ethics\", \"tfidf\": 0.3341565775550444, \"region_1\": \"Melanesia\"}, {\"Policy Change ID\": 11784, \"term\": \"domain\", \"tfidf\": 0.32898485898762236, \"region_1\": \"Melanesia\"}, {\"Policy Change ID\": 11063, \"term\": \"science\", \"tfidf\": 0.3228571919587187, \"region_1\": \"Melanesia\"}, {\"Policy Change ID\": 11063, \"term\": \"oecd\", \"tfidf\": 0.32275292071578937, \"region_1\": \"Melanesia\"}, {\"Policy Change ID\": 9112, \"term\": \"resolution\", \"tfidf\": 0.4531187713117364, \"region_1\": \"Micronesia\"}, {\"Policy Change ID\": 1625, \"term\": \"recommendation\", \"tfidf\": 0.4133766206266165, \"region_1\": \"Micronesia\"}, {\"Policy Change ID\": 11063, \"term\": \"un\", \"tfidf\": 0.39583935716447943, \"region_1\": \"Micronesia\"}, {\"Policy Change ID\": 1625, \"term\": \"session\", \"tfidf\": 0.3400861439589587, \"region_1\": \"Micronesia\"}, {\"Policy Change ID\": 10777, \"term\": \"paper\", \"tfidf\": 0.3391240499611035, \"region_1\": \"Micronesia\"}, {\"Policy Change ID\": 1625, \"term\": \"conference\", \"tfidf\": 0.33789877076059477, \"region_1\": \"Micronesia\"}, {\"Policy Change ID\": 1625, \"term\": \"ethics\", \"tfidf\": 0.33422385633424273, \"region_1\": \"Micronesia\"}, {\"Policy Change ID\": 11784, \"term\": \"domain\", \"tfidf\": 0.329015117232309, \"region_1\": \"Micronesia\"}, {\"Policy Change ID\": 11063, \"term\": \"science\", \"tfidf\": 0.32284893288006844, \"region_1\": \"Micronesia\"}, {\"Policy Change ID\": 11063, \"term\": \"oecd\", \"tfidf\": 0.32281276458886826, \"region_1\": \"Micronesia\"}, {\"Policy Change ID\": 9265, \"term\": \"china\", \"tfidf\": 0.46349404850760667, \"region_1\": \"Middle Africa\"}, {\"Policy Change ID\": 9112, \"term\": \"resolution\", \"tfidf\": 0.4531442839298861, \"region_1\": \"Middle Africa\"}, {\"Policy Change ID\": 1625, \"term\": \"recommendation\", \"tfidf\": 0.4133773903655788, \"region_1\": \"Middle Africa\"}, {\"Policy Change ID\": 10033, \"term\": \"strategy\", \"tfidf\": 0.40659509662695503, \"region_1\": \"Middle Africa\"}, {\"Policy Change ID\": 11063, \"term\": \"un\", \"tfidf\": 0.3958406030299874, \"region_1\": \"Middle Africa\"}, {\"Policy Change ID\": 9265, \"term\": \"cooperation\", \"tfidf\": 0.37226199626901973, \"region_1\": \"Middle Africa\"}, {\"Policy Change ID\": 9265, \"term\": \"data\", \"tfidf\": 0.3722554871128989, \"region_1\": \"Middle Africa\"}, {\"Policy Change ID\": 9265, \"term\": \"africa\", \"tfidf\": 0.36279877982442077, \"region_1\": \"Middle Africa\"}, {\"Policy Change ID\": 1625, \"term\": \"session\", \"tfidf\": 0.34017514010311256, \"region_1\": \"Middle Africa\"}, {\"Policy Change ID\": 10777, \"term\": \"paper\", \"tfidf\": 0.3391347735872317, \"region_1\": \"Middle Africa\"}, {\"Policy Change ID\": 8508, \"term\": \"generative\", \"tfidf\": 0.6444725638108216, \"region_1\": \"Northern Africa\"}, {\"Policy Change ID\": 6918, \"term\": \"scraping\", \"tfidf\": 0.4906939373651129, \"region_1\": \"Northern Africa\"}, {\"Policy Change ID\": 9265, \"term\": \"china\", \"tfidf\": 0.4635091718332046, \"region_1\": \"Northern Africa\"}, {\"Policy Change ID\": 9112, \"term\": \"resolution\", \"tfidf\": 0.4531242965674799, \"region_1\": \"Northern Africa\"}, {\"Policy Change ID\": 6918, \"term\": \"statement\", \"tfidf\": 0.4276955679254788, \"region_1\": \"Northern Africa\"}, {\"Policy Change ID\": 1625, \"term\": \"recommendation\", \"tfidf\": 0.4134157659452276, \"region_1\": \"Northern Africa\"}, {\"Policy Change ID\": 10033, \"term\": \"strategy\", \"tfidf\": 0.40659266986386455, \"region_1\": \"Northern Africa\"}, {\"Policy Change ID\": 11063, \"term\": \"un\", \"tfidf\": 0.3958451080170935, \"region_1\": \"Northern Africa\"}, {\"Policy Change ID\": 9265, \"term\": \"cooperation\", \"tfidf\": 0.3722855662179093, \"region_1\": \"Northern Africa\"}, {\"Policy Change ID\": 9265, \"term\": \"data\", \"tfidf\": 0.37223463356987946, \"region_1\": \"Northern Africa\"}, {\"Policy Change ID\": 11106, \"term\": \"research\", \"tfidf\": 0.7136163013577, \"region_1\": \"Northern America\"}, {\"Policy Change ID\": 11242, \"term\": \"competition\", \"tfidf\": 0.6862086484722119, \"region_1\": \"Northern America\"}, {\"Policy Change ID\": 8140, \"term\": \"hub\", \"tfidf\": 0.6569995094835458, \"region_1\": \"Northern America\"}, {\"Policy Change ID\": 10412, \"term\": \"directive\", \"tfidf\": 0.6523479890215754, \"region_1\": \"Northern America\"}, {\"Policy Change ID\": 7529, \"term\": \"usaisi\", \"tfidf\": 0.6279290831246096, \"region_1\": \"Northern America\"}, {\"Policy Change ID\": 5602, \"term\": \"airc\", \"tfidf\": 0.6179732619020899, \"region_1\": \"Northern America\"}, {\"Policy Change ID\": 372, \"term\": \"nuclear\", \"tfidf\": 0.590895822517116, \"region_1\": \"Northern America\"}, {\"Policy Change ID\": 5964, \"term\": \"minor\", \"tfidf\": 0.587370092556672, \"region_1\": \"Northern America\"}, {\"Policy Change ID\": 5905, \"term\": \"strategy\", \"tfidf\": 0.5855070718221351, \"region_1\": \"Northern America\"}, {\"Policy Change ID\": 9964, \"term\": \"warnings\", \"tfidf\": 0.5803537614186952, \"region_1\": \"Northern America\"}, {\"Policy Change ID\": 1463, \"term\": \"insurance\", \"tfidf\": 0.655941751030699, \"region_1\": \"Northern Europe\"}, {\"Policy Change ID\": 4185, \"term\": \"machinery\", \"tfidf\": 0.6174305727936716, \"region_1\": \"Northern Europe\"}, {\"Policy Change ID\": 8904, \"term\": \"sandbox\", \"tfidf\": 0.5731598684426952, \"region_1\": \"Northern Europe\"}, {\"Policy Change ID\": 6856, \"term\": \"bec\", \"tfidf\": 0.5720201505992397, \"region_1\": \"Northern Europe\"}, {\"Policy Change ID\": 5031, \"term\": \"standardisation\", \"tfidf\": 0.5710525043088829, \"region_1\": \"Northern Europe\"}, {\"Policy Change ID\": 10502, \"term\": \"code\", \"tfidf\": 0.5620055196444202, \"region_1\": \"Northern Europe\"}, {\"Policy Change ID\": 118, \"term\": \"white\", \"tfidf\": 0.5557761435931419, \"region_1\": \"Northern Europe\"}, {\"Policy Change ID\": 8587, \"term\": \"subcontracting\", \"tfidf\": 0.5451496769940353, \"region_1\": \"Northern Europe\"}, {\"Policy Change ID\": 10143, \"term\": \"convention\", \"tfidf\": 0.5433893458497664, \"region_1\": \"Northern Europe\"}, {\"Policy Change ID\": 1871, \"term\": \"ml\", \"tfidf\": 0.5387122858116455, \"region_1\": \"Northern Europe\"}, {\"Policy Change ID\": 9112, \"term\": \"resolution\", \"tfidf\": 0.45308602630809025, \"region_1\": \"Polynesia\"}, {\"Policy Change ID\": 1625, \"term\": \"recommendation\", \"tfidf\": 0.41344560242445166, \"region_1\": \"Polynesia\"}, {\"Policy Change ID\": 11063, \"term\": \"un\", \"tfidf\": 0.3958724800799749, \"region_1\": \"Polynesia\"}, {\"Policy Change ID\": 1625, \"term\": \"session\", \"tfidf\": 0.34016119542470735, \"region_1\": \"Polynesia\"}, {\"Policy Change ID\": 10777, \"term\": \"paper\", \"tfidf\": 0.33914700026088607, \"region_1\": \"Polynesia\"}, {\"Policy Change ID\": 1625, \"term\": \"conference\", \"tfidf\": 0.3378985261042659, \"region_1\": \"Polynesia\"}, {\"Policy Change ID\": 1625, \"term\": \"ethics\", \"tfidf\": 0.3341989545201232, \"region_1\": \"Polynesia\"}, {\"Policy Change ID\": 11784, \"term\": \"domain\", \"tfidf\": 0.3290547728446219, \"region_1\": \"Polynesia\"}, {\"Policy Change ID\": 11063, \"term\": \"science\", \"tfidf\": 0.32285897749002745, \"region_1\": \"Polynesia\"}, {\"Policy Change ID\": 11063, \"term\": \"oecd\", \"tfidf\": 0.3227814118379465, \"region_1\": \"Polynesia\"}, {\"Policy Change ID\": 7062, \"term\": \"internet\", \"tfidf\": 0.6278836606169652, \"region_1\": \"South America\"}, {\"Policy Change ID\": 10522, \"term\": \"observatory\", \"tfidf\": 0.6235473291218604, \"region_1\": \"South America\"}, {\"Policy Change ID\": 10502, \"term\": \"code\", \"tfidf\": 0.5620043256990005, \"region_1\": \"South America\"}, {\"Policy Change ID\": 5643, \"term\": \"data\", \"tfidf\": 0.5196989703107796, \"region_1\": \"South America\"}, {\"Policy Change ID\": 5377, \"term\": \"language\", \"tfidf\": 0.5115216091573417, \"region_1\": \"South America\"}, {\"Policy Change ID\": 10993, \"term\": \"guide\", \"tfidf\": 0.5115364568543238, \"region_1\": \"South America\"}, {\"Policy Change ID\": 8838, \"term\": \"inventions\", \"tfidf\": 0.5091610377565166, \"region_1\": \"South America\"}, {\"Policy Change ID\": 7754, \"term\": \"secure\", \"tfidf\": 0.5087031253245963, \"region_1\": \"South America\"}, {\"Policy Change ID\": 6918, \"term\": \"scraping\", \"tfidf\": 0.49069749315390737, \"region_1\": \"South America\"}, {\"Policy Change ID\": 10502, \"term\": \"conduct\", \"tfidf\": 0.48820796784535386, \"region_1\": \"South America\"}, {\"Policy Change ID\": 10388, \"term\": \"bsp\", \"tfidf\": 0.7010079440484429, \"region_1\": \"South-eastern Asia\"}, {\"Policy Change ID\": 8993, \"term\": \"services\", \"tfidf\": 0.6383954385361168, \"region_1\": \"South-eastern Asia\"}, {\"Policy Change ID\": 11269, \"term\": \"cair\", \"tfidf\": 0.5832385056483501, \"region_1\": \"South-eastern Asia\"}, {\"Policy Change ID\": 11088, \"term\": \"malaysia\", \"tfidf\": 0.5644287571819315, \"region_1\": \"South-eastern Asia\"}, {\"Policy Change ID\": 11675, \"term\": \"generative\", \"tfidf\": 0.5448612197848645, \"region_1\": \"South-eastern Asia\"}, {\"Policy Change ID\": 11268, \"term\": \"naisr\", \"tfidf\": 0.5411582838706599, \"region_1\": \"South-eastern Asia\"}, {\"Policy Change ID\": 11043, \"term\": \"aida\", \"tfidf\": 0.5215561145666866, \"region_1\": \"South-eastern Asia\"}, {\"Policy Change ID\": 4326, \"term\": \"mou\", \"tfidf\": 0.5129864291781737, \"region_1\": \"South-eastern Asia\"}, {\"Policy Change ID\": 7754, \"term\": \"secure\", \"tfidf\": 0.5086680151333247, \"region_1\": \"South-eastern Asia\"}, {\"Policy Change ID\": 11066, \"term\": \"playbook\", \"tfidf\": 0.5012363300456092, \"region_1\": \"South-eastern Asia\"}, {\"Policy Change ID\": 9265, \"term\": \"china\", \"tfidf\": 0.4635253498994865, \"region_1\": \"Southern Africa\"}, {\"Policy Change ID\": 9112, \"term\": \"resolution\", \"tfidf\": 0.45311789417411247, \"region_1\": \"Southern Africa\"}, {\"Policy Change ID\": 446, \"term\": \"competition\", \"tfidf\": 0.4448209643822432, \"region_1\": \"Southern Africa\"}, {\"Policy Change ID\": 5100, \"term\": \"news\", \"tfidf\": 0.4428465328033036, \"region_1\": \"Southern Africa\"}, {\"Policy Change ID\": 1625, \"term\": \"recommendation\", \"tfidf\": 0.41345134284265933, \"region_1\": \"Southern Africa\"}, {\"Policy Change ID\": 10033, \"term\": \"strategy\", \"tfidf\": 0.40659286847229276, \"region_1\": \"Southern Africa\"}, {\"Policy Change ID\": 11063, \"term\": \"un\", \"tfidf\": 0.3958850539701919, \"region_1\": \"Southern Africa\"}, {\"Policy Change ID\": 446, \"term\": \"cloud\", \"tfidf\": 0.39395248225645046, \"region_1\": \"Southern Africa\"}, {\"Policy Change ID\": 9265, \"term\": \"cooperation\", \"tfidf\": 0.3722878590041457, \"region_1\": \"Southern Africa\"}, {\"Policy Change ID\": 9265, \"term\": \"data\", \"tfidf\": 0.3722333981206458, \"region_1\": \"Southern Africa\"}, {\"Policy Change ID\": 9444, \"term\": \"competition\", \"tfidf\": 0.7262459679792922, \"region_1\": \"Southern Asia\"}, {\"Policy Change ID\": 8508, \"term\": \"generative\", \"tfidf\": 0.6444475194526142, \"region_1\": \"Southern Asia\"}, {\"Policy Change ID\": 2076, \"term\": \"ml\", \"tfidf\": 0.603690163089094, \"region_1\": \"Southern Asia\"}, {\"Policy Change ID\": 300, \"term\": \"cloud\", \"tfidf\": 0.5005523171370542, \"region_1\": \"Southern Asia\"}, {\"Policy Change ID\": 4069, \"term\": \"data\", \"tfidf\": 0.47338138262709034, \"region_1\": \"Southern Asia\"}, {\"Policy Change ID\": 5568, \"term\": \"mou\", \"tfidf\": 0.4694987338069694, \"region_1\": \"Southern Asia\"}, {\"Policy Change ID\": 9112, \"term\": \"resolution\", \"tfidf\": 0.453096888825111, \"region_1\": \"Southern Asia\"}, {\"Policy Change ID\": 8054, \"term\": \"advisory\", \"tfidf\": 0.442316659750695, \"region_1\": \"Southern Asia\"}, {\"Policy Change ID\": 1625, \"term\": \"recommendation\", \"tfidf\": 0.41340160744310045, \"region_1\": \"Southern Asia\"}, {\"Policy Change ID\": 7516, \"term\": \"parties\", \"tfidf\": 0.41104306148025027, \"region_1\": \"Southern Asia\"}, {\"Policy Change ID\": 11242, \"term\": \"competition\", \"tfidf\": 0.68624460044496, \"region_1\": \"Southern Europe\"}, {\"Policy Change ID\": 1463, \"term\": \"insurance\", \"tfidf\": 0.6559472907768437, \"region_1\": \"Southern Europe\"}, {\"Policy Change ID\": 4185, \"term\": \"machinery\", \"tfidf\": 0.6174856271828651, \"region_1\": \"Southern Europe\"}, {\"Policy Change ID\": 5031, \"term\": \"standardisation\", \"tfidf\": 0.5710173395609388, \"region_1\": \"Southern Europe\"}, {\"Policy Change ID\": 10502, \"term\": \"code\", \"tfidf\": 0.5619747325763798, \"region_1\": \"Southern Europe\"}, {\"Policy Change ID\": 118, \"term\": \"white\", \"tfidf\": 0.5557448692826359, \"region_1\": \"Southern Europe\"}, {\"Policy Change ID\": 8946, \"term\": \"dpa\", \"tfidf\": 0.5499401427575791, \"region_1\": \"Southern Europe\"}, {\"Policy Change ID\": 6172, \"term\": \"dpas\", \"tfidf\": 0.5494362997976967, \"region_1\": \"Southern Europe\"}, {\"Policy Change ID\": 8587, \"term\": \"subcontracting\", \"tfidf\": 0.5451267887870693, \"region_1\": \"Southern Europe\"}, {\"Policy Change ID\": 10143, \"term\": \"convention\", \"tfidf\": 0.5434505100315684, \"region_1\": \"Southern Europe\"}, {\"Policy Change ID\": 8508, \"term\": \"generative\", \"tfidf\": 0.6445000139736435, \"region_1\": \"Western Africa\"}, {\"Policy Change ID\": 7754, \"term\": \"secure\", \"tfidf\": 0.5086828467938306, \"region_1\": \"Western Africa\"}, {\"Policy Change ID\": 9265, \"term\": \"china\", \"tfidf\": 0.4634787787976643, \"region_1\": \"Western Africa\"}, {\"Policy Change ID\": 9112, \"term\": \"resolution\", \"tfidf\": 0.45309223188157155, \"region_1\": \"Western Africa\"}, {\"Policy Change ID\": 1625, \"term\": \"recommendation\", \"tfidf\": 0.4134257467728061, \"region_1\": \"Western Africa\"}, {\"Policy Change ID\": 7516, \"term\": \"parties\", \"tfidf\": 0.41107177307549986, \"region_1\": \"Western Africa\"}, {\"Policy Change ID\": 7754, \"term\": \"design\", \"tfidf\": 0.4086817269486862, \"region_1\": \"Western Africa\"}, {\"Policy Change ID\": 10033, \"term\": \"strategy\", \"tfidf\": 0.4065874267097203, \"region_1\": \"Western Africa\"}, {\"Policy Change ID\": 11063, \"term\": \"un\", \"tfidf\": 0.39586759945254324, \"region_1\": \"Western Africa\"}, {\"Policy Change ID\": 9265, \"term\": \"cooperation\", \"tfidf\": 0.372268354354869, \"region_1\": \"Western Africa\"}, {\"Policy Change ID\": 9679, \"term\": \"media\", \"tfidf\": 0.7666467774148327, \"region_1\": \"Western Asia\"}, {\"Policy Change ID\": 6286, \"term\": \"oracle\", \"tfidf\": 0.6964901362285261, \"region_1\": \"Western Asia\"}, {\"Policy Change ID\": 1463, \"term\": \"insurance\", \"tfidf\": 0.6559356642065489, \"region_1\": \"Western Asia\"}, {\"Policy Change ID\": 8508, \"term\": \"generative\", \"tfidf\": 0.6444215116618427, \"region_1\": \"Western Asia\"}, {\"Policy Change ID\": 4185, \"term\": \"machinery\", \"tfidf\": 0.6174809115281973, \"region_1\": \"Western Asia\"}, {\"Policy Change ID\": 10617, \"term\": \"charter\", \"tfidf\": 0.6113216799751732, \"region_1\": \"Western Asia\"}, {\"Policy Change ID\": 5031, \"term\": \"standardisation\", \"tfidf\": 0.5710371844380236, \"region_1\": \"Western Asia\"}, {\"Policy Change ID\": 10502, \"term\": \"code\", \"tfidf\": 0.5619599800891177, \"region_1\": \"Western Asia\"}, {\"Policy Change ID\": 118, \"term\": \"white\", \"tfidf\": 0.5557561477802148, \"region_1\": \"Western Asia\"}, {\"Policy Change ID\": 8587, \"term\": \"subcontracting\", \"tfidf\": 0.545207515119655, \"region_1\": \"Western Asia\"}, {\"Policy Change ID\": 11242, \"term\": \"competition\", \"tfidf\": 0.6862020677971187, \"region_1\": \"Western Europe\"}, {\"Policy Change ID\": 8344, \"term\": \"encryption\", \"tfidf\": 0.661480128357488, \"region_1\": \"Western Europe\"}, {\"Policy Change ID\": 1463, \"term\": \"insurance\", \"tfidf\": 0.6559265429845469, \"region_1\": \"Western Europe\"}, {\"Policy Change ID\": 10218, \"term\": \"inventor\", \"tfidf\": 0.637925454951495, \"region_1\": \"Western Europe\"}, {\"Policy Change ID\": 7078, \"term\": \"bill\", \"tfidf\": 0.6317014453131021, \"region_1\": \"Western Europe\"}, {\"Policy Change ID\": 4185, \"term\": \"machinery\", \"tfidf\": 0.6174841093669263, \"region_1\": \"Western Europe\"}, {\"Policy Change ID\": 10041, \"term\": \"meta\", \"tfidf\": 0.5929891940429275, \"region_1\": \"Western Europe\"}, {\"Policy Change ID\": 463, \"term\": \"works\", \"tfidf\": 0.5762829843328902, \"region_1\": \"Western Europe\"}, {\"Policy Change ID\": 418, \"term\": \"secnumcloud\", \"tfidf\": 0.5734120387172399, \"region_1\": \"Western Europe\"}, {\"Policy Change ID\": 5031, \"term\": \"standardisation\", \"tfidf\": 0.5710961277131974, \"region_1\": \"Western Europe\"}]}}, {\"mode\": \"vega-lite\"});\n",
              "</script>"
            ],
            "text/plain": [
              "alt.LayerChart(...)"
            ]
          },
          "metadata": {},
          "execution_count": 69
        }
      ]
    },
    {
      "cell_type": "markdown",
      "source": [
        "## **TOPIC MODELING**"
      ],
      "metadata": {
        "id": "Kx5kDyBR6lYu"
      }
    },
    {
      "cell_type": "markdown",
      "source": [
        "#### **Training topic modeling model**"
      ],
      "metadata": {
        "id": "sbeOA7RpnNUF"
      }
    },
    {
      "cell_type": "code",
      "source": [
        "# Passing policy descriptions as a list\n",
        "topic_training_data = ai_policies_df.clean_event_description.to_list()\n",
        "\n",
        "# Defining the number of topics to return\n",
        "num_topics = 8\n",
        "\n",
        "# Defining the number of topic words to print out\n",
        "num_topic_words = 10\n",
        "\n",
        "# Initializing the model with seed to get always the same results\n",
        "model = tp.LDAModel(k=num_topics, seed=42)\n",
        "\n",
        "# Adding each document to the model, after removing white space (strip)\n",
        "# and splitting it up into words (split)\n",
        "for text in topic_training_data:\n",
        "    model.add_doc(text.strip().split())\n",
        "\n",
        "# Printing the log-likelihood function to\n",
        "# derive the maximum likelihood estimator of the parameter\n",
        "print(\"Topic Model Training...\\n\\n\")\n",
        "\n",
        "# Iterating over the data 40 times\n",
        "iterations = 40\n",
        "for i in range(0, iterations):\n",
        "    model.train(iterations)\n",
        "    print(f'Iteration: {i}\\tLog-likelihood: {model.ll_per_word}')\n",
        "\n",
        "print(\"\\nTopic Model Results:\\n\\n\")\n",
        "# Printing out top 10 words for each topic\n",
        "topics = []\n",
        "topic_individual_words = []\n",
        "for topic_number in range(0, num_topics):\n",
        "    topic_words = ' '.join(word for word, prob in model.get_topic_words(topic_id=topic_number, top_n=num_topic_words))\n",
        "    topics.append(topic_words)\n",
        "    topic_individual_words.append(topic_words.split())\n",
        "    print(f\"✨Topic {topic_number+1}✨\\n\\n{topic_words}\\n\")"
      ],
      "metadata": {
        "colab": {
          "base_uri": "https://localhost:8080/"
        },
        "collapsed": true,
        "id": "_i56UHFP7Gfe",
        "outputId": "992d3e9d-e713-427a-8b43-1ca08d7ce412"
      },
      "execution_count": 70,
      "outputs": [
        {
          "output_type": "stream",
          "name": "stdout",
          "text": [
            "Topic Model Training...\n",
            "\n",
            "\n",
            "Iteration: 0\tLog-likelihood: -7.581507030345364\n",
            "Iteration: 1\tLog-likelihood: -7.493695987730095\n",
            "Iteration: 2\tLog-likelihood: -7.464114129558229\n",
            "Iteration: 3\tLog-likelihood: -7.441581269536054\n",
            "Iteration: 4\tLog-likelihood: -7.428933354076105\n"
          ]
        },
        {
          "output_type": "stream",
          "name": "stderr",
          "text": [
            "<ipython-input-70-40d2dcb3ada5>:25: RuntimeWarning: The training result may differ even with fixed seed if `workers` != 1.\n",
            "  model.train(iterations)\n"
          ]
        },
        {
          "output_type": "stream",
          "name": "stdout",
          "text": [
            "Iteration: 5\tLog-likelihood: -7.428313134106953\n",
            "Iteration: 6\tLog-likelihood: -7.4181145066084415\n",
            "Iteration: 7\tLog-likelihood: -7.425687697991197\n",
            "Iteration: 8\tLog-likelihood: -7.415808159879553\n",
            "Iteration: 9\tLog-likelihood: -7.421224371926906\n",
            "Iteration: 10\tLog-likelihood: -7.417572736042145\n",
            "Iteration: 11\tLog-likelihood: -7.42373203386678\n",
            "Iteration: 12\tLog-likelihood: -7.419453381949495\n",
            "Iteration: 13\tLog-likelihood: -7.422617371255068\n",
            "Iteration: 14\tLog-likelihood: -7.427568627354448\n",
            "Iteration: 15\tLog-likelihood: -7.420053947266181\n",
            "Iteration: 16\tLog-likelihood: -7.408635242187451\n",
            "Iteration: 17\tLog-likelihood: -7.413724246337073\n",
            "Iteration: 18\tLog-likelihood: -7.41337260533669\n",
            "Iteration: 19\tLog-likelihood: -7.413625170365029\n",
            "Iteration: 20\tLog-likelihood: -7.413844737533853\n",
            "Iteration: 21\tLog-likelihood: -7.412673413377749\n",
            "Iteration: 22\tLog-likelihood: -7.415652382909972\n",
            "Iteration: 23\tLog-likelihood: -7.407084752063899\n",
            "Iteration: 24\tLog-likelihood: -7.413975548585996\n",
            "Iteration: 25\tLog-likelihood: -7.415992257897199\n",
            "Iteration: 26\tLog-likelihood: -7.407892505634996\n",
            "Iteration: 27\tLog-likelihood: -7.4050442813006105\n",
            "Iteration: 28\tLog-likelihood: -7.407769190905763\n",
            "Iteration: 29\tLog-likelihood: -7.397664747214226\n",
            "Iteration: 30\tLog-likelihood: -7.405218131154663\n",
            "Iteration: 31\tLog-likelihood: -7.401361505564829\n",
            "Iteration: 32\tLog-likelihood: -7.398090369060116\n",
            "Iteration: 33\tLog-likelihood: -7.393345229686649\n",
            "Iteration: 34\tLog-likelihood: -7.400555330546031\n",
            "Iteration: 35\tLog-likelihood: -7.399059714285379\n",
            "Iteration: 36\tLog-likelihood: -7.400405751310934\n",
            "Iteration: 37\tLog-likelihood: -7.400991350738526\n",
            "Iteration: 38\tLog-likelihood: -7.407197108420675\n",
            "Iteration: 39\tLog-likelihood: -7.4086017761523735\n",
            "\n",
            "Topic Model Results:\n",
            "\n",
            "\n",
            "✨Topic 1✨\n",
            "\n",
            "data protection personal information processing authority training privacy user consent\n",
            "\n",
            "✨Topic 2✨\n",
            "\n",
            "market competition commission service consumer financial company trade issue product\n",
            "\n",
            "✨Topic 3✨\n",
            "\n",
            "bill would introduce right require decision individual automate include establish\n",
            "\n",
            "✨Topic 4✨\n",
            "\n",
            "development aim digital framework national support promote research strategy international\n",
            "\n",
            "✨Topic 5✨\n",
            "\n",
            "service regulation include require provider law authority must implement provide\n",
            "\n",
            "✨Topic 6✨\n",
            "\n",
            "risk include guideline ensure model address development principle safety consultation\n",
            "\n",
            "✨Topic 7✨\n",
            "\n",
            "security cloud cybersecurity standard service national draft control compute infrastructure\n",
            "\n",
            "✨Topic 8✨\n",
            "\n",
            "content platform generative generate medium online copyright work digital image\n",
            "\n"
          ]
        }
      ]
    },
    {
      "cell_type": "markdown",
      "source": [
        "#### **Visualizing topic modeling results**"
      ],
      "metadata": {
        "id": "aDU2x5HVpLgP"
      }
    },
    {
      "cell_type": "code",
      "source": [
        "# Creating a dataframe with the results\n",
        "topic_distributions = [list(doc.get_topic_dist()) for doc in model.docs]\n",
        "ai_policies_topics = pd.DataFrame(topic_distributions)\n",
        "\n",
        "# Joining the dataframe with results with the base dataset\n",
        "ai_policies_df_topics = ai_policies_df.join(ai_policies_topics)\n",
        "\n",
        "# Exploding dataset so that each obsevation is at the country-intervention level\n",
        "ai_policies_country_topics = ai_policies_df_topics.assign(countries=ai_policies_df_topics['Implementing Countries'].str.split(', ')).explode('countries').reset_index(drop=True)\n",
        "\n",
        "# Merging dataset with country dataset to obtain regions\n",
        "ai_policies_country_topics = pd.merge(ai_policies_country_topics,cc_df[['countries', 'region_1']],on='countries')\n",
        "\n",
        "# Renaming columns that refer to topics\n",
        "dict_topics = {0:\"topic_1\", 1:\"topic_2\", 2:\"topic_3\", 3:\"topic_4\", 4:\"topic_5\", 5:\"topic_6\", 6:\"topic_7\", 7:\"topic_8\"}\n",
        "ai_policies_country_topics = ai_policies_country_topics.rename(columns=dict_topics)\n",
        "\n",
        "# Dropping column countries and keeping only regions\n",
        "ai_policies_country_topics = ai_policies_country_topics.drop(columns='countries')\n",
        "\n",
        "# Slicing dataset so that it contains only the region and topics\n",
        "ai_policies_country_topics_only = ai_policies_country_topics.iloc[:,num_topics*(-1)-1:]\n",
        "\n",
        "# Grouping dataset by region, getting the mean of each topic per region\n",
        "ai_policies_country_topics = ai_policies_country_topics_only.groupby(['region_1']).mean()\n",
        "\n",
        "# Creating a dataset to be used for visualization\n",
        "hist_data = ai_policies_country_topics"
      ],
      "metadata": {
        "id": "qSna697s7Gcr"
      },
      "execution_count": 71,
      "outputs": []
    },
    {
      "cell_type": "code",
      "source": [
        "sns.heatmap(hist_data, cmap='crest', robust=True)"
      ],
      "metadata": {
        "colab": {
          "base_uri": "https://localhost:8080/",
          "height": 0
        },
        "id": "YVqQzeglxBVD",
        "outputId": "2057fe3e-5bea-46d6-f110-665bee815696"
      },
      "execution_count": 72,
      "outputs": [
        {
          "output_type": "execute_result",
          "data": {
            "text/plain": [
              "<Axes: ylabel='region_1'>"
            ]
          },
          "metadata": {},
          "execution_count": 72
        },
        {
          "output_type": "display_data",
          "data": {
            "text/plain": [
              "<Figure size 640x480 with 2 Axes>"
            ],
            "image/png": "[encoded data removed]"
          },
          "metadata": {}
        }
      ]
    },
    {
      "cell_type": "markdown",
      "source": [
        "# **TF-IDF AND TOPICS PER CLUSTER**"
      ],
      "metadata": {
        "id": "poYb0BD_MPNW"
      }
    },
    {
      "cell_type": "markdown",
      "source": [
        "## **TF-IDF**"
      ],
      "metadata": {
        "id": "siFQWKdrOyRL"
      }
    },
    {
      "cell_type": "markdown",
      "source": [
        "#### **Running TF-IDF for each cluster**\n",
        " Because I want to understand which terms are more important for each cluster, I create subsets of data for each cluster and run TF-IDF on those subsets. Then, I plot a heatmap to visualize the distribution of terms per cluster."
      ],
      "metadata": {
        "id": "x3xhziGTSLrg"
      }
    },
    {
      "cell_type": "code",
      "source": [
        "### RUNNING TF-IDF ANALYSIS\n",
        "\n",
        "# Creating empty dataframe\n",
        "tf_idf_cluster_terms = pd.DataFrame()\n",
        "\n",
        "# Calculating TF_IDF for each subset and appending it to a dataset\n",
        "list_clusters = tfidf_df.cluster_kmean.dropna().unique()\n",
        "for cluster in list_clusters:\n",
        "  subset = tfidf_df[tfidf_df['cluster_kmean'] == cluster]\n",
        "  tfidf_vectorizer = TfidfVectorizer(input='content', stop_words=stop_list)\n",
        "  tfidf_vector = tfidf_vectorizer.fit_transform(subset['Latest Event Description'])\n",
        "  tfidf_df_subset = pd.DataFrame(tfidf_vector.toarray(), index=subset['Policy Change ID'], columns=tfidf_vectorizer.get_feature_names_out())\n",
        "  tfidf_df_subset = tfidf_df_subset.stack().reset_index()\n",
        "  tfidf_df_subset = tfidf_df_subset.rename(columns={0:'tfidf', 'level_1': 'term'})\n",
        "  tf_idf_cluster_terms = pd.concat([tf_idf_cluster_terms, tfidf_df_subset])\n",
        "\n",
        "# Filtering out the terms that have a low tfidf score (below 0.001)\n",
        "tf_idf_cluster_terms = tf_idf_cluster_terms[tf_idf_cluster_terms['tfidf'] > 0.001]\n",
        "\n",
        "# Creating new dataset that contains unique pairs of intervention-region\n",
        "tfidf_df_new = tfidf_df[['Policy Change ID', 'cluster_kmean']].drop_duplicates()\n",
        "\n",
        "# Merging dataset that contains TF_IDF values with dataset that contains unique pairs of intervention-region\n",
        "tf_idf_cluster = pd.merge(tf_idf_cluster_terms,tfidf_df_new,on='Policy Change ID')\n",
        "\n",
        "# Getting top 10 terms with highest TF_IDF per region\n",
        "top_tfidf = tf_idf_cluster.sort_values(by=['cluster_kmean','tfidf'], ascending=[True,False]).drop_duplicates(subset=['term', 'cluster_kmean']).groupby(['cluster_kmean']).head(10)"
      ],
      "metadata": {
        "id": "8oI81i0OMQ7r"
      },
      "execution_count": 73,
      "outputs": []
    },
    {
      "cell_type": "code",
      "source": [
        "### VISUALIZING TF-IDF HEATMAP\n",
        "#[based on https://github.com/rskrisel/tf-idf/blob/main/README.md]\n",
        "\n",
        "# Adding a little randomness to break ties in term ranking\n",
        "top_tfidf_plusRand = top_tfidf.copy()\n",
        "top_tfidf_plusRand['tfidf'] = top_tfidf_plusRand['tfidf'] + np.random.rand(top_tfidf.shape[0])*0.0001\n",
        "\n",
        "# Base for all visualizations, with rank calculation\n",
        "base = alt.Chart(top_tfidf_plusRand).encode(\n",
        "    x = 'rank:O',\n",
        "    y = 'cluster_kmean:N'\n",
        ").transform_window(\n",
        "    rank = \"rank()\",\n",
        "    sort = [alt.SortField(\"tfidf\", order=\"descending\")],\n",
        "    groupby = [\"cluster_kmean\"],\n",
        ")\n",
        "\n",
        "# Heatmap specification\n",
        "heatmap = base.mark_rect().encode(\n",
        "    color = 'tfidf:Q'\n",
        ")\n",
        "\n",
        "# Text labels, white for darker heatmap colors\n",
        "text = base.mark_text(baseline='middle').encode(\n",
        "    text = 'term:N',\n",
        "    color = alt.condition(alt.datum.tfidf >= 0.23, alt.value('white'), alt.value('black'))\n",
        ")\n",
        "\n",
        "# Display the three superimposed visualizations\n",
        "(heatmap + text).properties(width = 600)"
      ],
      "metadata": {
        "colab": {
          "base_uri": "https://localhost:8080/",
          "height": 0
        },
        "id": "yA_YhGdDMtU8",
        "outputId": "e1d26e08-5309-4897-efbe-3f87031a7cd2"
      },
      "execution_count": 74,
      "outputs": [
        {
          "output_type": "execute_result",
          "data": {
            "text/html": [
              "\n",
              "<style>\n",
              "  #altair-viz-e8d089f9882a421c9ce50c9878a32369.vega-embed {\n",
              "    width: 100%;\n",
              "    display: flex;\n",
              "  }\n",
              "\n",
              "  #altair-viz-e8d089f9882a421c9ce50c9878a32369.vega-embed details,\n",
              "  #altair-viz-e8d089f9882a421c9ce50c9878a32369.vega-embed details summary {\n",
              "    position: relative;\n",
              "  }\n",
              "</style>\n",
              "<div id=\"altair-viz-e8d089f9882a421c9ce50c9878a32369\"></div>\n",
              "<script type=\"text/javascript\">\n",
              "  var VEGA_DEBUG = (typeof VEGA_DEBUG == \"undefined\") ? {} : VEGA_DEBUG;\n",
              "  (function(spec, embedOpt){\n",
              "    let outputDiv = document.currentScript.previousElementSibling;\n",
              "    if (outputDiv.id !== \"altair-viz-e8d089f9882a421c9ce50c9878a32369\") {\n",
              "      outputDiv = document.getElementById(\"altair-viz-e8d089f9882a421c9ce50c9878a32369\");\n",
              "    }\n",
              "\n",
              "    const paths = {\n",
              "      \"vega\": \"https://cdn.jsdelivr.net/npm/vega@5?noext\",\n",
              "      \"vega-lib\": \"https://cdn.jsdelivr.net/npm/vega-lib?noext\",\n",
              "      \"vega-lite\": \"https://cdn.jsdelivr.net/npm/vega-lite@5.20.1?noext\",\n",
              "      \"vega-embed\": \"https://cdn.jsdelivr.net/npm/vega-embed@6?noext\",\n",
              "    };\n",
              "\n",
              "    function maybeLoadScript(lib, version) {\n",
              "      var key = `${lib.replace(\"-\", \"\")}_version`;\n",
              "      return (VEGA_DEBUG[key] == version) ?\n",
              "        Promise.resolve(paths[lib]) :\n",
              "        new Promise(function(resolve, reject) {\n",
              "          var s = document.createElement('script');\n",
              "          document.getElementsByTagName(\"head\")[0].appendChild(s);\n",
              "          s.async = true;\n",
              "          s.onload = () => {\n",
              "            VEGA_DEBUG[key] = version;\n",
              "            return resolve(paths[lib]);\n",
              "          };\n",
              "          s.onerror = () => reject(`Error loading script: ${paths[lib]}`);\n",
              "          s.src = paths[lib];\n",
              "        });\n",
              "    }\n",
              "\n",
              "    function showError(err) {\n",
              "      outputDiv.innerHTML = `<div class=\"error\" style=\"color:red;\">${err}</div>`;\n",
              "      throw err;\n",
              "    }\n",
              "\n",
              "    function displayChart(vegaEmbed) {\n",
              "      vegaEmbed(outputDiv, spec, embedOpt)\n",
              "        .catch(err => showError(`Javascript Error: ${err.message}<br>This usually means there's a typo in your chart specification. See the javascript console for the full traceback.`));\n",
              "    }\n",
              "\n",
              "    if(typeof define === \"function\" && define.amd) {\n",
              "      requirejs.config({paths});\n",
              "      let deps = [\"vega-embed\"];\n",
              "      require(deps, displayChart, err => showError(`Error loading script: ${err.message}`));\n",
              "    } else {\n",
              "      maybeLoadScript(\"vega\", \"5\")\n",
              "        .then(() => maybeLoadScript(\"vega-lite\", \"5.20.1\"))\n",
              "        .then(() => maybeLoadScript(\"vega-embed\", \"6\"))\n",
              "        .catch(showError)\n",
              "        .then(() => displayChart(vegaEmbed));\n",
              "    }\n",
              "  })({\"config\": {\"view\": {\"continuousWidth\": 300, \"continuousHeight\": 300}}, \"layer\": [{\"mark\": {\"type\": \"rect\"}, \"encoding\": {\"color\": {\"field\": \"tfidf\", \"type\": \"quantitative\"}, \"x\": {\"field\": \"rank\", \"type\": \"ordinal\"}, \"y\": {\"field\": \"cluster_kmean\", \"type\": \"nominal\"}}, \"transform\": [{\"window\": [{\"op\": \"rank\", \"field\": \"\", \"as\": \"rank\"}], \"groupby\": [\"cluster_kmean\"], \"sort\": [{\"field\": \"tfidf\", \"order\": \"descending\"}]}]}, {\"mark\": {\"type\": \"text\", \"baseline\": \"middle\"}, \"encoding\": {\"color\": {\"condition\": {\"test\": \"(datum.tfidf >= 0.23)\", \"value\": \"white\"}, \"value\": \"black\"}, \"text\": {\"field\": \"term\", \"type\": \"nominal\"}, \"x\": {\"field\": \"rank\", \"type\": \"ordinal\"}, \"y\": {\"field\": \"cluster_kmean\", \"type\": \"nominal\"}}, \"transform\": [{\"window\": [{\"op\": \"rank\", \"field\": \"\", \"as\": \"rank\"}], \"groupby\": [\"cluster_kmean\"], \"sort\": [{\"field\": \"tfidf\", \"order\": \"descending\"}]}]}], \"data\": {\"name\": \"data-d2b149449f93e132d96e96dc7392ef7e\"}, \"width\": 600, \"$schema\": \"https://vega.github.io/schema/vega-lite/v5.20.1.json\", \"datasets\": {\"data-d2b149449f93e132d96e96dc7392ef7e\": [{\"Policy Change ID\": 8508, \"term\": \"generative\", \"tfidf\": 0.618050998152263, \"cluster_kmean\": 0.0}, {\"Policy Change ID\": 9265, \"term\": \"china\", \"tfidf\": 0.5978765820420145, \"cluster_kmean\": 0.0}, {\"Policy Change ID\": 7841, \"term\": \"robotics\", \"tfidf\": 0.5138704980314626, \"cluster_kmean\": 0.0}, {\"Policy Change ID\": 9778, \"term\": \"kenya\", \"tfidf\": 0.45834013230447934, \"cluster_kmean\": 0.0}, {\"Policy Change ID\": 9112, \"term\": \"resolution\", \"tfidf\": 0.4553550219450455, \"cluster_kmean\": 0.0}, {\"Policy Change ID\": 1625, \"term\": \"recommendation\", \"tfidf\": 0.4307092157202122, \"cluster_kmean\": 0.0}, {\"Policy Change ID\": 11063, \"term\": \"un\", \"tfidf\": 0.40994403527908296, \"cluster_kmean\": 0.0}, {\"Policy Change ID\": 10033, \"term\": \"strategy\", \"tfidf\": 0.4037838949928272, \"cluster_kmean\": 0.0}, {\"Policy Change ID\": 7516, \"term\": \"parties\", \"tfidf\": 0.3936037307948725, \"cluster_kmean\": 0.0}, {\"Policy Change ID\": 8508, \"term\": \"dco\", \"tfidf\": 0.380450269236782, \"cluster_kmean\": 0.0}, {\"Policy Change ID\": 6286, \"term\": \"oracle\", \"tfidf\": 0.7512324335543602, \"cluster_kmean\": 1.0}, {\"Policy Change ID\": 10060, \"term\": \"snow\", \"tfidf\": 0.714566094950354, \"cluster_kmean\": 1.0}, {\"Policy Change ID\": 9679, \"term\": \"media\", \"tfidf\": 0.679655576325017, \"cluster_kmean\": 1.0}, {\"Policy Change ID\": 10059, \"term\": \"skt\", \"tfidf\": 0.6763225071865311, \"cluster_kmean\": 1.0}, {\"Policy Change ID\": 7689, \"term\": \"bill\", \"tfidf\": 0.6654671925028244, \"cluster_kmean\": 1.0}, {\"Policy Change ID\": 1463, \"term\": \"insurance\", \"tfidf\": 0.6588715636651462, \"cluster_kmean\": 1.0}, {\"Policy Change ID\": 10061, \"term\": \"deepl\", \"tfidf\": 0.6442286171074627, \"cluster_kmean\": 1.0}, {\"Policy Change ID\": 10062, \"term\": \"vuno\", \"tfidf\": 0.6390290012056045, \"cluster_kmean\": 1.0}, {\"Policy Change ID\": 4185, \"term\": \"machinery\", \"tfidf\": 0.6210508915363434, \"cluster_kmean\": 1.0}, {\"Policy Change ID\": 10291, \"term\": \"phishing\", \"tfidf\": 0.620263773481179, \"cluster_kmean\": 1.0}, {\"Policy Change ID\": 11242, \"term\": \"competition\", \"tfidf\": 0.6746711950374642, \"cluster_kmean\": 2.0}, {\"Policy Change ID\": 1463, \"term\": \"insurance\", \"tfidf\": 0.6588706920381084, \"cluster_kmean\": 2.0}, {\"Policy Change ID\": 1490, \"term\": \"assurance\", \"tfidf\": 0.6508147091303748, \"cluster_kmean\": 2.0}, {\"Policy Change ID\": 8344, \"term\": \"encryption\", \"tfidf\": 0.6359114785906648, \"cluster_kmean\": 2.0}, {\"Policy Change ID\": 5094, \"term\": \"aws\", \"tfidf\": 0.6332256748661118, \"cluster_kmean\": 2.0}, {\"Policy Change ID\": 4185, \"term\": \"machinery\", \"tfidf\": 0.6209951035681812, \"cluster_kmean\": 2.0}, {\"Policy Change ID\": 9326, \"term\": \"accuracy\", \"tfidf\": 0.6151551802997447, \"cluster_kmean\": 2.0}, {\"Policy Change ID\": 10218, \"term\": \"inventor\", \"tfidf\": 0.6135726396771598, \"cluster_kmean\": 2.0}, {\"Policy Change ID\": 11374, \"term\": \"opc\", \"tfidf\": 0.5852615903153318, \"cluster_kmean\": 2.0}, {\"Policy Change ID\": 10041, \"term\": \"meta\", \"tfidf\": 0.5815010579306827, \"cluster_kmean\": 2.0}, {\"Policy Change ID\": 10522, \"term\": \"observatory\", \"tfidf\": 0.6979323627912233, \"cluster_kmean\": 3.0}, {\"Policy Change ID\": 10617, \"term\": \"charter\", \"tfidf\": 0.6605708205961056, \"cluster_kmean\": 3.0}, {\"Policy Change ID\": 1463, \"term\": \"insurance\", \"tfidf\": 0.6588505932194, \"cluster_kmean\": 3.0}, {\"Policy Change ID\": 6635, \"term\": \"bill\", \"tfidf\": 0.6337860518468373, \"cluster_kmean\": 3.0}, {\"Policy Change ID\": 4185, \"term\": \"machinery\", \"tfidf\": 0.6210253708449716, \"cluster_kmean\": 3.0}, {\"Policy Change ID\": 8508, \"term\": \"generative\", \"tfidf\": 0.6180875223158131, \"cluster_kmean\": 3.0}, {\"Policy Change ID\": 11088, \"term\": \"malaysia\", \"tfidf\": 0.6113239045163467, \"cluster_kmean\": 3.0}, {\"Policy Change ID\": 11458, \"term\": \"dell\", \"tfidf\": 0.6036926009045447, \"cluster_kmean\": 3.0}, {\"Policy Change ID\": 9265, \"term\": \"china\", \"tfidf\": 0.5978766505326818, \"cluster_kmean\": 3.0}, {\"Policy Change ID\": 5031, \"term\": \"standardisation\", \"tfidf\": 0.5710934226997207, \"cluster_kmean\": 3.0}, {\"Policy Change ID\": 7062, \"term\": \"internet\", \"tfidf\": 0.5820404740322488, \"cluster_kmean\": 4.0}, {\"Policy Change ID\": 4787, \"term\": \"licenses\", \"tfidf\": 0.5698890468362192, \"cluster_kmean\": 4.0}, {\"Policy Change ID\": 10502, \"term\": \"code\", \"tfidf\": 0.5483762297910789, \"cluster_kmean\": 4.0}, {\"Policy Change ID\": 9198, \"term\": \"authorisation\", \"tfidf\": 0.5414402312672468, \"cluster_kmean\": 4.0}, {\"Policy Change ID\": 8911, \"term\": \"hosting\", \"tfidf\": 0.5361014227379794, \"cluster_kmean\": 4.0}, {\"Policy Change ID\": 10209, \"term\": \"testing\", \"tfidf\": 0.5295409849236389, \"cluster_kmean\": 4.0}, {\"Policy Change ID\": 10500, \"term\": \"neurotechnologies\", \"tfidf\": 0.514847023558677, \"cluster_kmean\": 4.0}, {\"Policy Change ID\": 8838, \"term\": \"inventions\", \"tfidf\": 0.5076414210547456, \"cluster_kmean\": 4.0}, {\"Policy Change ID\": 9205, \"term\": \"decree\", \"tfidf\": 0.49990679788328474, \"cluster_kmean\": 4.0}, {\"Policy Change ID\": 5643, \"term\": \"ripd\", \"tfidf\": 0.4988691686693766, \"cluster_kmean\": 4.0}, {\"Policy Change ID\": 8181, \"term\": \"cloud\", \"tfidf\": 0.732424507630696, \"cluster_kmean\": 5.0}, {\"Policy Change ID\": 9265, \"term\": \"china\", \"tfidf\": 0.5978404092487966, \"cluster_kmean\": 5.0}, {\"Policy Change ID\": 10871, \"term\": \"risks\", \"tfidf\": 0.5857706286430644, \"cluster_kmean\": 5.0}, {\"Policy Change ID\": 5289, \"term\": \"export\", \"tfidf\": 0.5676122654047253, \"cluster_kmean\": 5.0}, {\"Policy Change ID\": 10256, \"term\": \"bci\", \"tfidf\": 0.5076020108006384, \"cluster_kmean\": 5.0}, {\"Policy Change ID\": 7402, \"term\": \"initiative\", \"tfidf\": 0.5004232814476852, \"cluster_kmean\": 5.0}, {\"Policy Change ID\": 11335, \"term\": \"upgrade\", \"tfidf\": 0.4963637637932526, \"cluster_kmean\": 5.0}, {\"Policy Change ID\": 1917, \"term\": \"code\", \"tfidf\": 0.4940903227675731, \"cluster_kmean\": 5.0}, {\"Policy Change ID\": 1730, \"term\": \"deep\", \"tfidf\": 0.4735227407652306, \"cluster_kmean\": 5.0}, {\"Policy Change ID\": 1730, \"term\": \"synthesis\", \"tfidf\": 0.47350579085840744, \"cluster_kmean\": 5.0}, {\"Policy Change ID\": 9444, \"term\": \"competition\", \"tfidf\": 0.7166485789108467, \"cluster_kmean\": 6.0}, {\"Policy Change ID\": 2076, \"term\": \"ml\", \"tfidf\": 0.5947799224911247, \"cluster_kmean\": 6.0}, {\"Policy Change ID\": 300, \"term\": \"cloud\", \"tfidf\": 0.495622893361446, \"cluster_kmean\": 6.0}, {\"Policy Change ID\": 9112, \"term\": \"resolution\", \"tfidf\": 0.4553957838952409, \"cluster_kmean\": 6.0}, {\"Policy Change ID\": 5568, \"term\": \"mou\", \"tfidf\": 0.45107801020879573, \"cluster_kmean\": 6.0}, {\"Policy Change ID\": 4069, \"term\": \"data\", \"tfidf\": 0.44118772068660694, \"cluster_kmean\": 6.0}, {\"Policy Change ID\": 1625, \"term\": \"recommendation\", \"tfidf\": 0.43078157362133296, \"cluster_kmean\": 6.0}, {\"Policy Change ID\": 4521, \"term\": \"ttc\", \"tfidf\": 0.42669854245471195, \"cluster_kmean\": 6.0}, {\"Policy Change ID\": 8054, \"term\": \"advisory\", \"tfidf\": 0.4147156192348679, \"cluster_kmean\": 6.0}, {\"Policy Change ID\": 11063, \"term\": \"un\", \"tfidf\": 0.4100064240165377, \"cluster_kmean\": 6.0}, {\"Policy Change ID\": 11106, \"term\": \"research\", \"tfidf\": 0.7055566883126373, \"cluster_kmean\": 7.0}, {\"Policy Change ID\": 11242, \"term\": \"competition\", \"tfidf\": 0.6746098119958216, \"cluster_kmean\": 7.0}, {\"Policy Change ID\": 8140, \"term\": \"hub\", \"tfidf\": 0.6520285327646327, \"cluster_kmean\": 7.0}, {\"Policy Change ID\": 7529, \"term\": \"usaisi\", \"tfidf\": 0.6191550140210437, \"cluster_kmean\": 7.0}, {\"Policy Change ID\": 5602, \"term\": \"airc\", \"tfidf\": 0.6125965580352876, \"cluster_kmean\": 7.0}, {\"Policy Change ID\": 5905, \"term\": \"strategy\", \"tfidf\": 0.5896346579922487, \"cluster_kmean\": 7.0}, {\"Policy Change ID\": 5964, \"term\": \"minor\", \"tfidf\": 0.5797332121070765, \"cluster_kmean\": 7.0}, {\"Policy Change ID\": 372, \"term\": \"nuclear\", \"tfidf\": 0.5794341344931103, \"cluster_kmean\": 7.0}, {\"Policy Change ID\": 9964, \"term\": \"warnings\", \"tfidf\": 0.5778891767691037, \"cluster_kmean\": 7.0}, {\"Policy Change ID\": 5549, \"term\": \"ostp\", \"tfidf\": 0.5695995085670488, \"cluster_kmean\": 7.0}]}}, {\"mode\": \"vega-lite\"});\n",
              "</script>"
            ],
            "text/plain": [
              "alt.LayerChart(...)"
            ]
          },
          "metadata": {},
          "execution_count": 74
        }
      ]
    },
    {
      "cell_type": "markdown",
      "source": [
        "## **TOPIC MODELING**"
      ],
      "metadata": {
        "id": "Rd5LelLWO1O0"
      }
    },
    {
      "cell_type": "markdown",
      "source": [
        "#### **Training topic modeling model**"
      ],
      "metadata": {
        "id": "HMvBPmEkSDnj"
      }
    },
    {
      "cell_type": "code",
      "source": [
        "# Passing policy descriptions as a list\n",
        "topic_training_data = ai_policies_df.clean_event_description.to_list()\n",
        "\n",
        "# Defining the number of topics to return\n",
        "num_topics = 8\n",
        "\n",
        "# Defining the number of topic words to print out\n",
        "num_topic_words = 10\n",
        "\n",
        "# Initializing the model with seed to get always the same results\n",
        "model = tp.LDAModel(k=num_topics, seed=42)\n",
        "\n",
        "# Adding each document to the model, after removing white space (strip)\n",
        "# and splitting it up into words (split)\n",
        "for text in topic_training_data:\n",
        "    model.add_doc(text.strip().split())\n",
        "\n",
        "# Printing the log-likelihood function to\n",
        "# derive the maximum likelihood estimator of the parameter\n",
        "print(\"Topic Model Training...\\n\\n\")\n",
        "\n",
        "# Iterating over the data 40 times\n",
        "iterations = 40\n",
        "for i in range(0, iterations):\n",
        "    model.train(iterations)\n",
        "    print(f'Iteration: {i}\\tLog-likelihood: {model.ll_per_word}')\n",
        "\n",
        "print(\"\\nTopic Model Results:\\n\\n\")\n",
        "# Printing out top 10 words for each topic\n",
        "topics = []\n",
        "topic_individual_words = []\n",
        "for topic_number in range(0, num_topics):\n",
        "    topic_words = ' '.join(word for word, prob in model.get_topic_words(topic_id=topic_number, top_n=num_topic_words))\n",
        "    topics.append(topic_words)\n",
        "    topic_individual_words.append(topic_words.split())\n",
        "    print(f\"✨Topic {topic_number+1}✨\\n\\n{topic_words}\\n\")"
      ],
      "metadata": {
        "colab": {
          "base_uri": "https://localhost:8080/"
        },
        "id": "cxyK3gyAQ4Nd",
        "outputId": "2ae2470d-e9f2-431e-c8ee-e8ffcae2dcd4"
      },
      "execution_count": 75,
      "outputs": [
        {
          "output_type": "stream",
          "name": "stdout",
          "text": [
            "Topic Model Training...\n",
            "\n",
            "\n",
            "Iteration: 0\tLog-likelihood: -7.581507030345364\n",
            "Iteration: 1\tLog-likelihood: -7.493695987730095\n",
            "Iteration: 2\tLog-likelihood: -7.464114129558229\n",
            "Iteration: 3\tLog-likelihood: -7.441581269536054\n",
            "Iteration: 4\tLog-likelihood: -7.428933354076105\n",
            "Iteration: 5\tLog-likelihood: -7.428313134106953\n",
            "Iteration: 6\tLog-likelihood: -7.4181145066084415\n"
          ]
        },
        {
          "output_type": "stream",
          "name": "stderr",
          "text": [
            "<ipython-input-75-40d2dcb3ada5>:25: RuntimeWarning: The training result may differ even with fixed seed if `workers` != 1.\n",
            "  model.train(iterations)\n"
          ]
        },
        {
          "output_type": "stream",
          "name": "stdout",
          "text": [
            "Iteration: 7\tLog-likelihood: -7.425687697991197\n",
            "Iteration: 8\tLog-likelihood: -7.415808159879553\n",
            "Iteration: 9\tLog-likelihood: -7.421224371926906\n",
            "Iteration: 10\tLog-likelihood: -7.417572736042145\n",
            "Iteration: 11\tLog-likelihood: -7.42373203386678\n",
            "Iteration: 12\tLog-likelihood: -7.419453381949495\n",
            "Iteration: 13\tLog-likelihood: -7.422617371255068\n",
            "Iteration: 14\tLog-likelihood: -7.427568627354448\n",
            "Iteration: 15\tLog-likelihood: -7.420053947266181\n",
            "Iteration: 16\tLog-likelihood: -7.408635242187451\n",
            "Iteration: 17\tLog-likelihood: -7.413724246337073\n",
            "Iteration: 18\tLog-likelihood: -7.41337260533669\n",
            "Iteration: 19\tLog-likelihood: -7.413625170365029\n",
            "Iteration: 20\tLog-likelihood: -7.413844737533853\n",
            "Iteration: 21\tLog-likelihood: -7.412673413377749\n",
            "Iteration: 22\tLog-likelihood: -7.415652382909972\n",
            "Iteration: 23\tLog-likelihood: -7.407084752063899\n",
            "Iteration: 24\tLog-likelihood: -7.413975548585996\n",
            "Iteration: 25\tLog-likelihood: -7.415992257897199\n",
            "Iteration: 26\tLog-likelihood: -7.407892505634996\n",
            "Iteration: 27\tLog-likelihood: -7.4050442813006105\n",
            "Iteration: 28\tLog-likelihood: -7.407769190905763\n",
            "Iteration: 29\tLog-likelihood: -7.397664747214226\n",
            "Iteration: 30\tLog-likelihood: -7.405218131154663\n",
            "Iteration: 31\tLog-likelihood: -7.401361505564829\n",
            "Iteration: 32\tLog-likelihood: -7.398090369060116\n",
            "Iteration: 33\tLog-likelihood: -7.393345229686649\n",
            "Iteration: 34\tLog-likelihood: -7.400555330546031\n",
            "Iteration: 35\tLog-likelihood: -7.399059714285379\n",
            "Iteration: 36\tLog-likelihood: -7.400405751310934\n",
            "Iteration: 37\tLog-likelihood: -7.400991350738526\n",
            "Iteration: 38\tLog-likelihood: -7.407197108420675\n",
            "Iteration: 39\tLog-likelihood: -7.4086017761523735\n",
            "\n",
            "Topic Model Results:\n",
            "\n",
            "\n",
            "✨Topic 1✨\n",
            "\n",
            "data protection personal information processing authority training privacy user consent\n",
            "\n",
            "✨Topic 2✨\n",
            "\n",
            "market competition commission service consumer financial company trade issue product\n",
            "\n",
            "✨Topic 3✨\n",
            "\n",
            "bill would introduce right require decision individual automate include establish\n",
            "\n",
            "✨Topic 4✨\n",
            "\n",
            "development aim digital framework national support promote research strategy international\n",
            "\n",
            "✨Topic 5✨\n",
            "\n",
            "service regulation include require provider law authority must implement provide\n",
            "\n",
            "✨Topic 6✨\n",
            "\n",
            "risk include guideline ensure model address development principle safety consultation\n",
            "\n",
            "✨Topic 7✨\n",
            "\n",
            "security cloud cybersecurity standard service national draft control compute infrastructure\n",
            "\n",
            "✨Topic 8✨\n",
            "\n",
            "content platform generative generate medium online copyright work digital image\n",
            "\n"
          ]
        }
      ]
    },
    {
      "cell_type": "markdown",
      "source": [
        "#### **Visualizing topic modeling results**"
      ],
      "metadata": {
        "id": "sWjTP8UxSXdl"
      }
    },
    {
      "cell_type": "code",
      "source": [
        "# Creating a dataframe with the results\n",
        "topic_distributions = [list(doc.get_topic_dist()) for doc in model.docs]\n",
        "ai_policies_topics = pd.DataFrame(topic_distributions)\n",
        "\n",
        "# Joining the dataframe with results with the base dataset\n",
        "ai_policies_df_topics = ai_policies_df.join(ai_policies_topics)\n",
        "\n",
        "# Exploding dataset so that each obsevation is at the country-intervention level\n",
        "ai_policies_country_topics = ai_policies_df_topics.assign(countries=ai_policies_df_topics['Implementing Countries'].str.split(', ')).explode('countries').reset_index(drop=True)\n",
        "\n",
        "# Merging dataset with country dataset to obtain regions\n",
        "ai_policies_country_topics = pd.merge(ai_policies_country_topics,df_clusters[['countries', 'cluster_kmean']], on='countries', how=\"left\")\n",
        "\n",
        "# Renaming columns that refer to topics\n",
        "dict_topics = {0:\"topic_1\", 1:\"topic_2\", 2:\"topic_3\", 3:\"topic_4\", 4:\"topic_5\", 5:\"topic_6\", 6:\"topic_7\", 7:\"topic_8\"}\n",
        "ai_policies_country_topics = ai_policies_country_topics.rename(columns=dict_topics)\n",
        "\n",
        "# Dropping column countries and keeping only regions\n",
        "ai_policies_country_topics = ai_policies_country_topics.drop(columns='countries')\n",
        "\n",
        "# Slicing dataset so that it contains only the region and topics\n",
        "ai_policies_country_topics_only = ai_policies_country_topics.iloc[:,num_topics*(-1)-1:]\n",
        "\n",
        "# Grouping dataset by region, getting the mean of each topic per region\n",
        "ai_policies_country_topics = ai_policies_country_topics_only.groupby(['cluster_kmean']).mean()\n",
        "\n",
        "# Creating a dataset to be used for visualization\n",
        "hist_data = ai_policies_country_topics"
      ],
      "metadata": {
        "id": "JzswErAUOmtz"
      },
      "execution_count": 76,
      "outputs": []
    },
    {
      "cell_type": "code",
      "source": [
        "sns.heatmap(hist_data, cmap='crest', robust=True)"
      ],
      "metadata": {
        "colab": {
          "base_uri": "https://localhost:8080/",
          "height": 483
        },
        "id": "edA4KGE7ROLk",
        "outputId": "7260466f-c293-4c68-d38a-f40fa1495d35"
      },
      "execution_count": 77,
      "outputs": [
        {
          "output_type": "execute_result",
          "data": {
            "text/plain": [
              "<Axes: ylabel='cluster_kmean'>"
            ]
          },
          "metadata": {},
          "execution_count": 77
        },
        {
          "output_type": "display_data",
          "data": {
            "text/plain": [
              "<Figure size 640x480 with 2 Axes>"
            ],
            "image/png": "[encoded data removed]"
          },
          "metadata": {}
        }
      ]
    },
    {
      "cell_type": "code",
      "source": [],
      "metadata": {
        "id": "4jAc7ul4RUYG"
      },
      "execution_count": 77,
      "outputs": []
    }
  ]
}
